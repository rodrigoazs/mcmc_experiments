{
 "cells": [
  {
   "cell_type": "code",
   "execution_count": 36,
   "metadata": {
    "collapsed": true
   },
   "outputs": [],
   "source": [
    "import random\n",
    "import math\n",
    "\n",
    "def random_exp(lambda_c):\n",
    "    u = random.random()\n",
    "    return - math.log(1 - u) / lambda_c"
   ]
  },
  {
   "cell_type": "code",
   "execution_count": 49,
   "metadata": {
    "collapsed": false
   },
   "outputs": [
    {
     "data": {
      "text/plain": [
       "[0.0060288304762804844,\n",
       " 0.2710476704516792,\n",
       " 0.6105534633173834,\n",
       " 2.4527658891874724,\n",
       " 0.40791732676402986,\n",
       " 0.13689517070389973,\n",
       " 0.3557768419731424,\n",
       " 0.009293842006658502,\n",
       " 0.40126319879065225,\n",
       " 2.0329876850673285]"
      ]
     },
     "execution_count": 49,
     "metadata": {},
     "output_type": "execute_result"
    }
   ],
   "source": [
    "lambda_c = 2\n",
    "e = [random_exp(lambda_c) for i in range(10)]\n",
    "e"
   ]
  },
  {
   "cell_type": "code",
   "execution_count": 22,
   "metadata": {
    "collapsed": true
   },
   "outputs": [],
   "source": [
    "def random_pareto(x0, a):\n",
    "    u = random.random()\n",
    "    return (x0 ** a)/(1-u)"
   ]
  },
  {
   "cell_type": "code",
   "execution_count": 25,
   "metadata": {
    "collapsed": false
   },
   "outputs": [
    {
     "data": {
      "text/plain": [
       "[1.4442402321266927,\n",
       " 1.1410230220283335,\n",
       " 1.0482028495317466,\n",
       " 1.1064048416346723,\n",
       " 5.8535977467487355,\n",
       " 1.3629007229094174,\n",
       " 1.109675594000731,\n",
       " 2.7190535168704737,\n",
       " 3.921270764188507,\n",
       " 1.00274809356049]"
      ]
     },
     "execution_count": 25,
     "metadata": {},
     "output_type": "execute_result"
    }
   ],
   "source": [
    "x0 = 1\n",
    "a = 4\n",
    "t = [random_pareto(1, 2) for i in range(10)]\n",
    "t"
   ]
  },
  {
   "cell_type": "code",
   "execution_count": 51,
   "metadata": {
    "collapsed": false
   },
   "outputs": [
    {
     "data": {
      "text/plain": [
       "0.03442218763486394"
      ]
     },
     "execution_count": 51,
     "metadata": {},
     "output_type": "execute_result"
    }
   ],
   "source": [
    "numpy.random.pareto()"
   ]
  },
  {
   "cell_type": "code",
   "execution_count": null,
   "metadata": {
    "collapsed": true
   },
   "outputs": [],
   "source": []
  }
 ],
 "metadata": {
  "kernelspec": {
   "display_name": "Python 3",
   "language": "python",
   "name": "python3"
  },
  "language_info": {
   "codemirror_mode": {
    "name": "ipython",
    "version": 3
   },
   "file_extension": ".py",
   "mimetype": "text/x-python",
   "name": "python",
   "nbconvert_exporter": "python",
   "pygments_lexer": "ipython3",
   "version": "3.6.0"
  }
 },
 "nbformat": 4,
 "nbformat_minor": 2
}
