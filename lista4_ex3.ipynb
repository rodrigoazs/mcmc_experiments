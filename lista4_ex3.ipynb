{
 "cells": [
  {
   "cell_type": "code",
   "execution_count": 1,
   "metadata": {
    "collapsed": true
   },
   "outputs": [],
   "source": [
    "import random\n",
    "import math\n",
    "import matplotlib.pyplot as plt\n",
    "import numpy as np\n",
    "\n",
    "class Node:\n",
    "    def __init__(self, index):\n",
    "        self.edges = []\n",
    "        self.index = index\n",
    "        self.parent = None\n",
    "    \n",
    "    def add_edge(self, edge):\n",
    "        self.edges.append(edge)\n",
    "        \n",
    "    def add_parent(self, parent):\n",
    "        self.edges.append(parent)\n",
    "        self.parent = parent\n",
    "        \n",
    "class Graph:\n",
    "    def __init__(self):\n",
    "        self.nodes = []\n",
    "\n",
    "    def add_node(self, node):\n",
    "        self.nodes.append(node)\n",
    "\n",
    "n = 1000\n",
    "graph = Graph()\n",
    "root = Node(0)\n",
    "graph.add_node(root)\n",
    "\n",
    "def binary_tree(node):\n",
    "    if len(graph.nodes) < 1023:\n",
    "        left = Node(len(graph.nodes))\n",
    "        right = Node(len(graph.nodes)+1)\n",
    "        left.add_parent(node)\n",
    "        right.add_parent(node)\n",
    "        node.add_edge(left)\n",
    "        node.add_edge(right)\n",
    "        graph.add_node(left)\n",
    "        graph.add_node(right)\n",
    "        binary_tree(left)\n",
    "        binary_tree(right)"
   ]
  },
  {
   "cell_type": "code",
   "execution_count": 2,
   "metadata": {
    "collapsed": true
   },
   "outputs": [],
   "source": [
    "binary_tree(root)"
   ]
  },
  {
   "cell_type": "code",
   "execution_count": 19,
   "metadata": {
    "collapsed": false
   },
   "outputs": [],
   "source": [
    "pi_original = [0] * 1023         \n",
    "def binary_tree_original(node):\n",
    "    pi_original[node.index] = len(node.edges) / 1022\n",
    "    edges = list(set(node.edges).difference(set([node.parent])))\n",
    "    if len(edges) == 2:\n",
    "        binary_tree_original(edges[0])\n",
    "        binary_tree_original(edges[1])\n",
    "binary_tree_original(root)\n",
    "\n",
    "X = []\n",
    "y = []\n",
    "# random walk\n",
    "pi_e = [0] * 1023\n",
    "pi_0 = random.choice(graph.nodes)\n",
    "m = 0\n",
    "for i in range(50000000):\n",
    "    if random.random() < 0.5:\n",
    "        pi_0 = random.choice(pi_0.edges)\n",
    "    pi_e[pi_0.index] += 1\n",
    "    # estimate\n",
    "    #a = np.array(pi_e)/(i+1)\n",
    "    if i in [1, 10, 100, 1000, 10000] or m > 10000:\n",
    "        a = np.array(pi_e.copy())\n",
    "        a = a / np.sum(a)\n",
    "        a = sum(abs(a-pi_original))/2\n",
    "        X.append(i)\n",
    "        y.append(a)\n",
    "        m = 0\n",
    "    m += 1"
   ]
  },
  {
   "cell_type": "code",
   "execution_count": 20,
   "metadata": {
    "collapsed": true
   },
   "outputs": [],
   "source": [
    "X_anel = []\n",
    "y_anel = []\n",
    "pi_e = [0] * 1000   \n",
    "pi_original = [2/1000] * 1000\n",
    "pi_0 = random.randint(0,999)\n",
    "m = 0\n",
    "for i in range(50000000):\n",
    "    if random.random() < 0.5:\n",
    "        step = 1 if random.randint(0,1) == 1 else -1\n",
    "        pi_0 = (pi_0 + step) % 1000 # mod 1000\n",
    "    pi_e[pi_0] += 1\n",
    "    # estimate\n",
    "    #a = np.array(pi_e)/(i+1)\n",
    "    if i in [1, 10, 100, 1000, 10000] or m > 10000:\n",
    "        a = np.array(pi_e.copy())\n",
    "        a = a / np.sum(a)\n",
    "        a = sum(abs(a-pi_original))/2\n",
    "        X_anel.append(i)\n",
    "        y_anel.append(a)\n",
    "        m = 0\n",
    "    m += 1"
   ]
  },
  {
   "cell_type": "code",
   "execution_count": 21,
   "metadata": {
    "collapsed": false
   },
   "outputs": [
    {
     "data": {
      "image/png": "[encoded data removed]",
      "text/plain": [
       "<matplotlib.figure.Figure at 0x206e8ccdcf8>"
      ]
     },
     "metadata": {},
     "output_type": "display_data"
    }
   ],
   "source": [
    "plt.loglog(X_anel,y_anel, label='Anel')\n",
    "plt.loglog(X,y, label='Árvore binária completa')\n",
    "plt.legend()\n",
    "plt.show()"
   ]
  },
  {
   "cell_type": "code",
   "execution_count": 22,
   "metadata": {
    "collapsed": false
   },
   "outputs": [],
   "source": [
    "def to_moves(i,j):\n",
    "    moves = []\n",
    "    if i > 0:\n",
    "        moves.append([-1,0]) #left = 0 if i == 0 else 1\n",
    "    if i < 31:\n",
    "        moves.append([1,0]) #right = 0 if i == 31 else 1\n",
    "    if j > 0:\n",
    "        moves.append([0,-1]) #up = 0 if j == 0 else 1\n",
    "    if j < 31:\n",
    "        moves.append([0,1]) #down = 0 if j == 31 else 1\n",
    "    return moves\n",
    "\n",
    "def n_edges(i,j):\n",
    "    left = 0 if i == 0 else 1\n",
    "    right = 0 if i == 31 else 1\n",
    "    up = 0 if j == 0 else 1\n",
    "    down = 0 if j == 31 else 1\n",
    "    return left + right + up + down\n",
    "\n",
    "total_edges = (32-1)*32 + (32-1)*32\n",
    "matrix = np.zeros((32,32))\n",
    "X_grid = []\n",
    "y_grid = []\n",
    "pi_original = np.zeros((32,32))\n",
    "for i in range(32):\n",
    "    for j in range(32):\n",
    "        edges = n_edges(i,j)\n",
    "        pi_original[i][j] = edges/total_edges\n",
    "                   \n",
    "pi_e = np.zeros((32,32))\n",
    "pi_0 = [random.randint(0,31), random.randint(0,31)]\n",
    "m = 0\n",
    "for i in range(50000000):\n",
    "    if random.random() < 0.5:\n",
    "        r = random.choice(to_moves(pi_0[0],pi_0[1]))\n",
    "        pi_0 = [pi_0[0]+r[0], pi_0[1]+r[1]]\n",
    "    pi_e[pi_0[0]][pi_0[1]] += 1\n",
    "    # estimate\n",
    "    #a = np.array(pi_e)/(i+1)\n",
    "    if i in [1, 10, 100, 1000, 10000] or m > 10000:\n",
    "        a = np.array(pi_e.copy())\n",
    "        s = a.sum()\n",
    "        a = a / s\n",
    "        a = abs(a-pi_original)\n",
    "        a = a.sum() / 2\n",
    "        X_grid.append(i)\n",
    "        y_grid.append(a)\n",
    "        m = 0\n",
    "    m += 1"
   ]
  },
  {
   "cell_type": "code",
   "execution_count": 23,
   "metadata": {
    "collapsed": false
   },
   "outputs": [
    {
     "data": {
      "image/png": "[encoded data removed]",
      "text/plain": [
       "<matplotlib.figure.Figure at 0x206e86502b0>"
      ]
     },
     "metadata": {},
     "output_type": "display_data"
    }
   ],
   "source": [
    "plt.loglog(X_anel,y_anel, label='Anel')\n",
    "plt.loglog(X,y, label='Árvore binária completa')\n",
    "plt.loglog(X_grid,y_grid, label='Grid 2D')\n",
    "plt.legend()\n",
    "plt.show()"
   ]
  },
  {
   "cell_type": "code",
   "execution_count": null,
   "metadata": {
    "collapsed": true
   },
   "outputs": [],
   "source": []
  }
 ],
 "metadata": {
  "kernelspec": {
   "display_name": "Python 3",
   "language": "python",
   "name": "python3"
  },
  "language_info": {
   "codemirror_mode": {
    "name": "ipython",
    "version": 3
   },
   "file_extension": ".py",
   "mimetype": "text/x-python",
   "name": "python",
   "nbconvert_exporter": "python",
   "pygments_lexer": "ipython3",
   "version": "3.6.0"
  }
 },
 "nbformat": 4,
 "nbformat_minor": 2
}
