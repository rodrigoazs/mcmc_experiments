{
 "cells": [
  {
   "cell_type": "code",
   "execution_count": 1,
   "metadata": {
    "collapsed": true
   },
   "outputs": [],
   "source": [
    "#!/usr/bin/env python3\n",
    "# -*- coding: utf-8 -*-\n",
    "\"\"\"\n",
    "Created on Tue May 15 21:42:14 2018\n",
    "\n",
    "@author: rodrigoazs\n",
    "\"\"\"\n",
    "\n",
    "import numpy as np\n",
    "import random\n",
    "import math\n",
    "import matplotlib.pyplot as plt"
   ]
  },
  {
   "cell_type": "code",
   "execution_count": 36,
   "metadata": {
    "collapsed": true
   },
   "outputs": [],
   "source": [
    "E = 10**(-6)\n",
    "\n",
    "def tree(h):\n",
    "#h = 9\n",
    "    n = np.array([2**i for i in range(h+1)]).sum()\n",
    "\n",
    "    edges = n - 1        \n",
    "    pi_stacionary = ([3.0] * n) / (2*edges)\n",
    "\n",
    "    n_only_1_edge = 2**h - 1\n",
    "    pi_stacionary[0] = 2.0 / (2*edges)\n",
    "\n",
    "    for i in range(n_only_1_edge, len(pi_stacionary)):\n",
    "        pi_stacionary[i] = 1.0 / (2*edges)\n",
    "\n",
    "    pi_stacionary = np.matrix(pi_stacionary, 'float64')\n",
    "    P = np.zeros((n, n))\n",
    "    for i in range(n):\n",
    "        P[i][i] = 0.5\n",
    "        left = 2*i + 1\n",
    "        right = 2*i + 2\n",
    "        parent = math.floor((i-1)/2)\n",
    "        transitions = []\n",
    "        if left < n:\n",
    "            transitions.append(left)\n",
    "            transitions.append(right)\n",
    "        if parent >= 0:\n",
    "            transitions.append(parent)\n",
    "        for t in transitions:\n",
    "            P[i][t] = 0.5 / len(transitions)\n",
    "\n",
    "    P = np.matrix(P, 'float64')\n",
    "\n",
    "    pi_estimate = [0] * n\n",
    "\n",
    "    #X_arvore = []\n",
    "    #y_arvore = []\n",
    "    pi_0 = 0\n",
    "    pi_estimate[0] = 1\n",
    "\n",
    "    pi_estimate = np.matrix(pi_estimate, 'float64')\n",
    "    for i in range(5000000):\n",
    "        pi_estimate = pi_estimate * P\n",
    "        variancia = (abs(pi_estimate - pi_stacionary)).sum()/2\n",
    "        if variancia <= E:\n",
    "            return i+2\n",
    "    return i+2\n",
    "            #X_arvore.append(i+2)\n",
    "            #y_arvore.append(variancia)"
   ]
  },
  {
   "cell_type": "code",
   "execution_count": 37,
   "metadata": {
    "collapsed": true
   },
   "outputs": [],
   "source": [
    "def anel(n):\n",
    "\n",
    "    #n = 1000\n",
    "\n",
    "    edges = n       \n",
    "    pi_stacionary = np.matrix(([2] * n), 'float64') / (2*edges)\n",
    "\n",
    "    P = np.zeros((n, n))\n",
    "    for i in range(n):\n",
    "        P[i][i] = 0.5\n",
    "        left = (i - 1) % n\n",
    "        right = (i + 1) % n\n",
    "        transitions = []\n",
    "        transitions.append(left)\n",
    "        transitions.append(right)\n",
    "        for t in transitions:\n",
    "            P[i][t] = 0.5 / len(transitions)\n",
    "\n",
    "    P = np.matrix(P, 'float64')\n",
    "\n",
    "    pi_estimate = [0.0] * n\n",
    "\n",
    "    #X_anel = []\n",
    "    #y_anel = []\n",
    "    pi_estimate[0] = 1.0\n",
    "\n",
    "    pi_estimate = np.matrix(pi_estimate, 'float64')\n",
    "    for i in range(5000000):\n",
    "        pi_estimate = pi_estimate * P\n",
    "        variancia = (abs(pi_estimate - pi_stacionary)).sum()/2\n",
    "        if variancia <= E:\n",
    "            return i+2\n",
    "        #X_anel.append(i+2)\n",
    "        #y_anel.append(variancia)\n",
    "    return i+2"
   ]
  },
  {
   "cell_type": "code",
   "execution_count": 63,
   "metadata": {
    "collapsed": true
   },
   "outputs": [],
   "source": [
    "def grid(g):\n",
    "    #g = 32\n",
    "    n = g**2\n",
    "\n",
    "    edges = 2 * g * (g-1)      \n",
    "    pi_stacionary = [0.0] * n #np.matrix(([4] * n)) / (2*edges)\n",
    "    P = np.zeros((n, n))\n",
    "\n",
    "    for i in range(n):\n",
    "        transitions = []\n",
    "        left = i - 1\n",
    "        right = i + 1\n",
    "        up = i - g\n",
    "        down = i + g\n",
    "        if left >= 0 and left%g < (g-1):\n",
    "            transitions.append(left)\n",
    "        if right >= 0 and right%g > 0:\n",
    "            transitions.append(right)\n",
    "        if up >= 0 and up < n:\n",
    "            transitions.append(up)\n",
    "        if down >= 0 and down < n:\n",
    "            transitions.append(down)\n",
    "        pi_stacionary[i] = len(transitions)\n",
    "        P[i][i] = 0.5\n",
    "        for t in transitions:\n",
    "            P[i][t] = 0.5 / len(transitions)\n",
    "\n",
    "    pi_stacionary = np.matrix(pi_stacionary, 'float64') / (2*edges)\n",
    "\n",
    "    P = np.matrix(P, 'float64')\n",
    "\n",
    "    pi_estimate = [0.0] * n\n",
    "\n",
    "    #X_grid = []\n",
    "    #y_grid = []\n",
    "    pi_estimate[0] = 1.0\n",
    "\n",
    "    pi_estimate = np.matrix(pi_estimate, 'float64')\n",
    "    for i in range(5000000):\n",
    "        pi_estimate = pi_estimate * P\n",
    "        variancia = (abs(pi_estimate - pi_stacionary)).sum()/2\n",
    "        if variancia <= E:\n",
    "            return i+2\n",
    "        #X_grid.append(i+2)\n",
    "        #y_grid.append(variancia)\n",
    "    return i+2"
   ]
  },
  {
   "cell_type": "code",
   "execution_count": 89,
   "metadata": {
    "collapsed": false
   },
   "outputs": [],
   "source": [
    "# for rings\n",
    "n = [10,50,100,300,700,1000,3000,5000,10000]\n",
    "\n",
    "# for trees\n",
    "h = [2,5,6,7,8,9,10,11,12]\n",
    "\n",
    "# for grids\n",
    "g = [3,7,10,18,26,32,55,71,100]"
   ]
  },
  {
   "cell_type": "code",
   "execution_count": 40,
   "metadata": {
    "collapsed": false
   },
   "outputs": [
    {
     "name": "stdout",
     "output_type": "stream",
     "text": [
      "21\n",
      "113\n",
      "149\n",
      "185\n",
      "219\n",
      "251\n",
      "281\n",
      "308\n",
      "333\n"
     ]
    }
   ],
   "source": [
    "#for trees\n",
    "y_h = []\n",
    "for i in h:\n",
    "    t = tree(i)\n",
    "    y_h.append(t)\n",
    "    print(t)"
   ]
  },
  {
   "cell_type": "code",
   "execution_count": 47,
   "metadata": {
    "collapsed": false
   },
   "outputs": [
    {
     "name": "stdout",
     "output_type": "stream",
     "text": [
      "for i 3000\n",
      "5000001\n",
      "for i 5000\n"
     ]
    },
    {
     "ename": "KeyboardInterrupt",
     "evalue": "",
     "output_type": "error",
     "traceback": [
      "\u001b[0;31m---------------------------------------------------------------------------\u001b[0m",
      "\u001b[0;31mKeyboardInterrupt\u001b[0m                         Traceback (most recent call last)",
      "\u001b[0;32m<ipython-input-47-cef041a2a878>\u001b[0m in \u001b[0;36m<module>\u001b[0;34m()\u001b[0m\n\u001b[1;32m      3\u001b[0m \u001b[0;32mfor\u001b[0m \u001b[0mi\u001b[0m \u001b[0;32min\u001b[0m \u001b[0mrange\u001b[0m\u001b[0;34m(\u001b[0m\u001b[0;36m6\u001b[0m\u001b[0;34m,\u001b[0m\u001b[0mlen\u001b[0m\u001b[0;34m(\u001b[0m\u001b[0mn\u001b[0m\u001b[0;34m)\u001b[0m\u001b[0;34m)\u001b[0m\u001b[0;34m:\u001b[0m\u001b[0;34m\u001b[0m\u001b[0m\n\u001b[1;32m      4\u001b[0m     \u001b[0mprint\u001b[0m\u001b[0;34m(\u001b[0m\u001b[0;34m'for i '\u001b[0m \u001b[0;34m+\u001b[0m \u001b[0mstr\u001b[0m\u001b[0;34m(\u001b[0m\u001b[0mn\u001b[0m\u001b[0;34m[\u001b[0m\u001b[0mi\u001b[0m\u001b[0;34m]\u001b[0m\u001b[0;34m)\u001b[0m\u001b[0;34m)\u001b[0m\u001b[0;34m\u001b[0m\u001b[0m\n\u001b[0;32m----> 5\u001b[0;31m     \u001b[0mt\u001b[0m \u001b[0;34m=\u001b[0m \u001b[0manel\u001b[0m\u001b[0;34m(\u001b[0m\u001b[0mn\u001b[0m\u001b[0;34m[\u001b[0m\u001b[0mi\u001b[0m\u001b[0;34m]\u001b[0m\u001b[0;34m)\u001b[0m\u001b[0;34m\u001b[0m\u001b[0m\n\u001b[0m\u001b[1;32m      6\u001b[0m     \u001b[0my_n\u001b[0m\u001b[0;34m.\u001b[0m\u001b[0mappend\u001b[0m\u001b[0;34m(\u001b[0m\u001b[0mt\u001b[0m\u001b[0;34m)\u001b[0m\u001b[0;34m\u001b[0m\u001b[0m\n\u001b[1;32m      7\u001b[0m     \u001b[0mprint\u001b[0m\u001b[0;34m(\u001b[0m\u001b[0mt\u001b[0m\u001b[0;34m)\u001b[0m\u001b[0;34m\u001b[0m\u001b[0m\n",
      "\u001b[0;32m<ipython-input-37-32e6035e9622>\u001b[0m in \u001b[0;36manel\u001b[0;34m(n)\u001b[0m\n\u001b[1;32m     27\u001b[0m     \u001b[0mpi_estimate\u001b[0m \u001b[0;34m=\u001b[0m \u001b[0mnp\u001b[0m\u001b[0;34m.\u001b[0m\u001b[0mmatrix\u001b[0m\u001b[0;34m(\u001b[0m\u001b[0mpi_estimate\u001b[0m\u001b[0;34m,\u001b[0m \u001b[0;34m'float64'\u001b[0m\u001b[0;34m)\u001b[0m\u001b[0;34m\u001b[0m\u001b[0m\n\u001b[1;32m     28\u001b[0m     \u001b[0;32mfor\u001b[0m \u001b[0mi\u001b[0m \u001b[0;32min\u001b[0m \u001b[0mrange\u001b[0m\u001b[0;34m(\u001b[0m\u001b[0;36m5000000\u001b[0m\u001b[0;34m)\u001b[0m\u001b[0;34m:\u001b[0m\u001b[0;34m\u001b[0m\u001b[0m\n\u001b[0;32m---> 29\u001b[0;31m         \u001b[0mpi_estimate\u001b[0m \u001b[0;34m=\u001b[0m \u001b[0mpi_estimate\u001b[0m \u001b[0;34m*\u001b[0m \u001b[0mP\u001b[0m\u001b[0;34m\u001b[0m\u001b[0m\n\u001b[0m\u001b[1;32m     30\u001b[0m         \u001b[0mvariancia\u001b[0m \u001b[0;34m=\u001b[0m \u001b[0;34m(\u001b[0m\u001b[0mabs\u001b[0m\u001b[0;34m(\u001b[0m\u001b[0mpi_estimate\u001b[0m \u001b[0;34m-\u001b[0m \u001b[0mpi_stacionary\u001b[0m\u001b[0;34m)\u001b[0m\u001b[0;34m)\u001b[0m\u001b[0;34m.\u001b[0m\u001b[0msum\u001b[0m\u001b[0;34m(\u001b[0m\u001b[0;34m)\u001b[0m\u001b[0;34m/\u001b[0m\u001b[0;36m2\u001b[0m\u001b[0;34m\u001b[0m\u001b[0m\n\u001b[1;32m     31\u001b[0m         \u001b[0;32mif\u001b[0m \u001b[0mvariancia\u001b[0m \u001b[0;34m<=\u001b[0m \u001b[0mE\u001b[0m\u001b[0;34m:\u001b[0m\u001b[0;34m\u001b[0m\u001b[0m\n",
      "\u001b[0;32m/home/rodrigoazs/anaconda3/lib/python3.5/site-packages/numpy/matrixlib/defmatrix.py\u001b[0m in \u001b[0;36m__mul__\u001b[0;34m(self, other)\u001b[0m\n\u001b[1;32m    307\u001b[0m         \u001b[0;32mif\u001b[0m \u001b[0misinstance\u001b[0m\u001b[0;34m(\u001b[0m\u001b[0mother\u001b[0m\u001b[0;34m,\u001b[0m \u001b[0;34m(\u001b[0m\u001b[0mN\u001b[0m\u001b[0;34m.\u001b[0m\u001b[0mndarray\u001b[0m\u001b[0;34m,\u001b[0m \u001b[0mlist\u001b[0m\u001b[0;34m,\u001b[0m \u001b[0mtuple\u001b[0m\u001b[0;34m)\u001b[0m\u001b[0;34m)\u001b[0m \u001b[0;34m:\u001b[0m\u001b[0;34m\u001b[0m\u001b[0m\n\u001b[1;32m    308\u001b[0m             \u001b[0;31m# This promotes 1-D vectors to row vectors\u001b[0m\u001b[0;34m\u001b[0m\u001b[0;34m\u001b[0m\u001b[0m\n\u001b[0;32m--> 309\u001b[0;31m             \u001b[0;32mreturn\u001b[0m \u001b[0mN\u001b[0m\u001b[0;34m.\u001b[0m\u001b[0mdot\u001b[0m\u001b[0;34m(\u001b[0m\u001b[0mself\u001b[0m\u001b[0;34m,\u001b[0m \u001b[0masmatrix\u001b[0m\u001b[0;34m(\u001b[0m\u001b[0mother\u001b[0m\u001b[0;34m)\u001b[0m\u001b[0;34m)\u001b[0m\u001b[0;34m\u001b[0m\u001b[0m\n\u001b[0m\u001b[1;32m    310\u001b[0m         \u001b[0;32mif\u001b[0m \u001b[0misscalar\u001b[0m\u001b[0;34m(\u001b[0m\u001b[0mother\u001b[0m\u001b[0;34m)\u001b[0m \u001b[0;32mor\u001b[0m \u001b[0;32mnot\u001b[0m \u001b[0mhasattr\u001b[0m\u001b[0;34m(\u001b[0m\u001b[0mother\u001b[0m\u001b[0;34m,\u001b[0m \u001b[0;34m'__rmul__'\u001b[0m\u001b[0;34m)\u001b[0m \u001b[0;34m:\u001b[0m\u001b[0;34m\u001b[0m\u001b[0m\n\u001b[1;32m    311\u001b[0m             \u001b[0;32mreturn\u001b[0m \u001b[0mN\u001b[0m\u001b[0;34m.\u001b[0m\u001b[0mdot\u001b[0m\u001b[0;34m(\u001b[0m\u001b[0mself\u001b[0m\u001b[0;34m,\u001b[0m \u001b[0mother\u001b[0m\u001b[0;34m)\u001b[0m\u001b[0;34m\u001b[0m\u001b[0m\n",
      "\u001b[0;31mKeyboardInterrupt\u001b[0m: "
     ]
    }
   ],
   "source": [
    "#for rings\n",
    "y_n = [135,3385,13539,121863,663483,1354048]\n",
    "for i in range(6,len(n)):\n",
    "    print('for i ' + str(n[i]))\n",
    "    t = anel(n[i])\n",
    "    y_n.append(t)\n",
    "    print(t)"
   ]
  },
  {
   "cell_type": "code",
   "execution_count": 64,
   "metadata": {
    "collapsed": false
   },
   "outputs": [
    {
     "name": "stdout",
     "output_type": "stream",
     "text": [
      "for i 3\n",
      "58\n",
      "for i 7\n",
      "432\n",
      "for i 10\n",
      "944\n",
      "for i 18\n",
      "3280\n",
      "for i 26\n",
      "7027\n",
      "for i 32\n",
      "10764\n",
      "for i 55\n",
      "32445\n",
      "for i 71\n",
      "54409\n",
      "for i 100\n"
     ]
    },
    {
     "ename": "KeyboardInterrupt",
     "evalue": "",
     "output_type": "error",
     "traceback": [
      "\u001b[0;31m---------------------------------------------------------------------------\u001b[0m",
      "\u001b[0;31mKeyboardInterrupt\u001b[0m                         Traceback (most recent call last)",
      "\u001b[0;32m<ipython-input-64-52c7157e1a8b>\u001b[0m in \u001b[0;36m<module>\u001b[0;34m()\u001b[0m\n\u001b[1;32m      3\u001b[0m \u001b[0;32mfor\u001b[0m \u001b[0mi\u001b[0m \u001b[0;32min\u001b[0m \u001b[0mg\u001b[0m\u001b[0;34m:\u001b[0m\u001b[0;34m\u001b[0m\u001b[0m\n\u001b[1;32m      4\u001b[0m     \u001b[0mprint\u001b[0m\u001b[0;34m(\u001b[0m\u001b[0;34m'for i '\u001b[0m \u001b[0;34m+\u001b[0m \u001b[0mstr\u001b[0m\u001b[0;34m(\u001b[0m\u001b[0mi\u001b[0m\u001b[0;34m)\u001b[0m\u001b[0;34m)\u001b[0m\u001b[0;34m\u001b[0m\u001b[0m\n\u001b[0;32m----> 5\u001b[0;31m     \u001b[0mt\u001b[0m \u001b[0;34m=\u001b[0m \u001b[0mgrid\u001b[0m\u001b[0;34m(\u001b[0m\u001b[0mi\u001b[0m\u001b[0;34m)\u001b[0m\u001b[0;34m\u001b[0m\u001b[0m\n\u001b[0m\u001b[1;32m      6\u001b[0m     \u001b[0my_g\u001b[0m\u001b[0;34m.\u001b[0m\u001b[0mappend\u001b[0m\u001b[0;34m(\u001b[0m\u001b[0mt\u001b[0m\u001b[0;34m)\u001b[0m\u001b[0;34m\u001b[0m\u001b[0m\n\u001b[1;32m      7\u001b[0m     \u001b[0mprint\u001b[0m\u001b[0;34m(\u001b[0m\u001b[0mt\u001b[0m\u001b[0;34m)\u001b[0m\u001b[0;34m\u001b[0m\u001b[0m\n",
      "\u001b[0;32m<ipython-input-63-4ae39b958131>\u001b[0m in \u001b[0;36mgrid\u001b[0;34m(g)\u001b[0m\n\u001b[1;32m     38\u001b[0m     \u001b[0mpi_estimate\u001b[0m \u001b[0;34m=\u001b[0m \u001b[0mnp\u001b[0m\u001b[0;34m.\u001b[0m\u001b[0mmatrix\u001b[0m\u001b[0;34m(\u001b[0m\u001b[0mpi_estimate\u001b[0m\u001b[0;34m,\u001b[0m \u001b[0;34m'float64'\u001b[0m\u001b[0;34m)\u001b[0m\u001b[0;34m\u001b[0m\u001b[0m\n\u001b[1;32m     39\u001b[0m     \u001b[0;32mfor\u001b[0m \u001b[0mi\u001b[0m \u001b[0;32min\u001b[0m \u001b[0mrange\u001b[0m\u001b[0;34m(\u001b[0m\u001b[0;36m5000000\u001b[0m\u001b[0;34m)\u001b[0m\u001b[0;34m:\u001b[0m\u001b[0;34m\u001b[0m\u001b[0m\n\u001b[0;32m---> 40\u001b[0;31m         \u001b[0mpi_estimate\u001b[0m \u001b[0;34m=\u001b[0m \u001b[0mpi_estimate\u001b[0m \u001b[0;34m*\u001b[0m \u001b[0mP\u001b[0m\u001b[0;34m\u001b[0m\u001b[0m\n\u001b[0m\u001b[1;32m     41\u001b[0m         \u001b[0mvariancia\u001b[0m \u001b[0;34m=\u001b[0m \u001b[0;34m(\u001b[0m\u001b[0mabs\u001b[0m\u001b[0;34m(\u001b[0m\u001b[0mpi_estimate\u001b[0m \u001b[0;34m-\u001b[0m \u001b[0mpi_stacionary\u001b[0m\u001b[0;34m)\u001b[0m\u001b[0;34m)\u001b[0m\u001b[0;34m.\u001b[0m\u001b[0msum\u001b[0m\u001b[0;34m(\u001b[0m\u001b[0;34m)\u001b[0m\u001b[0;34m/\u001b[0m\u001b[0;36m2\u001b[0m\u001b[0;34m\u001b[0m\u001b[0m\n\u001b[1;32m     42\u001b[0m         \u001b[0;32mif\u001b[0m \u001b[0mvariancia\u001b[0m \u001b[0;34m<=\u001b[0m \u001b[0mE\u001b[0m\u001b[0;34m:\u001b[0m\u001b[0;34m\u001b[0m\u001b[0m\n",
      "\u001b[0;32m/home/rodrigoazs/anaconda3/lib/python3.5/site-packages/numpy/matrixlib/defmatrix.py\u001b[0m in \u001b[0;36m__mul__\u001b[0;34m(self, other)\u001b[0m\n\u001b[1;32m    307\u001b[0m         \u001b[0;32mif\u001b[0m \u001b[0misinstance\u001b[0m\u001b[0;34m(\u001b[0m\u001b[0mother\u001b[0m\u001b[0;34m,\u001b[0m \u001b[0;34m(\u001b[0m\u001b[0mN\u001b[0m\u001b[0;34m.\u001b[0m\u001b[0mndarray\u001b[0m\u001b[0;34m,\u001b[0m \u001b[0mlist\u001b[0m\u001b[0;34m,\u001b[0m \u001b[0mtuple\u001b[0m\u001b[0;34m)\u001b[0m\u001b[0;34m)\u001b[0m \u001b[0;34m:\u001b[0m\u001b[0;34m\u001b[0m\u001b[0m\n\u001b[1;32m    308\u001b[0m             \u001b[0;31m# This promotes 1-D vectors to row vectors\u001b[0m\u001b[0;34m\u001b[0m\u001b[0;34m\u001b[0m\u001b[0m\n\u001b[0;32m--> 309\u001b[0;31m             \u001b[0;32mreturn\u001b[0m \u001b[0mN\u001b[0m\u001b[0;34m.\u001b[0m\u001b[0mdot\u001b[0m\u001b[0;34m(\u001b[0m\u001b[0mself\u001b[0m\u001b[0;34m,\u001b[0m \u001b[0masmatrix\u001b[0m\u001b[0;34m(\u001b[0m\u001b[0mother\u001b[0m\u001b[0;34m)\u001b[0m\u001b[0;34m)\u001b[0m\u001b[0;34m\u001b[0m\u001b[0m\n\u001b[0m\u001b[1;32m    310\u001b[0m         \u001b[0;32mif\u001b[0m \u001b[0misscalar\u001b[0m\u001b[0;34m(\u001b[0m\u001b[0mother\u001b[0m\u001b[0;34m)\u001b[0m \u001b[0;32mor\u001b[0m \u001b[0;32mnot\u001b[0m \u001b[0mhasattr\u001b[0m\u001b[0;34m(\u001b[0m\u001b[0mother\u001b[0m\u001b[0;34m,\u001b[0m \u001b[0;34m'__rmul__'\u001b[0m\u001b[0;34m)\u001b[0m \u001b[0;34m:\u001b[0m\u001b[0;34m\u001b[0m\u001b[0m\n\u001b[1;32m    311\u001b[0m             \u001b[0;32mreturn\u001b[0m \u001b[0mN\u001b[0m\u001b[0;34m.\u001b[0m\u001b[0mdot\u001b[0m\u001b[0;34m(\u001b[0m\u001b[0mself\u001b[0m\u001b[0;34m,\u001b[0m \u001b[0mother\u001b[0m\u001b[0;34m)\u001b[0m\u001b[0;34m\u001b[0m\u001b[0m\n",
      "\u001b[0;31mKeyboardInterrupt\u001b[0m: "
     ]
    }
   ],
   "source": [
    "#for grids\n",
    "y_g = [58,432,944,3280,7027,10764,32445,54409]\n",
    "for i in g:\n",
    "    print('for i ' + str(i))\n",
    "    t = grid(i)\n",
    "    y_g.append(t)\n",
    "    print(t)"
   ]
  },
  {
   "cell_type": "code",
   "execution_count": null,
   "metadata": {
    "collapsed": true
   },
   "outputs": [],
   "source": [
    "plt.loglog(n, y_n, label='Anel')\n",
    "plt.loglog(h, y_h, label='Árvore binária cheia')\n",
    "plt.loglog(g, y_g, label='Grid 2D')\n",
    "plt.legend()\n",
    "plt.show()"
   ]
  },
  {
   "cell_type": "code",
   "execution_count": 35,
   "metadata": {
    "collapsed": false
   },
   "outputs": [
    {
     "name": "stdout",
     "output_type": "stream",
     "text": [
      "2\n",
      "3\n",
      "4\n",
      "5\n",
      "6\n",
      "7\n",
      "8\n",
      "9\n",
      "10\n",
      "11\n",
      "12\n",
      "13\n",
      "14\n",
      "15\n",
      "16\n",
      "17\n",
      "18\n",
      "19\n",
      "20\n"
     ]
    },
    {
     "data": {
      "image/png": "[encoded data removed]",
      "text/plain": [
       "<matplotlib.figure.Figure at 0x7fbeece7bf60>"
      ]
     },
     "metadata": {},
     "output_type": "display_data"
    }
   ],
   "source": [
    "plots = []\n",
    "for i in range(16):\n",
    "    plots.append(int(10**i))\n",
    "    plots.append(int(1/4 * 10**i))\n",
    "    plots.append(int(2/4 * 10**i))\n",
    "    plots.append(int(3/4 * 10**i))\n",
    "    \n",
    "h = 2\n",
    "n = np.array([2**i for i in range(h+1)]).sum()\n",
    "\n",
    "edges = n - 1        \n",
    "pi_stacionary = ([3.0] * n) / (2*edges)\n",
    "\n",
    "n_only_1_edge = 2**h - 1\n",
    "pi_stacionary[0] = 2.0 / (2*edges)\n",
    "\n",
    "for i in range(n_only_1_edge, len(pi_stacionary)):\n",
    "    pi_stacionary[i] = 1.0 / (2*edges)\n",
    "\n",
    "pi_stacionary = np.matrix(pi_stacionary, 'float64')\n",
    "P = np.zeros((n, n))\n",
    "for i in range(n):\n",
    "    P[i][i] = 0.5\n",
    "    left = 2*i + 1\n",
    "    right = 2*i + 2\n",
    "    parent = math.floor((i-1)/2)\n",
    "    transitions = []\n",
    "    if left < n:\n",
    "        transitions.append(left)\n",
    "        transitions.append(right)\n",
    "    if parent >= 0:\n",
    "        transitions.append(parent)\n",
    "    for t in transitions:\n",
    "        P[i][t] = 0.5 / len(transitions)\n",
    "\n",
    "P = np.matrix(P, 'float64')\n",
    "\n",
    "pi_estimate = [0] * n\n",
    "\n",
    "X_arvore = []\n",
    "y_arvore = []\n",
    "pi_0 = 0\n",
    "pi_estimate[0] = 1\n",
    "\n",
    "pi_estimate = np.matrix(pi_estimate, 'float64')\n",
    "for i in range(50000):\n",
    "    pi_estimate = pi_estimate * P\n",
    "    #if (i+2) in plots:\n",
    "    variancia = (abs(pi_estimate - pi_stacionary)).sum()/2\n",
    "    if variancia > 10**(-6):\n",
    "        print(i+2)\n",
    "    X_arvore.append(i+2)\n",
    "    y_arvore.append(variancia)\n",
    "\n",
    "plt.loglog(X_arvore, y_arvore, label='Árvore binária cheia')\n",
    "plt.legend()\n",
    "plt.show()"
   ]
  },
  {
   "cell_type": "code",
   "execution_count": 52,
   "metadata": {
    "collapsed": false
   },
   "outputs": [],
   "source": [
    "    g = 32\n",
    "    n = g**2\n",
    "\n",
    "    edges = 2 * g * (g-1)      \n",
    "    pi_stacionary = [0.0] * n #np.matrix(([4] * n)) / (2*edges)\n",
    "    P = np.zeros((n, n))\n",
    "\n",
    "    for i in range(n):\n",
    "        transitions = []\n",
    "        left = i - 1\n",
    "        right = i + 1\n",
    "        up = i - g\n",
    "        down = i + g\n",
    "        if left >= 0 and left%g < (g-1):\n",
    "            transitions.append(left)\n",
    "        if right >= 0 and right%g > 0:\n",
    "            transitions.append(right)\n",
    "        if up >= 0 and up < n:\n",
    "            transitions.append(up)\n",
    "        if down >= 0 and down < n:\n",
    "            transitions.append(down)\n",
    "        pi_stacionary[i] = len(transitions)\n",
    "        P[i][i] = 0.5\n",
    "        for t in transitions:\n",
    "            P[i][t] = 0.5 / len(transitions)\n",
    "\n",
    "    pi_stacionary = np.matrix(pi_stacionary, 'float64') / (2*edges)\n",
    "\n",
    "    P = np.matrix(P, 'float64')"
   ]
  },
  {
   "cell_type": "code",
   "execution_count": 54,
   "metadata": {
    "collapsed": false
   },
   "outputs": [
    {
     "data": {
      "text/plain": [
       "matrix([[0.0012276 , 0.00183785, 0.00182723, ..., 0.00015915, 0.00015649,\n",
       "         0.00010373],\n",
       "        [0.00122523, 0.00183433, 0.00182382, ..., 0.00015999, 0.00015736,\n",
       "         0.00010432],\n",
       "        [0.00121816, 0.00182382, 0.00181355, ..., 0.00016257, 0.00015999,\n",
       "         0.0001061 ],\n",
       "        ...,\n",
       "        [0.0001061 , 0.00015999, 0.00016257, ..., 0.00181355, 0.00182382,\n",
       "         0.00121816],\n",
       "        [0.00010432, 0.00015736, 0.00015999, ..., 0.00182382, 0.00183433,\n",
       "         0.00122523],\n",
       "        [0.00010373, 0.00015649, 0.00015915, ..., 0.00182723, 0.00183785,\n",
       "         0.0012276 ]])"
      ]
     },
     "execution_count": 54,
     "metadata": {},
     "output_type": "execute_result"
    }
   ],
   "source": [
    "P**1000"
   ]
  },
  {
   "cell_type": "code",
   "execution_count": 65,
   "metadata": {
    "collapsed": true
   },
   "outputs": [],
   "source": [
    "    g = 100\n",
    "    n = g**2\n",
    "\n",
    "    edges = 2 * g * (g-1)      \n",
    "    pi_stacionary = [0.0] * n #np.matrix(([4] * n)) / (2*edges)\n",
    "    P = np.zeros((n, n))\n",
    "\n",
    "    for i in range(n):\n",
    "        transitions = []\n",
    "        left = i - 1\n",
    "        right = i + 1\n",
    "        up = i - g\n",
    "        down = i + g\n",
    "        if left >= 0 and left%g < (g-1):\n",
    "            transitions.append(left)\n",
    "        if right >= 0 and right%g > 0:\n",
    "            transitions.append(right)\n",
    "        if up >= 0 and up < n:\n",
    "            transitions.append(up)\n",
    "        if down >= 0 and down < n:\n",
    "            transitions.append(down)\n",
    "        pi_stacionary[i] = len(transitions)\n",
    "        P[i][i] = 0.5\n",
    "        for t in transitions:\n",
    "            P[i][t] = 0.5 / len(transitions)\n",
    "\n",
    "    pi_stacionary = np.matrix(pi_stacionary, 'float64') / (2*edges)\n",
    "\n",
    "    P = np.matrix(P, 'float64')\n",
    "\n",
    "    pi_estimate = [0.0] * n"
   ]
  },
  {
   "cell_type": "code",
   "execution_count": 66,
   "metadata": {
    "collapsed": true
   },
   "outputs": [],
   "source": [
    "    pi_estimate[0] = 1.0\n",
    "\n",
    "    pi_estimate = np.matrix(pi_estimate, 'float64')\n",
    "    variancia = (abs(pi_estimate - pi_stacionary)).sum()/2"
   ]
  },
  {
   "cell_type": "code",
   "execution_count": 67,
   "metadata": {
    "collapsed": false
   },
   "outputs": [
    {
     "data": {
      "text/plain": [
       "0.9999494949494945"
      ]
     },
     "execution_count": 67,
     "metadata": {},
     "output_type": "execute_result"
    }
   ],
   "source": [
    "variancia"
   ]
  },
  {
   "cell_type": "code",
   "execution_count": 73,
   "metadata": {
    "collapsed": false
   },
   "outputs": [],
   "source": [
    "A=P**10000000"
   ]
  },
  {
   "cell_type": "code",
   "execution_count": 74,
   "metadata": {
    "collapsed": false
   },
   "outputs": [
    {
     "data": {
      "text/plain": [
       "matrix([[5.05050505e-05, 7.57575758e-05, 7.57575758e-05, ...,\n",
       "         7.57575758e-05, 7.57575758e-05, 5.05050505e-05],\n",
       "        [5.05050505e-05, 7.57575758e-05, 7.57575758e-05, ...,\n",
       "         7.57575758e-05, 7.57575758e-05, 5.05050505e-05],\n",
       "        [5.05050505e-05, 7.57575758e-05, 7.57575758e-05, ...,\n",
       "         7.57575758e-05, 7.57575758e-05, 5.05050505e-05],\n",
       "        ...,\n",
       "        [5.05050505e-05, 7.57575758e-05, 7.57575758e-05, ...,\n",
       "         7.57575758e-05, 7.57575758e-05, 5.05050505e-05],\n",
       "        [5.05050505e-05, 7.57575758e-05, 7.57575758e-05, ...,\n",
       "         7.57575758e-05, 7.57575758e-05, 5.05050505e-05],\n",
       "        [5.05050505e-05, 7.57575758e-05, 7.57575758e-05, ...,\n",
       "         7.57575758e-05, 7.57575758e-05, 5.05050505e-05]])"
      ]
     },
     "execution_count": 74,
     "metadata": {},
     "output_type": "execute_result"
    }
   ],
   "source": [
    "A"
   ]
  },
  {
   "cell_type": "code",
   "execution_count": 75,
   "metadata": {
    "collapsed": true
   },
   "outputs": [],
   "source": [
    "z = pi_estimate * A"
   ]
  },
  {
   "cell_type": "code",
   "execution_count": 76,
   "metadata": {
    "collapsed": true
   },
   "outputs": [],
   "source": [
    "variancia = (abs(z - pi_stacionary)).sum()/2"
   ]
  },
  {
   "cell_type": "code",
   "execution_count": 77,
   "metadata": {
    "collapsed": false
   },
   "outputs": [
    {
     "data": {
      "text/plain": [
       "1.4995051868352564e-11"
      ]
     },
     "execution_count": 77,
     "metadata": {},
     "output_type": "execute_result"
    }
   ],
   "source": [
    "variancia"
   ]
  },
  {
   "cell_type": "code",
   "execution_count": 78,
   "metadata": {
    "collapsed": false
   },
   "outputs": [
    {
     "data": {
      "text/plain": [
       "[135, 3385, 13539, 121863, 663483, 1354048, 5000001]"
      ]
     },
     "execution_count": 78,
     "metadata": {},
     "output_type": "execute_result"
    }
   ],
   "source": [
    "y_n"
   ]
  },
  {
   "cell_type": "code",
   "execution_count": 79,
   "metadata": {
    "collapsed": false
   },
   "outputs": [
    {
     "data": {
      "text/plain": [
       "[58, 432, 944, 3280, 7027, 10764, 32445, 54409]"
      ]
     },
     "execution_count": 79,
     "metadata": {},
     "output_type": "execute_result"
    }
   ],
   "source": [
    "y_g"
   ]
  },
  {
   "cell_type": "code",
   "execution_count": 80,
   "metadata": {
    "collapsed": false
   },
   "outputs": [
    {
     "data": {
      "text/plain": [
       "[21, 113, 149, 185, 219, 251, 281, 308, 333]"
      ]
     },
     "execution_count": 80,
     "metadata": {},
     "output_type": "execute_result"
    }
   ],
   "source": [
    "y_h"
   ]
  },
  {
   "cell_type": "code",
   "execution_count": 96,
   "metadata": {
    "collapsed": false
   },
   "outputs": [
    {
     "data": {
      "image/png": "[encoded data removed]",
      "text/plain": [
       "<matplotlib.figure.Figure at 0x7fbeed0aac18>"
      ]
     },
     "metadata": {},
     "output_type": "display_data"
    }
   ],
   "source": [
    "plt.loglog(n[:7], y_n, label='Anel')\n",
    "plt.loglog(h, y_h, label='Árvore binária cheia')\n",
    "plt.loglog(g[:8], y_g, label='Grid 2D')\n",
    "plt.legend(loc=4)\n",
    "plt.show()"
   ]
  },
  {
   "cell_type": "code",
   "execution_count": 90,
   "metadata": {
    "collapsed": false
   },
   "outputs": [
    {
     "data": {
      "text/plain": [
       "[10, 50, 100, 300, 700, 1000, 3000, 5000, 10000]"
      ]
     },
     "execution_count": 90,
     "metadata": {},
     "output_type": "execute_result"
    }
   ],
   "source": [
    "n"
   ]
  },
  {
   "cell_type": "code",
   "execution_count": 1,
   "metadata": {
    "collapsed": true
   },
   "outputs": [],
   "source": [
    "def n_g(g):\n",
    "    n = g**2\n",
    "    return n\n",
    "\n",
    "def n_h(h):\n",
    "    n = np.array([2**i for i in range(h+1)]).sum()\n",
    "    return n"
   ]
  },
  {
   "cell_type": "code",
   "execution_count": 3,
   "metadata": {
    "collapsed": true
   },
   "outputs": [],
   "source": [
    "y_a = [135, 3385, 13539, 121863, 663483, 1354048]\n",
    "y_g = [58, 432, 944, 3280, 7027, 10764, 32445, 54409]\n",
    "y_h = [21, 113, 149, 185, 219, 251, 281, 308, 333]"
   ]
  },
  {
   "cell_type": "code",
   "execution_count": 4,
   "metadata": {
    "collapsed": true
   },
   "outputs": [],
   "source": [
    "# for rings\n",
    "a = [10,50,100,300,700,1000]\n",
    "\n",
    "# for trees\n",
    "h = [2,5,6,7,8,9,10,11,12]\n",
    "\n",
    "# for grids\n",
    "g = [3,7,10,18,26,32,55,71]"
   ]
  },
  {
   "cell_type": "code",
   "execution_count": 8,
   "metadata": {
    "collapsed": false
   },
   "outputs": [],
   "source": [
    "import numpy as np\n",
    "x_a = [i for i in a]\n",
    "x_h = [n_h(i) for i in h]\n",
    "x_g = [n_g(i) for i in g]"
   ]
  },
  {
   "cell_type": "code",
   "execution_count": 11,
   "metadata": {
    "collapsed": false
   },
   "outputs": [
    {
     "data": {
      "text/plain": [
       "[10, 50, 100, 300, 700, 1000]"
      ]
     },
     "execution_count": 11,
     "metadata": {},
     "output_type": "execute_result"
    }
   ],
   "source": [
    "x_a"
   ]
  },
  {
   "cell_type": "code",
   "execution_count": 12,
   "metadata": {
    "collapsed": false
   },
   "outputs": [
    {
     "data": {
      "text/plain": [
       "[7, 63, 127, 255, 511, 1023, 2047, 4095, 8191]"
      ]
     },
     "execution_count": 12,
     "metadata": {},
     "output_type": "execute_result"
    }
   ],
   "source": [
    "x_h"
   ]
  },
  {
   "cell_type": "code",
   "execution_count": 13,
   "metadata": {
    "collapsed": false
   },
   "outputs": [
    {
     "data": {
      "text/plain": [
       "[9, 49, 100, 324, 676, 1024, 3025, 5041]"
      ]
     },
     "execution_count": 13,
     "metadata": {},
     "output_type": "execute_result"
    }
   ],
   "source": [
    "x_g"
   ]
  },
  {
   "cell_type": "code",
   "execution_count": 15,
   "metadata": {
    "collapsed": false
   },
   "outputs": [
    {
     "data": {
      "image/png": "[encoded data removed]",
      "text/plain": [
       "<matplotlib.figure.Figure at 0x219c15b7278>"
      ]
     },
     "metadata": {},
     "output_type": "display_data"
    }
   ],
   "source": [
    "import matplotlib.pyplot as plt\n",
    "plt.loglog(x_a, y_a, label='Anel')\n",
    "plt.loglog(x_h, y_h, label='Árvore binária cheia')\n",
    "plt.loglog(x_g, y_g, label='Grid 2D')\n",
    "plt.legend(loc=4)\n",
    "plt.show()"
   ]
  },
  {
   "cell_type": "code",
   "execution_count": null,
   "metadata": {
    "collapsed": true
   },
   "outputs": [],
   "source": []
  }
 ],
 "metadata": {
  "anaconda-cloud": {},
  "kernelspec": {
   "display_name": "Python 3",
   "language": "python",
   "name": "python3"
  },
  "language_info": {
   "codemirror_mode": {
    "name": "ipython",
    "version": 3
   },
   "file_extension": ".py",
   "mimetype": "text/x-python",
   "name": "python",
   "nbconvert_exporter": "python",
   "pygments_lexer": "ipython3",
   "version": "3.6.0"
  }
 },
 "nbformat": 4,
 "nbformat_minor": 1
}
