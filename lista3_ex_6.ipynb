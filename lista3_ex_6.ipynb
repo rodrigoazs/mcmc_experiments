{
 "cells": [
  {
   "cell_type": "code",
   "execution_count": 1,
   "metadata": {
    "collapsed": true
   },
   "outputs": [],
   "source": [
    "import random\n",
    "\n",
    "def rand_subset(k=4, size=100):\n",
    "    permuta = [i for i in range(size)]\n",
    "    N = size\n",
    "    r_set = []\n",
    "    for i in range(k):\n",
    "        j = random.randint(0, N-1)\n",
    "        temp = permuta[j]\n",
    "        permuta[j] = permuta[N-1]\n",
    "        permuta[N-1] = temp\n",
    "        N -= 1\n",
    "        r_set.append(temp)\n",
    "    return r_set"
   ]
  },
  {
   "cell_type": "code",
   "execution_count": 13,
   "metadata": {
    "collapsed": false
   },
   "outputs": [
    {
     "data": {
      "text/plain": [
       "[88, 57, 97, 76]"
      ]
     },
     "execution_count": 13,
     "metadata": {},
     "output_type": "execute_result"
    }
   ],
   "source": [
    "rand_subset()"
   ]
  },
  {
   "cell_type": "code",
   "execution_count": null,
   "metadata": {
    "collapsed": true
   },
   "outputs": [],
   "source": []
  }
 ],
 "metadata": {
  "kernelspec": {
   "display_name": "Python 3",
   "language": "python",
   "name": "python3"
  },
  "language_info": {
   "codemirror_mode": {
    "name": "ipython",
    "version": 3
   },
   "file_extension": ".py",
   "mimetype": "text/x-python",
   "name": "python",
   "nbconvert_exporter": "python",
   "pygments_lexer": "ipython3",
   "version": "3.6.0"
  }
 },
 "nbformat": 4,
 "nbformat_minor": 2
}
