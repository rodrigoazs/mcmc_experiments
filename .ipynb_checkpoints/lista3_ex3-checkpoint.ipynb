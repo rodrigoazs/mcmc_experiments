{
 "cells": [
  {
   "cell_type": "code",
   "execution_count": 51,
   "metadata": {
    "collapsed": false
   },
   "outputs": [],
   "source": [
    "import requests\n",
    "from random import randint\n",
    "import numpy as np\n",
    "import json\n",
    "\n",
    "with open('domains.json', 'r') as fp:\n",
    "    data = json.load(fp)\n",
    "\n",
    "k=4\n",
    "probs = [26**i for i in range(1, k+1)]\n",
    "total = 0\n",
    "cumulative = []\n",
    "for i in probs:\n",
    "    total += i\n",
    "    cumulative.append(total)\n",
    "    \n",
    "def experiment(n=1000):\n",
    "    exists = 0  \n",
    "    for i in range(n):\n",
    "        draw = randint(1, total)\n",
    "        for j in range(len(cumulative)):\n",
    "            if draw <= cumulative[j]:\n",
    "                r = get_random_domain(j+1)\n",
    "                if get_status(r) == 1:\n",
    "                    #print('Found domain www.' + r + '.ufrj.br')\n",
    "                    exists += 1\n",
    "    return exists\n",
    "   \n",
    "def get_random_domain(k):\n",
    "    ret = ''\n",
    "    for i in range(k):\n",
    "        ret += chr(randint(0,25) + 97)\n",
    "    return ret\n",
    "\n",
    "def get_status_fake(string):\n",
    "    r = random.random()\n",
    "    return 1 if r < 0.05 else 0\n",
    "    \n",
    "def get_status(string):\n",
    "    if string in data:\n",
    "        return data[string]\n",
    "    else:\n",
    "        try:\n",
    "            url = 'http://www.' + string + '.ufrj.br'\n",
    "            r = requests.head(url)\n",
    "            return 1 if r.status_code == 200 else 0\n",
    "        except:\n",
    "            return 0"
   ]
  },
  {
   "cell_type": "code",
   "execution_count": 8,
   "metadata": {
    "collapsed": false
   },
   "outputs": [
    {
     "data": {
      "text/plain": [
       "'yx'"
      ]
     },
     "execution_count": 8,
     "metadata": {},
     "output_type": "execute_result"
    }
   ],
   "source": [
    "get_random_domain(2)"
   ]
  },
  {
   "cell_type": "code",
   "execution_count": 13,
   "metadata": {
    "collapsed": false
   },
   "outputs": [
    {
     "data": {
      "text/plain": [
       "1"
      ]
     },
     "execution_count": 13,
     "metadata": {},
     "output_type": "execute_result"
    }
   ],
   "source": [
    "get_status('nce')"
   ]
  },
  {
   "cell_type": "code",
   "execution_count": 87,
   "metadata": {
    "collapsed": false
   },
   "outputs": [],
   "source": [
    "import matplotlib.pyplot as plt\n",
    "\n",
    "x = np.arange(0, 10**5+500, 500)\n",
    "y = [0]\n",
    "#plt.plot(x, y)\n",
    "#plt.show()"
   ]
  },
  {
   "cell_type": "code",
   "execution_count": 88,
   "metadata": {
    "collapsed": false
   },
   "outputs": [
    {
     "name": "stdout",
     "output_type": "stream",
     "text": [
      "For n=500 found 0, estimate 0.0\n",
      "For n=1000 found 0, estimate 0.0\n",
      "For n=1500 found 1, estimate 316.836\n",
      "For n=2000 found 0, estimate 0.0\n",
      "For n=2500 found 0, estimate 0.0\n",
      "For n=3000 found 1, estimate 158.418\n",
      "For n=3500 found 0, estimate 0.0\n",
      "For n=4000 found 1, estimate 118.8135\n",
      "For n=4500 found 2, estimate 211.224\n",
      "For n=5000 found 0, estimate 0.0\n",
      "For n=5500 found 0, estimate 0.0\n",
      "For n=6000 found 2, estimate 158.418\n",
      "For n=6500 found 0, estimate 0.0\n",
      "For n=7000 found 0, estimate 0.0\n",
      "For n=7500 found 1, estimate 63.3672\n",
      "For n=8000 found 2, estimate 118.8135\n",
      "For n=8500 found 2, estimate 111.824470588\n",
      "For n=9000 found 5, estimate 264.03\n",
      "For n=9500 found 0, estimate 0.0\n",
      "For n=10000 found 2, estimate 95.0508\n",
      "For n=10500 found 0, estimate 0.0\n",
      "For n=11000 found 0, estimate 0.0\n",
      "For n=11500 found 2, estimate 82.6528695652\n",
      "For n=12000 found 4, estimate 158.418\n",
      "For n=12500 found 1, estimate 38.02032\n",
      "For n=13000 found 1, estimate 36.558\n",
      "For n=13500 found 3, estimate 105.612\n",
      "For n=14000 found 0, estimate 0.0\n",
      "For n=14500 found 3, estimate 98.3284137931\n",
      "For n=15000 found 3, estimate 95.0508\n",
      "For n=15500 found 1, estimate 30.6615483871\n",
      "For n=16000 found 2, estimate 59.40675\n",
      "For n=16500 found 8, estimate 230.426181818\n",
      "For n=17000 found 5, estimate 139.780588235\n",
      "For n=17500 found 2, estimate 54.3147428571\n",
      "For n=18000 found 4, estimate 105.612\n",
      "For n=18500 found 5, estimate 128.447027027\n",
      "For n=19000 found 5, estimate 125.066842105\n",
      "For n=19500 found 1, estimate 24.372\n",
      "For n=20000 found 5, estimate 118.8135\n",
      "For n=20500 found 4, estimate 92.7324878049\n",
      "For n=21000 found 4, estimate 90.5245714286\n",
      "For n=21500 found 2, estimate 44.2096744186\n",
      "For n=22000 found 2, estimate 43.2049090909\n",
      "For n=22500 found 4, estimate 84.4896\n",
      "For n=23000 found 7, estimate 144.642521739\n",
      "For n=23500 found 5, estimate 101.11787234\n",
      "For n=24000 found 6, estimate 118.8135\n",
      "For n=24500 found 4, estimate 77.5924897959\n",
      "For n=25000 found 7, estimate 133.07112\n",
      "For n=25500 found 7, estimate 130.461882353\n",
      "For n=26000 found 8, estimate 146.232\n",
      "For n=26500 found 5, estimate 89.6705660377\n",
      "For n=27000 found 9, estimate 158.418\n",
      "For n=27500 found 3, estimate 51.8458909091\n",
      "For n=28000 found 4, estimate 67.8934285714\n",
      "For n=28500 found 6, estimate 100.053473684\n",
      "For n=29000 found 7, estimate 114.716482759\n",
      "For n=29500 found 3, estimate 48.3309152542\n",
      "For n=30000 found 4, estimate 63.3672\n",
      "For n=30500 found 5, estimate 77.9104918033\n",
      "For n=31000 found 7, estimate 107.315419355\n",
      "For n=31500 found 3, estimate 45.2622857143\n",
      "For n=32000 found 3, estimate 44.5550625\n",
      "For n=32500 found 6, estimate 87.7392\n",
      "For n=33000 found 4, estimate 57.6065454545\n",
      "For n=33500 found 8, estimate 113.493492537\n",
      "For n=34000 found 8, estimate 111.824470588\n",
      "For n=34500 found 9, estimate 123.979304348\n",
      "For n=35000 found 4, estimate 54.3147428571\n",
      "For n=35500 found 4, estimate 53.5497464789\n",
      "For n=36000 found 8, estimate 105.612\n",
      "For n=36500 found 4, estimate 52.082630137\n",
      "For n=37000 found 6, estimate 77.0682162162\n",
      "For n=37500 found 5, estimate 63.3672\n",
      "For n=38000 found 4, estimate 50.0267368421\n",
      "For n=38500 found 8, estimate 98.7540779221\n",
      "For n=39000 found 7, estimate 85.302\n",
      "For n=39500 found 11, estimate 132.34921519\n",
      "For n=40000 found 7, estimate 83.16945\n",
      "For n=40500 found 4, estimate 46.9386666667\n",
      "For n=41000 found 4, estimate 46.3662439024\n",
      "For n=41500 found 7, estimate 80.1633253012\n",
      "For n=42000 found 14, estimate 158.418\n",
      "For n=42500 found 9, estimate 100.642023529\n",
      "For n=43000 found 9, estimate 99.4717674419\n",
      "For n=43500 found 5, estimate 54.6268965517\n",
      "For n=44000 found 5, estimate 54.0061363636\n",
      "For n=44500 found 11, estimate 117.478516854\n",
      "For n=45000 found 3, estimate 31.6836\n",
      "For n=45500 found 8, estimate 83.5611428571\n",
      "For n=46000 found 8, estimate 82.6528695652\n",
      "For n=46500 found 10, estimate 102.20516129\n",
      "For n=47000 found 6, estimate 60.6707234043\n",
      "For n=47500 found 3, estimate 30.0160421053\n",
      "For n=48000 found 10, estimate 99.01125\n",
      "For n=48500 found 8, estimate 78.3924123711\n",
      "For n=49000 found 7, estimate 67.8934285714\n",
      "For n=49500 found 3, estimate 28.8032727273\n",
      "For n=50000 found 5, estimate 47.5254\n",
      "For n=50500 found 9, estimate 84.6987326733\n",
      "For n=51000 found 2, estimate 18.6374117647\n",
      "For n=51500 found 8, estimate 73.8258640777\n",
      "For n=52000 found 6, estimate 54.837\n",
      "For n=52500 found 5, estimate 45.2622857143\n",
      "For n=53000 found 11, estimate 98.6376226415\n",
      "For n=53500 found 15, estimate 133.248785047\n",
      "For n=54000 found 7, estimate 61.607\n",
      "For n=54500 found 4, estimate 34.8810275229\n",
      "For n=55000 found 9, estimate 77.7688363636\n",
      "For n=55500 found 14, estimate 119.883891892\n",
      "For n=56000 found 7, estimate 59.40675\n",
      "For n=56500 found 6, estimate 50.4694513274\n",
      "For n=57000 found 9, estimate 75.0401052632\n",
      "For n=57500 found 7, estimate 57.8570086957\n",
      "For n=58000 found 7, estimate 57.3582413793\n",
      "For n=58500 found 7, estimate 56.868\n",
      "For n=59000 found 15, estimate 120.827288136\n",
      "For n=59500 found 13, estimate 103.837008403\n",
      "For n=60000 found 13, estimate 102.9717\n",
      "For n=60500 found 10, estimate 78.5543801653\n",
      "For n=61000 found 10, estimate 77.9104918033\n",
      "For n=61500 found 14, estimate 108.187902439\n",
      "For n=62000 found 9, estimate 68.988483871\n",
      "For n=62500 found 9, estimate 68.436576\n",
      "For n=63000 found 16, estimate 120.699428571\n",
      "For n=63500 found 16, estimate 119.74903937\n",
      "For n=64000 found 11, estimate 81.68428125\n",
      "For n=64500 found 12, estimate 88.4193488372\n",
      "For n=65000 found 9, estimate 65.8044\n",
      "For n=65500 found 11, estimate 79.813648855\n",
      "For n=66000 found 9, estimate 64.8073636364\n",
      "For n=66500 found 20, estimate 142.933533835\n",
      "For n=67000 found 13, estimate 92.2134626866\n",
      "For n=67500 found 10, estimate 70.408\n",
      "For n=68000 found 10, estimate 69.8902941176\n",
      "For n=68500 found 12, estimate 83.2561751825\n",
      "For n=69000 found 11, estimate 75.7651304348\n",
      "For n=69500 found 10, estimate 68.3818705036\n",
      "For n=70000 found 13, estimate 88.2614571429\n",
      "For n=70500 found 7, estimate 47.1883404255\n",
      "For n=71000 found 14, estimate 93.712056338\n",
      "For n=71500 found 18, estimate 119.644363636\n",
      "For n=72000 found 14, estimate 92.4105\n",
      "For n=72500 found 11, estimate 72.1075034483\n",
      "For n=73000 found 15, estimate 97.6549315068\n",
      "For n=73500 found 8, estimate 51.7283265306\n",
      "For n=74000 found 6, estimate 38.5341081081\n",
      "For n=74500 found 9, estimate 57.4132348993\n",
      "For n=75000 found 16, estimate 101.38752\n",
      "For n=75500 found 13, estimate 81.8318145695\n",
      "For n=76000 found 18, estimate 112.560157895\n",
      "For n=76500 found 9, estimate 55.9122352941\n",
      "For n=77000 found 11, estimate 67.8934285714\n",
      "For n=77500 found 15, estimate 91.9846451613\n",
      "For n=78000 found 10, estimate 60.93\n",
      "For n=78500 found 10, estimate 60.541910828\n",
      "For n=79000 found 10, estimate 60.1587341772\n",
      "For n=79500 found 10, estimate 59.7803773585\n",
      "For n=80000 found 13, estimate 77.228775\n",
      "For n=80500 found 20, estimate 118.07552795\n",
      "For n=81000 found 13, estimate 76.2753333333\n",
      "For n=81500 found 8, estimate 46.6506993865\n",
      "For n=82000 found 13, estimate 75.3451463415\n",
      "For n=82500 found 14, estimate 80.6491636364\n",
      "For n=83000 found 14, estimate 80.1633253012\n",
      "For n=83500 found 15, estimate 85.3749700599\n",
      "For n=84000 found 16, estimate 90.5245714286\n",
      "For n=84500 found 17, estimate 95.6132307692\n",
      "For n=85000 found 14, estimate 78.2771294118\n",
      "For n=85500 found 16, estimate 88.9364210526\n",
      "For n=86000 found 20, estimate 110.524186047\n",
      "For n=86500 found 16, estimate 87.9082543353\n",
      "For n=87000 found 11, estimate 60.0895862069\n",
      "For n=87500 found 13, estimate 70.6091657143\n",
      "For n=88000 found 17, estimate 91.8104318182\n",
      "For n=88500 found 9, estimate 48.3309152542\n",
      "For n=89000 found 20, estimate 106.798651685\n",
      "For n=89500 found 12, estimate 63.7212067039\n",
      "For n=90000 found 17, estimate 89.7702\n",
      "For n=90500 found 17, estimate 89.2742320442\n",
      "For n=91000 found 18, estimate 94.0062857143\n",
      "For n=91500 found 14, estimate 72.7164590164\n",
      "For n=92000 found 16, estimate 82.6528695652\n",
      "For n=92500 found 19, estimate 97.6197405405\n",
      "For n=93000 found 13, estimate 66.4333548387\n",
      "For n=93500 found 15, estimate 76.2439572193\n",
      "For n=94000 found 24, estimate 121.341446809\n",
      "For n=94500 found 23, estimate 115.670285714\n",
      "For n=95000 found 16, estimate 80.0427789474\n",
      "For n=95500 found 15, estimate 74.6472251309\n",
      "For n=96000 found 24, estimate 118.8135\n",
      "For n=96500 found 15, estimate 73.8736787565\n",
      "For n=97000 found 20, estimate 97.9905154639\n",
      "For n=97500 found 15, estimate 73.116\n",
      "For n=98000 found 13, estimate 63.0438979592\n",
      "For n=98500 found 17, estimate 82.0235329949\n",
      "For n=99000 found 16, estimate 76.8087272727\n",
      "For n=99500 found 17, estimate 81.1991758794\n",
      "For n=100000 found 18, estimate 85.54572\n"
     ]
    }
   ],
   "source": [
    "for i in range(1, len(x)):\n",
    "    n = experiment(x[i])\n",
    "    t = n / x[i] * total\n",
    "    y.append(t)\n",
    "    print('For n='+str(x[i])+' found '+str(n)+ ', estimate '+str(t))"
   ]
  },
  {
   "cell_type": "code",
   "execution_count": 89,
   "metadata": {
    "collapsed": false
   },
   "outputs": [
    {
     "data": {
      "image/png": "[encoded data removed]",
      "text/plain": [
       "<matplotlib.figure.Figure at 0x247f8c65e10>"
      ]
     },
     "metadata": {},
     "output_type": "display_data"
    }
   ],
   "source": [
    "plt.plot(x, y)\n",
    "plt.show()"
   ]
  },
  {
   "cell_type": "code",
   "execution_count": 91,
   "metadata": {
    "collapsed": false
   },
   "outputs": [
    {
     "data": {
      "image/png": "[encoded data removed]",
      "text/plain": [
       "<matplotlib.figure.Figure at 0x247fbc2f208>"
      ]
     },
     "metadata": {},
     "output_type": "display_data"
    }
   ],
   "source": [
    "plt.plot(x[:21], y[:21])\n",
    "plt.show()"
   ]
  },
  {
   "cell_type": "code",
   "execution_count": 93,
   "metadata": {
    "collapsed": false
   },
   "outputs": [
    {
     "data": {
      "text/plain": [
       "16316.738551662189"
      ]
     },
     "execution_count": 93,
     "metadata": {},
     "output_type": "execute_result"
    }
   ],
   "source": [
    "np.sum(y)"
   ]
  },
  {
   "cell_type": "code",
   "execution_count": null,
   "metadata": {
    "collapsed": true
   },
   "outputs": [],
   "source": []
  }
 ],
 "metadata": {
  "anaconda-cloud": {},
  "kernelspec": {
   "display_name": "Python [default]",
   "language": "python",
   "name": "python3"
  },
  "language_info": {
   "codemirror_mode": {
    "name": "ipython",
    "version": 3
   },
   "file_extension": ".py",
   "mimetype": "text/x-python",
   "name": "python",
   "nbconvert_exporter": "python",
   "pygments_lexer": "ipython3",
   "version": "3.5.2"
  }
 },
 "nbformat": 4,
 "nbformat_minor": 2
}
