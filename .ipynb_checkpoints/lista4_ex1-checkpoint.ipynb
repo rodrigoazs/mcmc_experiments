{
 "cells": [
  {
   "cell_type": "code",
   "execution_count": 1,
   "metadata": {
    "collapsed": true
   },
   "outputs": [],
   "source": [
    "from sympy import *\n",
    "from sympy.solvers.solveset import linsolve"
   ]
  },
  {
   "cell_type": "code",
   "execution_count": 2,
   "metadata": {
    "collapsed": true
   },
   "outputs": [],
   "source": [
    "from sympy import init_printing\n",
    "init_printing()"
   ]
  },
  {
   "cell_type": "code",
   "execution_count": 3,
   "metadata": {
    "collapsed": true
   },
   "outputs": [],
   "source": [
    "p0, p1, p2 , pi1, pi2 ,pi3 ,pi4, pi5 , pi6 = symbols('p0 p1 p2 pi1 pi2 pi3 pi4 pi5 pi6')"
   ]
  },
  {
   "cell_type": "code",
   "execution_count": 4,
   "metadata": {
    "collapsed": true
   },
   "outputs": [],
   "source": [
    "P = Matrix([[1-p0*p0, 0, 0, p0*p0, 0, 0, 1],\n",
    "            [p1*(1-p0), 1-p1, 0, 0, p0*p1, 0, 1],\n",
    "            [p2*(1-p0), 0, 1-p2, 0, p0*p2, 0, 1],\n",
    "            [0, 2*p1*(1-p1), 0, (1-p1)*(1-p1), 0, p1*p1, 1],\n",
    "            [0, p2*(1-p1), 0, 0, 1-p2, p1*p2, 1],\n",
    "            [0, 0, 2*p2*(1-p2), 0, 0, (1-p2)*(1-p2)+p2*p2, 1]])"
   ]
  },
  {
   "cell_type": "code",
   "execution_count": 5,
   "metadata": {
    "collapsed": false
   },
   "outputs": [
    {
     "data": {
      "text/latex": [
       "$$\\left[\\begin{matrix}- p_{0}^{2} + 1 & 0 & 0 & p_{0}^{2} & 0 & 0 & 1\\\\p_{1} \\left(- p_{0} + 1\\right) & - p_{1} + 1 & 0 & 0 & p_{0} p_{1} & 0 & 1\\\\p_{2} \\left(- p_{0} + 1\\right) & 0 & - p_{2} + 1 & 0 & p_{0} p_{2} & 0 & 1\\\\0 & 2 p_{1} \\left(- p_{1} + 1\\right) & 0 & \\left(- p_{1} + 1\\right)^{2} & 0 & p_{1}^{2} & 1\\\\0 & p_{2} \\left(- p_{1} + 1\\right) & 0 & 0 & - p_{2} + 1 & p_{1} p_{2} & 1\\\\0 & 0 & 2 p_{2} \\left(- p_{2} + 1\\right) & 0 & 0 & p_{2}^{2} + \\left(- p_{2} + 1\\right)^{2} & 1\\end{matrix}\\right]$$"
      ],
      "text/plain": [
       "⎡     2                                             2                         \n",
       "⎢ - p₀  + 1          0               0            p₀          0            0  \n",
       "⎢                                                                             \n",
       "⎢p₁⋅(-p₀ + 1)     -p₁ + 1            0             0        p₀⋅p₁          0  \n",
       "⎢                                                                             \n",
       "⎢p₂⋅(-p₀ + 1)        0            -p₂ + 1          0        p₀⋅p₂          0  \n",
       "⎢                                                                             \n",
       "⎢                                                       2                   2 \n",
       "⎢     0        2⋅p₁⋅(-p₁ + 1)        0         (-p₁ + 1)      0           p₁  \n",
       "⎢                                                                             \n",
       "⎢     0         p₂⋅(-p₁ + 1)         0             0       -p₂ + 1       p₁⋅p₂\n",
       "⎢                                                                             \n",
       "⎢                                                                     2       \n",
       "⎣     0              0         2⋅p₂⋅(-p₂ + 1)      0          0     p₂  + (-p₂\n",
       "\n",
       "         ⎤\n",
       "        1⎥\n",
       "         ⎥\n",
       "        1⎥\n",
       "         ⎥\n",
       "        1⎥\n",
       "         ⎥\n",
       "         ⎥\n",
       "        1⎥\n",
       "         ⎥\n",
       "        1⎥\n",
       "         ⎥\n",
       "     2   ⎥\n",
       " + 1)   1⎦"
      ]
     },
     "execution_count": 5,
     "metadata": {},
     "output_type": "execute_result"
    }
   ],
   "source": [
    "P"
   ]
  },
  {
   "cell_type": "code",
   "execution_count": 9,
   "metadata": {
    "collapsed": true
   },
   "outputs": [],
   "source": [
    "Est = Matrix([[pi1, pi2, pi3, pi4, pi5, pi6]])"
   ]
  },
  {
   "cell_type": "code",
   "execution_count": 10,
   "metadata": {
    "collapsed": false
   },
   "outputs": [
    {
     "data": {
      "text/latex": [
       "$$\\left[\\begin{matrix}\\pi_{1} & \\pi_{2} & \\pi_{3} & \\pi_{4} & \\pi_{5} & \\pi_{6}\\end{matrix}\\right]$$"
      ],
      "text/plain": [
       "[π₁  π₂  π₃  π₄  π₅  π₆]"
      ]
     },
     "execution_count": 10,
     "metadata": {},
     "output_type": "execute_result"
    }
   ],
   "source": [
    "Est"
   ]
  },
  {
   "cell_type": "code",
   "execution_count": 11,
   "metadata": {
    "collapsed": false
   },
   "outputs": [
    {
     "data": {
      "image/png": "[encoded data removed]",
      "text/latex": [
       "$$\\left \\{ \\pi_{1} : \\frac{2 p_{1} p_{2} \\left(p_{0} - 1\\right) \\left(p_{1} \\left(p_{2} - 1\\right) \\left(- 2 p_{0} p_{1} + 2 p_{0} + p_{1}\\right) \\left(- p_{0} p_{1} + p_{0} + 1\\right) + \\left(p_{1} - 1\\right) \\left(p_{0} \\left(- 2 p_{0} p_{1} + 2 p_{0} + p_{1}\\right) \\left(p_{1} p_{2} - p_{1} - 2 p_{2} + 2\\right) + 2 \\left(p_{0} - 1\\right) \\left(p_{0} \\left(p_{1} - 1\\right) \\left(p_{1} p_{2} - p_{1} - 2 p_{2} + 2\\right) + p_{1} \\left(p_{2} - 1\\right) \\left(- p_{0} p_{1} + p_{0} + 1\\right)\\right)\\right)\\right)}{2 p_{0} \\left(p_{2} \\left(p_{0} - 1\\right) \\left(p_{0}^{2} - 2 \\left(p_{1} - 1\\right) \\left(p_{0}^{2} - p_{0} p_{1} + p_{1}\\right)\\right) \\left(p_{1} - 1\\right) + \\left(p_{0}^{2} p_{1} - p_{2} \\left(p_{1} - 1\\right) \\left(p_{0}^{2} - p_{0} p_{1} + p_{1}\\right)\\right) \\left(- 2 p_{0} p_{1} + 2 p_{0} + p_{1}\\right)\\right) \\left(p_{1} p_{2} - p_{1} - 2 p_{2} + 2\\right) + p_{1} \\left(p_{1} \\left(p_{0}^{2} - 2 \\left(p_{2} - 1\\right) \\left(p_{0}^{2} - p_{0} p_{2} + p_{2}\\right)\\right) \\left(- 2 p_{0} p_{1} + 2 p_{0} + p_{1}\\right) + 2 p_{2} \\left(p_{0} - 1\\right) \\left(p_{0}^{2} - 2 \\left(p_{1} - 1\\right) \\left(p_{0}^{2} - p_{0} p_{1} + p_{1}\\right)\\right) \\left(p_{2} - 1\\right)\\right) \\left(- p_{0} p_{1} + p_{0} + 1\\right)}, \\quad \\pi_{2} : - \\frac{2 p_{0}^{2} p_{2} \\left(p_{1} - 1\\right) \\left(p_{0} \\left(- 2 p_{0} p_{1} + 2 p_{0} + p_{1}\\right) \\left(p_{1} p_{2} - p_{1} - 2 p_{2} + 2\\right) + 2 \\left(p_{0} - 1\\right) \\left(p_{0} \\left(p_{1} - 1\\right) \\left(p_{1} p_{2} - p_{1} - 2 p_{2} + 2\\right) + p_{1} \\left(p_{2} - 1\\right) \\left(- p_{0} p_{1} + p_{0} + 1\\right)\\right)\\right)}{2 p_{0} \\left(p_{2} \\left(p_{0} - 1\\right) \\left(p_{0}^{2} - 2 \\left(p_{1} - 1\\right) \\left(p_{0}^{2} - p_{0} p_{1} + p_{1}\\right)\\right) \\left(p_{1} - 1\\right) + \\left(p_{0}^{2} p_{1} - p_{2} \\left(p_{1} - 1\\right) \\left(p_{0}^{2} - p_{0} p_{1} + p_{1}\\right)\\right) \\left(- 2 p_{0} p_{1} + 2 p_{0} + p_{1}\\right)\\right) \\left(p_{1} p_{2} - p_{1} - 2 p_{2} + 2\\right) + p_{1} \\left(p_{1} \\left(p_{0}^{2} - 2 \\left(p_{2} - 1\\right) \\left(p_{0}^{2} - p_{0} p_{2} + p_{2}\\right)\\right) \\left(- 2 p_{0} p_{1} + 2 p_{0} + p_{1}\\right) + 2 p_{2} \\left(p_{0} - 1\\right) \\left(p_{0}^{2} - 2 \\left(p_{1} - 1\\right) \\left(p_{0}^{2} - p_{0} p_{1} + p_{1}\\right)\\right) \\left(p_{2} - 1\\right)\\right) \\left(- p_{0} p_{1} + p_{0} + 1\\right)}, \\quad \\pi_{3} : - \\frac{2 p_{0}^{2} p_{1}^{2} \\left(p_{2} - 1\\right) \\left(- 2 p_{0} p_{1} + 2 p_{0} + p_{1}\\right) \\left(- p_{0} p_{1} + p_{0} + 1\\right)}{2 p_{0} \\left(p_{2} \\left(p_{0} - 1\\right) \\left(p_{0}^{2} - 2 \\left(p_{1} - 1\\right) \\left(p_{0}^{2} - p_{0} p_{1} + p_{1}\\right)\\right) \\left(p_{1} - 1\\right) + \\left(p_{0}^{2} p_{1} - p_{2} \\left(p_{1} - 1\\right) \\left(p_{0}^{2} - p_{0} p_{1} + p_{1}\\right)\\right) \\left(- 2 p_{0} p_{1} + 2 p_{0} + p_{1}\\right)\\right) \\left(p_{1} p_{2} - p_{1} - 2 p_{2} + 2\\right) + p_{1} \\left(p_{1} \\left(p_{0}^{2} - 2 \\left(p_{2} - 1\\right) \\left(p_{0}^{2} - p_{0} p_{2} + p_{2}\\right)\\right) \\left(- 2 p_{0} p_{1} + 2 p_{0} + p_{1}\\right) + 2 p_{2} \\left(p_{0} - 1\\right) \\left(p_{0}^{2} - 2 \\left(p_{1} - 1\\right) \\left(p_{0}^{2} - p_{0} p_{1} + p_{1}\\right)\\right) \\left(p_{2} - 1\\right)\\right) \\left(- p_{0} p_{1} + p_{0} + 1\\right)}, \\quad \\pi_{4} : \\frac{2 p_{0}^{2} p_{2} \\left(p_{0} - 1\\right) \\left(p_{0} \\left(p_{1} - 1\\right) \\left(p_{1} p_{2} - p_{1} - 2 p_{2} + 2\\right) + p_{1} \\left(p_{2} - 1\\right) \\left(- p_{0} p_{1} + p_{0} + 1\\right)\\right)}{2 p_{0} \\left(p_{2} \\left(p_{0} - 1\\right) \\left(p_{0}^{2} - 2 \\left(p_{1} - 1\\right) \\left(p_{0}^{2} - p_{0} p_{1} + p_{1}\\right)\\right) \\left(p_{1} - 1\\right) + \\left(p_{0}^{2} p_{1} - p_{2} \\left(p_{1} - 1\\right) \\left(p_{0}^{2} - p_{0} p_{1} + p_{1}\\right)\\right) \\left(- 2 p_{0} p_{1} + 2 p_{0} + p_{1}\\right)\\right) \\left(p_{1} p_{2} - p_{1} - 2 p_{2} + 2\\right) + p_{1} \\left(p_{1} \\left(p_{0}^{2} - 2 \\left(p_{2} - 1\\right) \\left(p_{0}^{2} - p_{0} p_{2} + p_{2}\\right)\\right) \\left(- 2 p_{0} p_{1} + 2 p_{0} + p_{1}\\right) + 2 p_{2} \\left(p_{0} - 1\\right) \\left(p_{0}^{2} - 2 \\left(p_{1} - 1\\right) \\left(p_{0}^{2} - p_{0} p_{1} + p_{1}\\right)\\right) \\left(p_{2} - 1\\right)\\right) \\left(- p_{0} p_{1} + p_{0} + 1\\right)}, \\quad \\pi_{5} : \\frac{2 p_{0}^{3} p_{1} \\left(- 2 p_{0} p_{1} + 2 p_{0} + p_{1}\\right) \\left(p_{1} p_{2} - p_{1} - 2 p_{2} + 2\\right)}{2 p_{0} \\left(p_{2} \\left(p_{0} - 1\\right) \\left(p_{0}^{2} - 2 \\left(p_{1} - 1\\right) \\left(p_{0}^{2} - p_{0} p_{1} + p_{1}\\right)\\right) \\left(p_{1} - 1\\right) + \\left(p_{0}^{2} p_{1} - p_{2} \\left(p_{1} - 1\\right) \\left(p_{0}^{2} - p_{0} p_{1} + p_{1}\\right)\\right) \\left(- 2 p_{0} p_{1} + 2 p_{0} + p_{1}\\right)\\right) \\left(p_{1} p_{2} - p_{1} - 2 p_{2} + 2\\right) + p_{1} \\left(p_{1} \\left(p_{0}^{2} - 2 \\left(p_{2} - 1\\right) \\left(p_{0}^{2} - p_{0} p_{2} + p_{2}\\right)\\right) \\left(- 2 p_{0} p_{1} + 2 p_{0} + p_{1}\\right) + 2 p_{2} \\left(p_{0} - 1\\right) \\left(p_{0}^{2} - 2 \\left(p_{1} - 1\\right) \\left(p_{0}^{2} - p_{0} p_{1} + p_{1}\\right)\\right) \\left(p_{2} - 1\\right)\\right) \\left(- p_{0} p_{1} + p_{0} + 1\\right)}, \\quad \\pi_{6} : \\frac{p_{0}^{2} p_{1}^{2} \\left(- 2 p_{0} p_{1} + 2 p_{0} + p_{1}\\right) \\left(- p_{0} p_{1} + p_{0} + 1\\right)}{2 p_{0} \\left(p_{2} \\left(p_{0} - 1\\right) \\left(p_{0}^{2} - 2 \\left(p_{1} - 1\\right) \\left(p_{0}^{2} - p_{0} p_{1} + p_{1}\\right)\\right) \\left(p_{1} - 1\\right) + \\left(p_{0}^{2} p_{1} - p_{2} \\left(p_{1} - 1\\right) \\left(p_{0}^{2} - p_{0} p_{1} + p_{1}\\right)\\right) \\left(- 2 p_{0} p_{1} + 2 p_{0} + p_{1}\\right)\\right) \\left(p_{1} p_{2} - p_{1} - 2 p_{2} + 2\\right) + p_{1} \\left(p_{1} \\left(p_{0}^{2} - 2 \\left(p_{2} - 1\\right) \\left(p_{0}^{2} - p_{0} p_{2} + p_{2}\\right)\\right) \\left(- 2 p_{0} p_{1} + 2 p_{0} + p_{1}\\right) + 2 p_{2} \\left(p_{0} - 1\\right) \\left(p_{0}^{2} - 2 \\left(p_{1} - 1\\right) \\left(p_{0}^{2} - p_{0} p_{1} + p_{1}\\right)\\right) \\left(p_{2} - 1\\right)\\right) \\left(- p_{0} p_{1} + p_{0} + 1\\right)}\\right \\}$$"
      ],
      "text/plain": [
       "⎧                                                                             \n",
       "⎪                                                 2⋅p₁⋅p₂⋅(p₀ - 1)⋅(p₁⋅(p₂ - 1\n",
       "⎨π₁: ─────────────────────────────────────────────────────────────────────────\n",
       "⎪         ⎛            ⎛  2              ⎛  2             ⎞⎞            ⎛  2  \n",
       "⎩    2⋅p₀⋅⎝p₂⋅(p₀ - 1)⋅⎝p₀  - 2⋅(p₁ - 1)⋅⎝p₀  - p₀⋅p₁ + p₁⎠⎠⋅(p₁ - 1) + ⎝p₀ ⋅p\n",
       "\n",
       "                                                                              \n",
       ")⋅(-2⋅p₀⋅p₁ + 2⋅p₀ + p₁)⋅(-p₀⋅p₁ + p₀ + 1) + (p₁ - 1)⋅(p₀⋅(-2⋅p₀⋅p₁ + 2⋅p₀ + p\n",
       "──────────────────────────────────────────────────────────────────────────────\n",
       "                ⎛  2             ⎞⎞                       ⎞                   \n",
       "₁ - p₂⋅(p₁ - 1)⋅⎝p₀  - p₀⋅p₁ + p₁⎠⎠⋅(-2⋅p₀⋅p₁ + 2⋅p₀ + p₁)⎠⋅(p₁⋅p₂ - p₁ - 2⋅p₂\n",
       "\n",
       "                                                                              \n",
       "₁)⋅(p₁⋅p₂ - p₁ - 2⋅p₂ + 2) + 2⋅(p₀ - 1)⋅(p₀⋅(p₁ - 1)⋅(p₁⋅p₂ - p₁ - 2⋅p₂ + 2) +\n",
       "──────────────────────────────────────────────────────────────────────────────\n",
       "           ⎛   ⎛  2              ⎛  2             ⎞⎞                          \n",
       " + 2) + p₁⋅⎝p₁⋅⎝p₀  - 2⋅(p₂ - 1)⋅⎝p₀  - p₀⋅p₂ + p₂⎠⎠⋅(-2⋅p₀⋅p₁ + 2⋅p₀ + p₁) + \n",
       "\n",
       "                                                                              \n",
       " p₁⋅(p₂ - 1)⋅(-p₀⋅p₁ + p₀ + 1))))                                             \n",
       "──────────────────────────────────────────────────────────────────────────────\n",
       "              ⎛  2              ⎛  2             ⎞⎞         ⎞                 \n",
       "2⋅p₂⋅(p₀ - 1)⋅⎝p₀  - 2⋅(p₁ - 1)⋅⎝p₀  - p₀⋅p₁ + p₁⎠⎠⋅(p₂ - 1)⎠⋅(-p₀⋅p₁ + p₀ + 1\n",
       "\n",
       "                                                                              \n",
       "                                                                              \n",
       "─, π₂: ───────────────────────────────────────────────────────────────────────\n",
       "            ⎛            ⎛  2              ⎛  2             ⎞⎞            ⎛  2\n",
       ")      2⋅p₀⋅⎝p₂⋅(p₀ - 1)⋅⎝p₀  - 2⋅(p₁ - 1)⋅⎝p₀  - p₀⋅p₁ + p₁⎠⎠⋅(p₁ - 1) + ⎝p₀ \n",
       "\n",
       "           2                                                                  \n",
       "      -2⋅p₀ ⋅p₂⋅(p₁ - 1)⋅(p₀⋅(-2⋅p₀⋅p₁ + 2⋅p₀ + p₁)⋅(p₁⋅p₂ - p₁ - 2⋅p₂ + 2) + \n",
       "──────────────────────────────────────────────────────────────────────────────\n",
       "                  ⎛  2             ⎞⎞                       ⎞                 \n",
       "⋅p₁ - p₂⋅(p₁ - 1)⋅⎝p₀  - p₀⋅p₁ + p₁⎠⎠⋅(-2⋅p₀⋅p₁ + 2⋅p₀ + p₁)⎠⋅(p₁⋅p₂ - p₁ - 2⋅\n",
       "\n",
       "                                                                              \n",
       "2⋅(p₀ - 1)⋅(p₀⋅(p₁ - 1)⋅(p₁⋅p₂ - p₁ - 2⋅p₂ + 2) + p₁⋅(p₂ - 1)⋅(-p₀⋅p₁ + p₀ + 1\n",
       "──────────────────────────────────────────────────────────────────────────────\n",
       "             ⎛   ⎛  2              ⎛  2             ⎞⎞                        \n",
       "p₂ + 2) + p₁⋅⎝p₁⋅⎝p₀  - 2⋅(p₂ - 1)⋅⎝p₀  - p₀⋅p₂ + p₂⎠⎠⋅(-2⋅p₀⋅p₁ + 2⋅p₀ + p₁) \n",
       "\n",
       "                                                                              \n",
       ")))                                                                           \n",
       "──────────────────────────────────────────────────────────────────────────────\n",
       "                ⎛  2              ⎛  2             ⎞⎞         ⎞               \n",
       "+ 2⋅p₂⋅(p₀ - 1)⋅⎝p₀  - 2⋅(p₁ - 1)⋅⎝p₀  - p₀⋅p₁ + p₁⎠⎠⋅(p₂ - 1)⎠⋅(-p₀⋅p₁ + p₀ +\n",
       "\n",
       "                                                                              \n",
       "                                                                              \n",
       "───, π₃: ─────────────────────────────────────────────────────────────────────\n",
       "              ⎛            ⎛  2              ⎛  2             ⎞⎞            ⎛ \n",
       " 1)      2⋅p₀⋅⎝p₂⋅(p₀ - 1)⋅⎝p₀  - 2⋅(p₁ - 1)⋅⎝p₀  - p₀⋅p₁ + p₁⎠⎠⋅(p₁ - 1) + ⎝p\n",
       "\n",
       "                                                           2   2              \n",
       "                                                      -2⋅p₀ ⋅p₁ ⋅(p₂ - 1)⋅(-2⋅\n",
       "──────────────────────────────────────────────────────────────────────────────\n",
       " 2                  ⎛  2             ⎞⎞                       ⎞               \n",
       "₀ ⋅p₁ - p₂⋅(p₁ - 1)⋅⎝p₀  - p₀⋅p₁ + p₁⎠⎠⋅(-2⋅p₀⋅p₁ + 2⋅p₀ + p₁)⎠⋅(p₁⋅p₂ - p₁ - \n",
       "\n",
       "                                                                              \n",
       "p₀⋅p₁ + 2⋅p₀ + p₁)⋅(-p₀⋅p₁ + p₀ + 1)                                          \n",
       "──────────────────────────────────────────────────────────────────────────────\n",
       "               ⎛   ⎛  2              ⎛  2             ⎞⎞                      \n",
       "2⋅p₂ + 2) + p₁⋅⎝p₁⋅⎝p₀  - 2⋅(p₂ - 1)⋅⎝p₀  - p₀⋅p₂ + p₂⎠⎠⋅(-2⋅p₀⋅p₁ + 2⋅p₀ + p₁\n",
       "\n",
       "                                                                              \n",
       "                                                                              \n",
       "──────────────────────────────────────────────────────────────────────────────\n",
       "                  ⎛  2              ⎛  2             ⎞⎞         ⎞             \n",
       ") + 2⋅p₂⋅(p₀ - 1)⋅⎝p₀  - 2⋅(p₁ - 1)⋅⎝p₀  - p₀⋅p₁ + p₁⎠⎠⋅(p₂ - 1)⎠⋅(-p₀⋅p₁ + p₀\n",
       "\n",
       "                                                                              \n",
       "                                                                              \n",
       "─────, π₄: ───────────────────────────────────────────────────────────────────\n",
       "                ⎛            ⎛  2              ⎛  2             ⎞⎞            \n",
       " + 1)      2⋅p₀⋅⎝p₂⋅(p₀ - 1)⋅⎝p₀  - 2⋅(p₁ - 1)⋅⎝p₀  - p₀⋅p₁ + p₁⎠⎠⋅(p₁ - 1) + \n",
       "\n",
       "                                               2                              \n",
       "                                           2⋅p₀ ⋅p₂⋅(p₀ - 1)⋅(p₀⋅(p₁ - 1)⋅(p₁⋅\n",
       "──────────────────────────────────────────────────────────────────────────────\n",
       "⎛  2                  ⎛  2             ⎞⎞                       ⎞             \n",
       "⎝p₀ ⋅p₁ - p₂⋅(p₁ - 1)⋅⎝p₀  - p₀⋅p₁ + p₁⎠⎠⋅(-2⋅p₀⋅p₁ + 2⋅p₀ + p₁)⎠⋅(p₁⋅p₂ - p₁ \n",
       "\n",
       "                                                                              \n",
       "p₂ - p₁ - 2⋅p₂ + 2) + p₁⋅(p₂ - 1)⋅(-p₀⋅p₁ + p₀ + 1))                          \n",
       "──────────────────────────────────────────────────────────────────────────────\n",
       "                 ⎛   ⎛  2              ⎛  2             ⎞⎞                    \n",
       "- 2⋅p₂ + 2) + p₁⋅⎝p₁⋅⎝p₀  - 2⋅(p₂ - 1)⋅⎝p₀  - p₀⋅p₂ + p₂⎠⎠⋅(-2⋅p₀⋅p₁ + 2⋅p₀ + \n",
       "\n",
       "                                                                              \n",
       "                                                                              \n",
       "──────────────────────────────────────────────────────────────────────────────\n",
       "                    ⎛  2              ⎛  2             ⎞⎞         ⎞           \n",
       "p₁) + 2⋅p₂⋅(p₀ - 1)⋅⎝p₀  - 2⋅(p₁ - 1)⋅⎝p₀  - p₀⋅p₁ + p₁⎠⎠⋅(p₂ - 1)⎠⋅(-p₀⋅p₁ + \n",
       "\n",
       "                                                                              \n",
       "                                                                              \n",
       "───────, π₅: ─────────────────────────────────────────────────────────────────\n",
       "                  ⎛            ⎛  2              ⎛  2             ⎞⎞          \n",
       "p₀ + 1)      2⋅p₀⋅⎝p₂⋅(p₀ - 1)⋅⎝p₀  - 2⋅(p₁ - 1)⋅⎝p₀  - p₀⋅p₁ + p₁⎠⎠⋅(p₁ - 1) \n",
       "\n",
       "                                                                 3            \n",
       "                                                             2⋅p₀ ⋅p₁⋅(-2⋅p₀⋅p\n",
       "──────────────────────────────────────────────────────────────────────────────\n",
       "  ⎛  2                  ⎛  2             ⎞⎞                       ⎞           \n",
       "+ ⎝p₀ ⋅p₁ - p₂⋅(p₁ - 1)⋅⎝p₀  - p₀⋅p₁ + p₁⎠⎠⋅(-2⋅p₀⋅p₁ + 2⋅p₀ + p₁)⎠⋅(p₁⋅p₂ - p\n",
       "\n",
       "                                                                              \n",
       "₁ + 2⋅p₀ + p₁)⋅(p₁⋅p₂ - p₁ - 2⋅p₂ + 2)                                        \n",
       "──────────────────────────────────────────────────────────────────────────────\n",
       "                   ⎛   ⎛  2              ⎛  2             ⎞⎞                  \n",
       "₁ - 2⋅p₂ + 2) + p₁⋅⎝p₁⋅⎝p₀  - 2⋅(p₂ - 1)⋅⎝p₀  - p₀⋅p₂ + p₂⎠⎠⋅(-2⋅p₀⋅p₁ + 2⋅p₀ \n",
       "\n",
       "                                                                              \n",
       "                                                                              \n",
       "──────────────────────────────────────────────────────────────────────────────\n",
       "                      ⎛  2              ⎛  2             ⎞⎞         ⎞         \n",
       "+ p₁) + 2⋅p₂⋅(p₀ - 1)⋅⎝p₀  - 2⋅(p₁ - 1)⋅⎝p₀  - p₀⋅p₁ + p₁⎠⎠⋅(p₂ - 1)⎠⋅(-p₀⋅p₁ \n",
       "\n",
       "                                                                              \n",
       "                                                                              \n",
       "─────────, π₆: ───────────────────────────────────────────────────────────────\n",
       "                    ⎛            ⎛  2              ⎛  2             ⎞⎞        \n",
       "+ p₀ + 1)      2⋅p₀⋅⎝p₂⋅(p₀ - 1)⋅⎝p₀  - 2⋅(p₁ - 1)⋅⎝p₀  - p₀⋅p₁ + p₁⎠⎠⋅(p₁ - 1\n",
       "\n",
       "                                                                     2   2    \n",
       "                                                                   p₀ ⋅p₁ ⋅(-2\n",
       "──────────────────────────────────────────────────────────────────────────────\n",
       "    ⎛  2                  ⎛  2             ⎞⎞                       ⎞         \n",
       ") + ⎝p₀ ⋅p₁ - p₂⋅(p₁ - 1)⋅⎝p₀  - p₀⋅p₁ + p₁⎠⎠⋅(-2⋅p₀⋅p₁ + 2⋅p₀ + p₁)⎠⋅(p₁⋅p₂ -\n",
       "\n",
       "                                                                              \n",
       "⋅p₀⋅p₁ + 2⋅p₀ + p₁)⋅(-p₀⋅p₁ + p₀ + 1)                                         \n",
       "──────────────────────────────────────────────────────────────────────────────\n",
       "                     ⎛   ⎛  2              ⎛  2             ⎞⎞                \n",
       " p₁ - 2⋅p₂ + 2) + p₁⋅⎝p₁⋅⎝p₀  - 2⋅(p₂ - 1)⋅⎝p₀  - p₀⋅p₂ + p₂⎠⎠⋅(-2⋅p₀⋅p₁ + 2⋅p\n",
       "\n",
       "                                                                              \n",
       "                                                                              \n",
       "──────────────────────────────────────────────────────────────────────────────\n",
       "                        ⎛  2              ⎛  2             ⎞⎞         ⎞       \n",
       "₀ + p₁) + 2⋅p₂⋅(p₀ - 1)⋅⎝p₀  - 2⋅(p₁ - 1)⋅⎝p₀  - p₀⋅p₁ + p₁⎠⎠⋅(p₂ - 1)⎠⋅(-p₀⋅p\n",
       "\n",
       "           ⎫\n",
       "           ⎪\n",
       "───────────⎬\n",
       "           ⎪\n",
       "₁ + p₀ + 1)⎭"
      ]
     },
     "execution_count": 11,
     "metadata": {},
     "output_type": "execute_result"
    }
   ],
   "source": [
    "solve(Est*P - Matrix([[pi1, pi2, pi3, pi4, pi5, pi6, 1]]), (pi1, pi2, pi3, pi4,pi5,pi6))"
   ]
  },
  {
   "cell_type": "code",
   "execution_count": 12,
   "metadata": {
    "collapsed": false
   },
   "outputs": [
    {
     "ename": "TypeError",
     "evalue": "'float' object is not iterable",
     "output_type": "error",
     "traceback": [
      "\u001b[0;31m---------------------------------------------------------------------------\u001b[0m",
      "\u001b[0;31mTypeError\u001b[0m                                 Traceback (most recent call last)",
      "\u001b[0;32m<ipython-input-12-ca83b0db5044>\u001b[0m in \u001b[0;36m<module>\u001b[0;34m()\u001b[0m\n\u001b[0;32m----> 1\u001b[0;31m \u001b[0mp0\u001b[0m\u001b[0;34m,\u001b[0m \u001b[0mp1\u001b[0m\u001b[0;34m,\u001b[0m \u001b[0mp2\u001b[0m \u001b[0;34m=\u001b[0m \u001b[0;36m0.5\u001b[0m\u001b[0;34m\u001b[0m\u001b[0m\n\u001b[0m",
      "\u001b[0;31mTypeError\u001b[0m: 'float' object is not iterable"
     ]
    }
   ],
   "source": [
    "p0 = 0.5"
   ]
  },
  {
   "cell_type": "code",
   "execution_count": null,
   "metadata": {
    "collapsed": true
   },
   "outputs": [],
   "source": [
    "p0="
   ]
  }
 ],
 "metadata": {
  "anaconda-cloud": {},
  "kernelspec": {
   "display_name": "Python [default]",
   "language": "python",
   "name": "python3"
  },
  "language_info": {
   "codemirror_mode": {
    "name": "ipython",
    "version": 3
   },
   "file_extension": ".py",
   "mimetype": "text/x-python",
   "name": "python",
   "nbconvert_exporter": "python",
   "pygments_lexer": "ipython3",
   "version": "3.5.2"
  }
 },
 "nbformat": 4,
 "nbformat_minor": 2
}
