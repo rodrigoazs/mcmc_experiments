{
 "cells": [
  {
   "cell_type": "code",
   "execution_count": 131,
   "metadata": {
    "collapsed": false
   },
   "outputs": [],
   "source": [
    "import random\n",
    "import math\n",
    "import numpy as np\n",
    "import matplotlib.pyplot as plt\n",
    "\n",
    "def indicadora(u, x):\n",
    "    return 1 if u >= x else 0\n",
    "\n",
    "def pdf_normal(x, mu, sigma):\n",
    "    return 1/(sigma * np.sqrt(2 * np.pi)) * np.exp( - (x - mu)**2 / (2 * sigma**2))\n",
    "\n",
    "def variance_numeric(ones, n):\n",
    "    a = [1] * ones\n",
    "    b = [0] * (n-ones)\n",
    "    a.extend(b)\n",
    "    c = np.array(a)\n",
    "    return np.std(c)**2\n",
    "\n",
    "def monte_carlo_basic(n=1000000, x=5):\n",
    "    ones = 0\n",
    "    for i in range(n):\n",
    "        draw = np.random.normal(0, 1.0) # mu = 5, sigma = 1.0\n",
    "        ones += indicadora(draw, x)\n",
    "    return ones/n\n",
    "\n",
    "def monte_carlo(n=1000000, x=5):\n",
    "    ones = 0\n",
    "    for i in range(n):\n",
    "        draw = np.random.normal(x, 1.0) # mu = 5, sigma = 1.0\n",
    "        g = pdf_normal(draw, 0, 1.0)\n",
    "        h = pdf_normal(draw, x, 1.0)\n",
    "        #ones += g/h\n",
    "        ones += indicadora(draw, x) * g/h\n",
    "    return ones/n\n",
    "  \n",
    "K = 0\n",
    "for i in range(1, 1000+1):\n",
    "    K += i**(2)\n",
    "    \n",
    "vec = []\n",
    "for i in range(1, 1000+1):\n",
    "    vec.append(i**(2)/K)\n",
    "    \n",
    "summ = np.sum(vec)\n",
    "\n",
    "vec = vec/summ\n",
    "\n",
    "def monte_carlo_uniform(n=1000000, x=995):\n",
    "    ones = 0\n",
    "    for i in range(n):\n",
    "        #draw = random.randint(1,1000)\n",
    "        draw = np.random.choice(1000, p=vec) + 1 #random.randint(1, N)\n",
    "        #ones += 1 if draw >= x else 0\n",
    "        g = 1/1000\n",
    "        h = draw**(2) / K\n",
    "        ones += (1 if draw >= x else 0) *g/h\n",
    "    return ones/n"
   ]
  },
  {
   "cell_type": "code",
   "execution_count": 2,
   "metadata": {
    "collapsed": false
   },
   "outputs": [
    {
     "data": {
      "text/plain": [
       "1"
      ]
     },
     "execution_count": 2,
     "metadata": {},
     "output_type": "execute_result"
    }
   ],
   "source": [
    "monte_carlo()"
   ]
  },
  {
   "cell_type": "code",
   "execution_count": 3,
   "metadata": {
    "collapsed": false
   },
   "outputs": [
    {
     "data": {
      "text/plain": [
       "9.999989999999955e-07"
      ]
     },
     "execution_count": 3,
     "metadata": {},
     "output_type": "execute_result"
    }
   ],
   "source": [
    "variance_numeric(1, 1000000)"
   ]
  },
  {
   "cell_type": "code",
   "execution_count": 45,
   "metadata": {
    "collapsed": false
   },
   "outputs": [
    {
     "data": {
      "text/plain": [
       "0.158418"
      ]
     },
     "execution_count": 45,
     "metadata": {},
     "output_type": "execute_result"
    }
   ],
   "source": [
    "158418/1000000"
   ]
  },
  {
   "cell_type": "code",
   "execution_count": 6,
   "metadata": {
    "collapsed": false
   },
   "outputs": [
    {
     "data": {
      "text/plain": [
       "9.99999e-07"
      ]
     },
     "execution_count": 6,
     "metadata": {},
     "output_type": "execute_result"
    }
   ],
   "source": [
    "1/1000000 - (1/1000000)**2"
   ]
  },
  {
   "cell_type": "code",
   "execution_count": 129,
   "metadata": {
    "collapsed": false
   },
   "outputs": [
    {
     "data": {
      "text/plain": [
       "2.866562785798612e-07"
      ]
     },
     "execution_count": 129,
     "metadata": {},
     "output_type": "execute_result"
    }
   ],
   "source": [
    "monte_carlo(x=5)"
   ]
  },
  {
   "cell_type": "code",
   "execution_count": 81,
   "metadata": {
    "collapsed": false
   },
   "outputs": [
    {
     "data": {
      "text/plain": [
       "2.6462192544587395e-07"
      ]
     },
     "execution_count": 81,
     "metadata": {},
     "output_type": "execute_result"
    }
   ],
   "source": [
    "2.6462192544587395e-07"
   ]
  },
  {
   "cell_type": "code",
   "execution_count": 114,
   "metadata": {
    "collapsed": false
   },
   "outputs": [
    {
     "data": {
      "text/plain": [
       "0.00601382023392569"
      ]
     },
     "execution_count": 114,
     "metadata": {},
     "output_type": "execute_result"
    }
   ],
   "source": [
    "monte_carlo_uniform(x=995)"
   ]
  },
  {
   "cell_type": "code",
   "execution_count": 119,
   "metadata": {
    "collapsed": false
   },
   "outputs": [
    {
     "data": {
      "text/plain": [
       "5.01656921401776"
      ]
     },
     "execution_count": 119,
     "metadata": {},
     "output_type": "execute_result"
    }
   ],
   "source": [
    "np.random.normal(5, 0.01)"
   ]
  },
  {
   "cell_type": "code",
   "execution_count": 122,
   "metadata": {
    "collapsed": false
   },
   "outputs": [
    {
     "data": {
      "text/plain": [
       "-0.059384256957549314"
      ]
     },
     "execution_count": 122,
     "metadata": {},
     "output_type": "execute_result"
    }
   ],
   "source": [
    "np.random.normal(0, 0.1)"
   ]
  },
  {
   "cell_type": "code",
   "execution_count": 123,
   "metadata": {
    "collapsed": false
   },
   "outputs": [
    {
     "data": {
      "text/plain": [
       "0.3982394672233284"
      ]
     },
     "execution_count": 123,
     "metadata": {},
     "output_type": "execute_result"
    }
   ],
   "source": [
    "pdf_normal(-0.059384256957549314, 0, 1.0)"
   ]
  },
  {
   "cell_type": "code",
   "execution_count": 130,
   "metadata": {
    "collapsed": true
   },
   "outputs": [],
   "source": [
    "x = np.arange(0,10**6+10000,10000)\n",
    "x[0] = 1"
   ]
  },
  {
   "cell_type": "code",
   "execution_count": 133,
   "metadata": {
    "collapsed": false
   },
   "outputs": [
    {
     "data": {
      "text/plain": [
       "'Tempo de execucao: 00:08:33'"
      ]
     },
     "execution_count": 133,
     "metadata": {},
     "output_type": "execute_result"
    }
   ],
   "source": [
    "import time\n",
    "no_importance = []\n",
    "importance = []\n",
    "start_time = time.time()\n",
    "for i in range(len(x)):\n",
    "    e = monte_carlo_basic(n=x[i], x=5)\n",
    "    s = monte_carlo(n=x[i], x=5)\n",
    "    no_importance.append(e)\n",
    "    importance.append(s)\n",
    "elapsed_time = time.time() - start_time\n",
    "time.strftime(\"Tempo de execucao: %H:%M:%S\", time.gmtime(elapsed_time))"
   ]
  },
  {
   "cell_type": "code",
   "execution_count": 141,
   "metadata": {
    "collapsed": false
   },
   "outputs": [
    {
     "name": "stderr",
     "output_type": "stream",
     "text": [
      "/home/rodrigoazs/anaconda3/lib/python3.5/site-packages/matplotlib/axes/_axes.py:531: UserWarning: No labelled objects found. Use label='...' kwarg on individual plots.\n",
      "  warnings.warn(\"No labelled objects found. \"\n"
     ]
    },
    {
     "data": {
      "image/png": "[encoded data removed]",
      "text/plain": [
       "<matplotlib.figure.Figure at 0x7f23cf7c66a0>"
      ]
     },
     "metadata": {},
     "output_type": "display_data"
    }
   ],
   "source": [
    "plt.plot(x, no_importance)\n",
    "#plt.plot(x, importance, label='Com importance sampling')\n",
    "plt.legend()\n",
    "plt.show()"
   ]
  },
  {
   "cell_type": "code",
   "execution_count": 140,
   "metadata": {
    "collapsed": false
   },
   "outputs": [
    {
     "name": "stderr",
     "output_type": "stream",
     "text": [
      "/home/rodrigoazs/anaconda3/lib/python3.5/site-packages/matplotlib/axes/_axes.py:531: UserWarning: No labelled objects found. Use label='...' kwarg on individual plots.\n",
      "  warnings.warn(\"No labelled objects found. \"\n"
     ]
    },
    {
     "data": {
      "image/png": "[encoded data removed]",
      "text/plain": [
       "<matplotlib.figure.Figure at 0x7f23cf823d68>"
      ]
     },
     "metadata": {},
     "output_type": "display_data"
    }
   ],
   "source": [
    "#plt.plot(x, no_importance, label='Sem importance sampling')\n",
    "plt.plot(x, importance)\n",
    "plt.legend()\n",
    "plt.show()"
   ]
  },
  {
   "cell_type": "code",
   "execution_count": 137,
   "metadata": {
    "collapsed": false
   },
   "outputs": [
    {
     "data": {
      "text/plain": [
       "[1.92116492358444e-07,\n",
       " 2.8431024016892193e-07,\n",
       " 2.8322895448168667e-07,\n",
       " 2.911181616897596e-07,\n",
       " 2.820427941988685e-07,\n",
       " 2.820319977716856e-07,\n",
       " 2.9478037771189137e-07,\n",
       " 2.880752490992383e-07,\n",
       " 2.848974217833064e-07,\n",
       " 2.884468026664581e-07,\n",
       " 2.8837810881562625e-07,\n",
       " 2.863704419711469e-07,\n",
       " 2.8770819328892525e-07,\n",
       " 2.8400496479754215e-07,\n",
       " 2.8633413363236966e-07,\n",
       " 2.843419466240758e-07,\n",
       " 2.8762327465298643e-07,\n",
       " 2.879392639397932e-07,\n",
       " 2.8683348336992424e-07,\n",
       " 2.841084655767866e-07,\n",
       " 2.8456970280366056e-07,\n",
       " 2.8610168387867266e-07,\n",
       " 2.8532094144058185e-07,\n",
       " 2.853393217652632e-07,\n",
       " 2.8662053429293506e-07,\n",
       " 2.893489596406998e-07,\n",
       " 2.863181045166924e-07,\n",
       " 2.8449952330643376e-07,\n",
       " 2.8762930191068366e-07,\n",
       " 2.8776894120647885e-07,\n",
       " 2.8846692107657235e-07,\n",
       " 2.8571993614948165e-07,\n",
       " 2.857756822520561e-07,\n",
       " 2.8856187452108954e-07,\n",
       " 2.874895779376894e-07,\n",
       " 2.8583342720796576e-07,\n",
       " 2.866272062102862e-07,\n",
       " 2.8478591228779076e-07,\n",
       " 2.849736978398337e-07,\n",
       " 2.8680428719248007e-07,\n",
       " 2.857089925243166e-07,\n",
       " 2.866153923686409e-07,\n",
       " 2.8486531650682315e-07,\n",
       " 2.869876251869622e-07,\n",
       " 2.866412403187615e-07,\n",
       " 2.874159998769307e-07,\n",
       " 2.874841822827869e-07,\n",
       " 2.850233235480417e-07,\n",
       " 2.875018393012047e-07,\n",
       " 2.873613259052289e-07,\n",
       " 2.8685528041913466e-07,\n",
       " 2.8521946126977074e-07,\n",
       " 2.8538543119216635e-07,\n",
       " 2.846629692592569e-07,\n",
       " 2.8855191872062487e-07,\n",
       " 2.866148235600028e-07,\n",
       " 2.8644519297285297e-07,\n",
       " 2.8529230768214283e-07,\n",
       " 2.866952885692906e-07,\n",
       " 2.8658045271260783e-07,\n",
       " 2.857153312885172e-07,\n",
       " 2.8740578555771615e-07,\n",
       " 2.870625380053721e-07,\n",
       " 2.867217073540841e-07,\n",
       " 2.86411140115562e-07,\n",
       " 2.884284141428135e-07,\n",
       " 2.8723896734753305e-07,\n",
       " 2.873132085736247e-07,\n",
       " 2.866175658304045e-07,\n",
       " 2.862801863279326e-07,\n",
       " 2.8811546087046724e-07,\n",
       " 2.8665446510209477e-07,\n",
       " 2.872902569480862e-07,\n",
       " 2.8747319242284187e-07,\n",
       " 2.8708485392938237e-07,\n",
       " 2.866947615297996e-07,\n",
       " 2.8640847588106547e-07,\n",
       " 2.870186665258597e-07,\n",
       " 2.859422395034271e-07,\n",
       " 2.858303999278706e-07,\n",
       " 2.864798809655164e-07,\n",
       " 2.855759149174622e-07,\n",
       " 2.8580971081667613e-07,\n",
       " 2.877170342683554e-07,\n",
       " 2.860374878317422e-07,\n",
       " 2.871781649056623e-07,\n",
       " 2.8756454352665584e-07,\n",
       " 2.8765973494870523e-07,\n",
       " 2.86016120036638e-07,\n",
       " 2.8634917682850606e-07,\n",
       " 2.874826471513829e-07,\n",
       " 2.865002705860589e-07,\n",
       " 2.8676682250835384e-07,\n",
       " 2.878598126692978e-07,\n",
       " 2.861781084503947e-07,\n",
       " 2.8615262750812766e-07,\n",
       " 2.8573185514706605e-07,\n",
       " 2.8730872519935786e-07,\n",
       " 2.8674181048611347e-07,\n",
       " 2.857318092392643e-07,\n",
       " 2.859526057925139e-07]"
      ]
     },
     "execution_count": 137,
     "metadata": {},
     "output_type": "execute_result"
    }
   ],
   "source": [
    "importance"
   ]
  },
  {
   "cell_type": "code",
   "execution_count": null,
   "metadata": {
    "collapsed": true
   },
   "outputs": [],
   "source": []
  }
 ],
 "metadata": {
  "anaconda-cloud": {},
  "kernelspec": {
   "display_name": "Python [default]",
   "language": "python",
   "name": "python3"
  },
  "language_info": {
   "codemirror_mode": {
    "name": "ipython",
    "version": 3
   },
   "file_extension": ".py",
   "mimetype": "text/x-python",
   "name": "python",
   "nbconvert_exporter": "python",
   "pygments_lexer": "ipython3",
   "version": "3.5.2"
  }
 },
 "nbformat": 4,
 "nbformat_minor": 1
}
