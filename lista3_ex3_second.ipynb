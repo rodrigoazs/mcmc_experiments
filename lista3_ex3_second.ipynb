{
 "cells": [
  {
   "cell_type": "code",
   "execution_count": 11,
   "metadata": {
    "collapsed": false
   },
   "outputs": [],
   "source": [
    "import requests\n",
    "from random import randint\n",
    "import json\n",
    "\n",
    "with open('domains.json', 'r') as fp:\n",
    "    data = json.load(fp)"
   ]
  },
  {
   "cell_type": "code",
   "execution_count": 12,
   "metadata": {
    "collapsed": false
   },
   "outputs": [],
   "source": [
    "import requests\n",
    "from random import randint\n",
    "\n",
    "def get_status(string):\n",
    "    if string in data:\n",
    "        return data[string]\n",
    "    else:\n",
    "        try:\n",
    "            url = 'http://www.' + string + '.ufrj.br'\n",
    "            #print('Requested for ' +string)\n",
    "            r = requests.head(url)\n",
    "            status = 1 if r.status_code == 200 else 0\n",
    "        except:\n",
    "            status = 0\n",
    "        data[string] = status\n",
    "        return status\n",
    "\n",
    "def get_random_domain(k):\n",
    "    ret = ''\n",
    "    for i in range(k):\n",
    "        ret += chr(randint(0,25) + 97)\n",
    "    return ret\n",
    "\n",
    "def experiment_for_k(n=1000, k=4):\n",
    "    if k == 0:\n",
    "        return 1\n",
    "    exists = 0  \n",
    "    for i in range(n):\n",
    "        r = get_random_domain(k)\n",
    "        if get_status(r):\n",
    "            print('Found domain www.' + r + '.ufrj.br')\n",
    "            exists += 1\n",
    "    return exists"
   ]
  },
  {
   "cell_type": "code",
   "execution_count": null,
   "metadata": {
    "collapsed": false
   },
   "outputs": [
    {
     "name": "stdout",
     "output_type": "stream",
     "text": [
      "Found domain www.rpp.ufrj.br\n",
      "Found domain www.etu.ufrj.br\n",
      "Found domain www.lcg.ufrj.br\n",
      "Found domain www.nce.ufrj.br\n",
      "Found domain www.etu.ufrj.br\n",
      "Found domain www.rpp.ufrj.br\n",
      "Found domain www.rpp.ufrj.br\n",
      "Found domain www.eei.ufrj.br\n",
      "Found domain www.nce.ufrj.br\n",
      "Found domain www.icb.ufrj.br\n",
      "Found domain www.con.ufrj.br\n",
      "Found domain www.oec.ufrj.br\n",
      "Found domain www.gea.ufrj.br\n",
      "Found domain www.gea.ufrj.br\n",
      "Found domain www.pec.ufrj.br\n",
      "Found domain www.eei.ufrj.br\n",
      "Found domain www.eba.ufrj.br\n",
      "Found domain www.tic.ufrj.br\n"
     ]
    }
   ],
   "source": [
    "for i in range(100):\n",
    "    experiment_for_k(n=1000, k=3)\n",
    "    with open('domains.json', 'w') as fp:\n",
    "        json.dump(data, fp)"
   ]
  },
  {
   "cell_type": "code",
   "execution_count": null,
   "metadata": {
    "collapsed": false
   },
   "outputs": [
    {
     "name": "stdout",
     "output_type": "stream",
     "text": [
      "Found domain www.bcmt.ufrj.br\n",
      "Found domain www.crie.ufrj.br\n",
      "Found domain www.ivdn.ufrj.br\n",
      "Found domain www.nidf.ufrj.br\n",
      "Found domain www.nesc.ufrj.br\n",
      "Found domain www.cfch.ufrj.br\n",
      "Found domain www.cfch.ufrj.br\n",
      "Found domain www.siac.ufrj.br\n",
      "Found domain www.nppn.ufrj.br\n",
      "Found domain www.fujb.ufrj.br\n",
      "Found domain www.indc.ufrj.br\n",
      "Found domain www.facc.ufrj.br\n",
      "Found domain www.ppgi.ufrj.br\n",
      "Found domain www.nano.ufrj.br\n",
      "Found domain www.bcmt.ufrj.br\n"
     ]
    }
   ],
   "source": [
    "for i in range(200):\n",
    "    experiment_for_k(n=1000, k=4)\n",
    "    with open('domains.json', 'w') as fp:\n",
    "        json.dump(data, fp)"
   ]
  },
  {
   "cell_type": "code",
   "execution_count": null,
   "metadata": {
    "collapsed": false
   },
   "outputs": [
    {
     "name": "stdout",
     "output_type": "stream",
     "text": [
      "Found domain www.bcmt.ufrj.br\n",
      "Found domain www.cav.ufrj.br\n",
      "Found domain www.cav.ufrj.br\n",
      "Found domain www.ccje.ufrj.br\n",
      "Found domain www.ccmn.ufrj.br\n",
      "Found domain www.cegn.ufrj.br\n",
      "Found domain www.cfch.ufrj.br\n",
      "Found domain www.ch.ufrj.br\n",
      "Found domain www.cla.ufrj.br\n",
      "Found domain www.cla.ufrj.br\n",
      "Found domain www.coep.ufrj.br\n",
      "Found domain www.coe.ufrj.br\n",
      "Found domain www.con.ufrj.br\n",
      "Found domain www.cos.ufrj.br\n",
      "Found domain www.coe.ufrj.br\n",
      "Found domain www.con.ufrj.br\n",
      "Found domain www.cos.ufrj.br\n",
      "Found domain www.cppd.ufrj.br\n",
      "Found domain www.crie.ufrj.br\n",
      "Found domain www.csce.ufrj.br\n",
      "Found domain www.csf.ufrj.br\n",
      "Found domain www.csf.ufrj.br\n",
      "Found domain www.ctep.ufrj.br\n",
      "Found domain www.cva.ufrj.br\n",
      "Found domain www.cva.ufrj.br\n",
      "Found domain www.cav.ufrj.br\n",
      "Found domain www.ch.ufrj.br\n",
      "Found domain www.cla.ufrj.br\n",
      "Found domain www.coe.ufrj.br\n",
      "Found domain www.con.ufrj.br\n",
      "Found domain www.cos.ufrj.br\n",
      "Found domain www.csf.ufrj.br\n",
      "Found domain www.cva.ufrj.br\n",
      "Found domain www.ch.ufrj.br\n",
      "Found domain www.dcc.ufrj.br\n",
      "Found domain www.dcc.ufrj.br\n",
      "Found domain www.dme.ufrj.br\n",
      "Found domain www.dme.ufrj.br\n"
     ]
    }
   ],
   "source": [
    "t = 0\n",
    "for i in range(27):\n",
    "    for j in range(27):\n",
    "        for k in range(27):\n",
    "            for l in range(27):\n",
    "                a = '' if i == 26 else chr(i + 97)\n",
    "                b = '' if j == 26 else chr(j + 97)\n",
    "                c = '' if k == 26 else chr(k + 97)\n",
    "                d = '' if l == 26 else chr(l + 97)\n",
    "                r = a + b + c + d\n",
    "                if len(s) == 0 :\n",
    "                    continue\n",
    "                if get_status(r):\n",
    "                    print('Found domain www.' + r + '.ufrj.br')\n",
    "                t += 1\n",
    "                if t > 1000:\n",
    "                    with open('domains.json', 'w') as fp:\n",
    "                        json.dump(data, fp)\n",
    "                    t = 0"
   ]
  },
  {
   "cell_type": "code",
   "execution_count": null,
   "metadata": {
    "collapsed": true
   },
   "outputs": [],
   "source": []
  }
 ],
 "metadata": {
  "kernelspec": {
   "display_name": "Python 3",
   "language": "python",
   "name": "python3"
  },
  "language_info": {
   "codemirror_mode": {
    "name": "ipython",
    "version": 3
   },
   "file_extension": ".py",
   "mimetype": "text/x-python",
   "name": "python",
   "nbconvert_exporter": "python",
   "pygments_lexer": "ipython3",
   "version": "3.6.0"
  }
 },
 "nbformat": 4,
 "nbformat_minor": 2
}
