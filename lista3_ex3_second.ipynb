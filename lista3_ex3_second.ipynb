{
 "cells": [
  {
   "cell_type": "code",
   "execution_count": 3,
   "metadata": {
    "collapsed": true
   },
   "outputs": [],
   "source": [
    "import requests\n",
    "from random import randint\n",
    "import json\n",
    "\n",
    "with open('domains.json', 'r') as fp:\n",
    "    data = json.load(fp)"
   ]
  },
  {
   "cell_type": "code",
   "execution_count": 24,
   "metadata": {
    "collapsed": false
   },
   "outputs": [],
   "source": [
    "import requests\n",
    "from random import randint\n",
    "\n",
    "def get_status(string):\n",
    "    if string in data:\n",
    "        return data[string]\n",
    "    else:\n",
    "        try:\n",
    "            url = 'http://www.' + string + '.ufrj.br'\n",
    "            #print('Requested for ' +string)\n",
    "            r = requests.head(url)\n",
    "            status = 1 if r.status_code == 200 else 0\n",
    "        except:\n",
    "            status = 0\n",
    "        data[string] = status\n",
    "        return status\n",
    "\n",
    "def get_random_domain(k):\n",
    "    ret = ''\n",
    "    for i in range(k):\n",
    "        ret += chr(randint(0,25) + 97)\n",
    "    return ret\n",
    "\n",
    "def experiment_for_k(n=1000, k=4):\n",
    "    if k == 0:\n",
    "        return 1\n",
    "    exists = 0  \n",
    "    for i in range(n):\n",
    "        r = get_random_domain(k)\n",
    "        if get_status(r):\n",
    "            print('Found domain www.' + r + '.ufrj.br')\n",
    "            exists += 1\n",
    "    return exists"
   ]
  },
  {
   "cell_type": "code",
   "execution_count": 28,
   "metadata": {
    "collapsed": false
   },
   "outputs": [
    {
     "name": "stdout",
     "output_type": "stream",
     "text": [
      "Found domain www.icb.ufrj.br\n",
      "Found domain www.dme.ufrj.br\n",
      "Found domain www.dcc.ufrj.br\n",
      "Found domain www.lee.ufrj.br\n",
      "Found domain www.csf.ufrj.br\n",
      "Found domain www.lps.ufrj.br\n",
      "Found domain www.dcc.ufrj.br\n",
      "Found domain www.eei.ufrj.br\n",
      "Found domain www.pec.ufrj.br\n",
      "Found domain www.tic.ufrj.br\n",
      "Found domain www.tic.ufrj.br\n",
      "Found domain www.dme.ufrj.br\n",
      "Found domain www.gea.ufrj.br\n",
      "Found domain www.coe.ufrj.br\n",
      "Found domain www.tic.ufrj.br\n",
      "Found domain www.ima.ufrj.br\n",
      "Found domain www.eba.ufrj.br\n",
      "Found domain www.fau.ufrj.br\n",
      "Found domain www.lee.ufrj.br\n",
      "Found domain www.oec.ufrj.br\n",
      "Found domain www.ppe.ufrj.br\n",
      "Found domain www.cla.ufrj.br\n",
      "Found domain www.cla.ufrj.br\n",
      "Found domain www.pec.ufrj.br\n",
      "Found domain www.coe.ufrj.br\n",
      "Found domain www.pec.ufrj.br\n",
      "Found domain www.gea.ufrj.br\n",
      "Found domain www.fnm.ufrj.br\n",
      "Found domain www.sap.ufrj.br\n",
      "Found domain www.ged.ufrj.br\n",
      "Found domain www.lin.ufrj.br\n",
      "Found domain www.cos.ufrj.br\n",
      "Found domain www.sap.ufrj.br\n",
      "Found domain www.nce.ufrj.br\n",
      "Found domain www.gea.ufrj.br\n",
      "Found domain www.cav.ufrj.br\n",
      "Found domain www.gea.ufrj.br\n",
      "Found domain www.pec.ufrj.br\n",
      "Found domain www.tic.ufrj.br\n",
      "Found domain www.fnm.ufrj.br\n",
      "Found domain www.etu.ufrj.br\n",
      "Found domain www.fnm.ufrj.br\n",
      "Found domain www.pec.ufrj.br\n",
      "Found domain www.eei.ufrj.br\n",
      "Found domain www.eba.ufrj.br\n",
      "Found domain www.cos.ufrj.br\n",
      "Found domain www.pec.ufrj.br\n",
      "Found domain www.pgi.ufrj.br\n",
      "Found domain www.pec.ufrj.br\n",
      "Found domain www.sap.ufrj.br\n",
      "Found domain www.ppe.ufrj.br\n",
      "Found domain www.etu.ufrj.br\n",
      "Found domain www.eba.ufrj.br\n",
      "Found domain www.eco.ufrj.br\n",
      "Found domain www.lps.ufrj.br\n",
      "Found domain www.tic.ufrj.br\n",
      "Found domain www.lee.ufrj.br\n",
      "Found domain www.lcg.ufrj.br\n",
      "Found domain www.pgi.ufrj.br\n",
      "Found domain www.icb.ufrj.br\n",
      "Found domain www.cos.ufrj.br\n",
      "Found domain www.eei.ufrj.br\n",
      "Found domain www.csf.ufrj.br\n",
      "Found domain www.rpp.ufrj.br\n",
      "Found domain www.eco.ufrj.br\n",
      "Found domain www.fau.ufrj.br\n",
      "Found domain www.ged.ufrj.br\n",
      "Found domain www.sap.ufrj.br\n",
      "Found domain www.sap.ufrj.br\n",
      "Found domain www.etu.ufrj.br\n",
      "Found domain www.eco.ufrj.br\n",
      "Found domain www.ppe.ufrj.br\n",
      "Found domain www.ind.ufrj.br\n",
      "Found domain www.eei.ufrj.br\n",
      "Found domain www.sap.ufrj.br\n",
      "Found domain www.ged.ufrj.br\n",
      "Found domain www.gea.ufrj.br\n",
      "Found domain www.pec.ufrj.br\n",
      "Found domain www.pgi.ufrj.br\n",
      "Found domain www.ind.ufrj.br\n",
      "Found domain www.tic.ufrj.br\n",
      "Found domain www.etu.ufrj.br\n",
      "Found domain www.con.ufrj.br\n",
      "Found domain www.sap.ufrj.br\n",
      "Found domain www.eei.ufrj.br\n",
      "Found domain www.lee.ufrj.br\n",
      "Found domain www.peb.ufrj.br\n",
      "Found domain www.sap.ufrj.br\n",
      "Found domain www.con.ufrj.br\n",
      "Found domain www.fnm.ufrj.br\n",
      "Found domain www.lcg.ufrj.br\n"
     ]
    },
    {
     "data": {
      "text/plain": [
       "91"
      ]
     },
     "execution_count": 28,
     "metadata": {},
     "output_type": "execute_result"
    }
   ],
   "source": [
    "experiment_for_k(n=50000, k=3)"
   ]
  },
  {
   "cell_type": "code",
   "execution_count": 29,
   "metadata": {
    "collapsed": false
   },
   "outputs": [
    {
     "name": "stdout",
     "output_type": "stream",
     "text": [
      "Found domain www.pads.ufrj.br\n",
      "Found domain www.ccmn.ufrj.br\n",
      "Found domain www.facc.ufrj.br\n",
      "Found domain www.geec.ufrj.br\n",
      "Found domain www.sipa.ufrj.br\n",
      "Found domain www.cppd.ufrj.br\n",
      "Found domain www.ppgi.ufrj.br\n",
      "Found domain www.ccmn.ufrj.br\n",
      "Found domain www.ippn.ufrj.br\n",
      "Found domain www.iesc.ufrj.br\n"
     ]
    },
    {
     "data": {
      "text/plain": [
       "10"
      ]
     },
     "execution_count": 29,
     "metadata": {},
     "output_type": "execute_result"
    }
   ],
   "source": [
    "experiment_for_k(n=100000, k=4)"
   ]
  },
  {
   "cell_type": "code",
   "execution_count": 30,
   "metadata": {
    "collapsed": true
   },
   "outputs": [],
   "source": [
    "with open('domains.json', 'w') as fp:\n",
    "    json.dump(data, fp)"
   ]
  },
  {
   "cell_type": "code",
   "execution_count": null,
   "metadata": {
    "collapsed": true
   },
   "outputs": [],
   "source": []
  }
 ],
 "metadata": {
  "kernelspec": {
   "display_name": "Python 3",
   "language": "python",
   "name": "python3"
  },
  "language_info": {
   "codemirror_mode": {
    "name": "ipython",
    "version": 3
   },
   "file_extension": ".py",
   "mimetype": "text/x-python",
   "name": "python",
   "nbconvert_exporter": "python",
   "pygments_lexer": "ipython3",
   "version": "3.6.0"
  }
 },
 "nbformat": 4,
 "nbformat_minor": 2
}
