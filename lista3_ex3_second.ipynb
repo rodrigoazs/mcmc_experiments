{
 "cells": [
  {
   "cell_type": "code",
   "execution_count": 1,
   "metadata": {
    "collapsed": false
   },
   "outputs": [],
   "source": [
    "import requests\n",
    "from random import randint\n",
    "import json\n",
    "\n",
    "with open('domains.json', 'r') as fp:\n",
    "    data = json.load(fp)"
   ]
  },
  {
   "cell_type": "code",
   "execution_count": 2,
   "metadata": {
    "collapsed": false
   },
   "outputs": [],
   "source": [
    "import requests\n",
    "from random import randint\n",
    "\n",
    "def get_status(string):\n",
    "    if string in data:\n",
    "        return data[string]\n",
    "    else:\n",
    "        try:\n",
    "            url = 'http://www.' + string + '.ufrj.br'\n",
    "            #print('Requested for ' +string)\n",
    "            r = requests.head(url)\n",
    "            status = 1 if r.status_code == 200 else 0\n",
    "        except:\n",
    "            status = 0\n",
    "        data[string] = status\n",
    "        return status\n",
    "\n",
    "def get_random_domain(k):\n",
    "    ret = ''\n",
    "    for i in range(k):\n",
    "        ret += chr(randint(0,25) + 97)\n",
    "    return ret\n",
    "\n",
    "def experiment_for_k(n=1000, k=4):\n",
    "    if k == 0:\n",
    "        return 1\n",
    "    exists = 0  \n",
    "    for i in range(n):\n",
    "        r = get_random_domain(k)\n",
    "        if get_status(r):\n",
    "            print('Found domain www.' + r + '.ufrj.br')\n",
    "            exists += 1\n",
    "    return exists"
   ]
  },
  {
   "cell_type": "code",
   "execution_count": null,
   "metadata": {
    "collapsed": false
   },
   "outputs": [
    {
     "name": "stdout",
     "output_type": "stream",
     "text": [
      "Found domain www.rpp.ufrj.br\n",
      "Found domain www.etu.ufrj.br\n",
      "Found domain www.lcg.ufrj.br\n",
      "Found domain www.nce.ufrj.br\n",
      "Found domain www.etu.ufrj.br\n",
      "Found domain www.rpp.ufrj.br\n",
      "Found domain www.rpp.ufrj.br\n",
      "Found domain www.eei.ufrj.br\n",
      "Found domain www.nce.ufrj.br\n",
      "Found domain www.icb.ufrj.br\n",
      "Found domain www.con.ufrj.br\n",
      "Found domain www.oec.ufrj.br\n",
      "Found domain www.gea.ufrj.br\n",
      "Found domain www.gea.ufrj.br\n",
      "Found domain www.pec.ufrj.br\n",
      "Found domain www.eei.ufrj.br\n",
      "Found domain www.eba.ufrj.br\n",
      "Found domain www.tic.ufrj.br\n"
     ]
    }
   ],
   "source": [
    "for i in range(100):\n",
    "    experiment_for_k(n=1000, k=3)\n",
    "    with open('domains.json', 'w') as fp:\n",
    "        json.dump(data, fp)"
   ]
  },
  {
   "cell_type": "code",
   "execution_count": null,
   "metadata": {
    "collapsed": false
   },
   "outputs": [
    {
     "name": "stdout",
     "output_type": "stream",
     "text": [
      "Found domain www.bcmt.ufrj.br\n"
     ]
    }
   ],
   "source": [
    "for i in range(200):\n",
    "    experiment_for_k(n=1000, k=4)\n",
    "    with open('domains.json', 'w') as fp:\n",
    "        json.dump(data, fp)"
   ]
  },
  {
   "cell_type": "code",
   "execution_count": null,
   "metadata": {
    "collapsed": true
   },
   "outputs": [],
   "source": []
  }
 ],
 "metadata": {
  "kernelspec": {
   "display_name": "Python 3",
   "language": "python",
   "name": "python3"
  },
  "language_info": {
   "codemirror_mode": {
    "name": "ipython",
    "version": 3
   },
   "file_extension": ".py",
   "mimetype": "text/x-python",
   "name": "python",
   "nbconvert_exporter": "python",
   "pygments_lexer": "ipython3",
   "version": "3.6.0"
  }
 },
 "nbformat": 4,
 "nbformat_minor": 2
}
