{
 "cells": [
  {
   "cell_type": "code",
   "execution_count": 89,
   "metadata": {
    "collapsed": true
   },
   "outputs": [],
   "source": [
    "#!/usr/bin/env python3\n",
    "# -*- coding: utf-8 -*-\n",
    "\"\"\"\n",
    "Created on Tue May 15 21:42:14 2018\n",
    "\n",
    "@author: rodrigoazs\n",
    "\"\"\"\n",
    "\n",
    "import numpy as np\n",
    "import random\n",
    "import math\n",
    "import matplotlib.pyplot as plt\n",
    "\n",
    "plots = []\n",
    "for i in range(16):\n",
    "    plots.append(int(10**i))\n",
    "    plots.append(int(1/4 * 10**i))\n",
    "    plots.append(int(2/4 * 10**i))\n",
    "    plots.append(int(3/4 * 10**i))"
   ]
  },
  {
   "cell_type": "code",
   "execution_count": 88,
   "metadata": {
    "collapsed": false
   },
   "outputs": [
    {
     "ename": "KeyboardInterrupt",
     "evalue": "",
     "output_type": "error",
     "traceback": [
      "\u001b[0;31m---------------------------------------------------------------------------\u001b[0m",
      "\u001b[0;31mKeyboardInterrupt\u001b[0m                         Traceback (most recent call last)",
      "\u001b[0;32m<ipython-input-88-17ae4b3364d2>\u001b[0m in \u001b[0;36m<module>\u001b[0;34m()\u001b[0m\n\u001b[1;32m     60\u001b[0m \u001b[0mpi_estimate\u001b[0m \u001b[1;33m=\u001b[0m \u001b[0mnp\u001b[0m\u001b[1;33m.\u001b[0m\u001b[0mmatrix\u001b[0m\u001b[1;33m(\u001b[0m\u001b[0mpi_estimate\u001b[0m\u001b[1;33m)\u001b[0m\u001b[1;33m\u001b[0m\u001b[0m\n\u001b[1;32m     61\u001b[0m \u001b[1;32mfor\u001b[0m \u001b[0mi\u001b[0m \u001b[1;32min\u001b[0m \u001b[0mrange\u001b[0m\u001b[1;33m(\u001b[0m\u001b[1;36m50000\u001b[0m\u001b[1;33m)\u001b[0m\u001b[1;33m:\u001b[0m\u001b[1;33m\u001b[0m\u001b[0m\n\u001b[0;32m---> 62\u001b[0;31m     \u001b[0mpi_estimate\u001b[0m \u001b[1;33m=\u001b[0m \u001b[0mpi_estimate\u001b[0m \u001b[1;33m*\u001b[0m \u001b[0mP\u001b[0m\u001b[1;33m\u001b[0m\u001b[0m\n\u001b[0m\u001b[1;32m     63\u001b[0m     \u001b[1;32mif\u001b[0m \u001b[1;33m(\u001b[0m\u001b[0mi\u001b[0m\u001b[1;33m+\u001b[0m\u001b[1;36m2\u001b[0m\u001b[1;33m)\u001b[0m \u001b[1;32min\u001b[0m \u001b[0mplots\u001b[0m\u001b[1;33m:\u001b[0m\u001b[1;33m\u001b[0m\u001b[0m\n\u001b[1;32m     64\u001b[0m         \u001b[0mvariancia\u001b[0m \u001b[1;33m=\u001b[0m \u001b[1;33m(\u001b[0m\u001b[0mabs\u001b[0m\u001b[1;33m(\u001b[0m\u001b[0mpi_estimate\u001b[0m \u001b[1;33m-\u001b[0m \u001b[0mpi_stacionary\u001b[0m\u001b[1;33m)\u001b[0m\u001b[1;33m)\u001b[0m\u001b[1;33m.\u001b[0m\u001b[0msum\u001b[0m\u001b[1;33m(\u001b[0m\u001b[1;33m)\u001b[0m\u001b[1;33m/\u001b[0m\u001b[1;36m2\u001b[0m\u001b[1;33m\u001b[0m\u001b[0m\n",
      "\u001b[0;32mC:\\ProgramData\\Anaconda3\\lib\\site-packages\\numpy\\matrixlib\\defmatrix.py\u001b[0m in \u001b[0;36m__mul__\u001b[0;34m(self, other)\u001b[0m\n\u001b[1;32m    341\u001b[0m         \u001b[1;32mif\u001b[0m \u001b[0misinstance\u001b[0m\u001b[1;33m(\u001b[0m\u001b[0mother\u001b[0m\u001b[1;33m,\u001b[0m \u001b[1;33m(\u001b[0m\u001b[0mN\u001b[0m\u001b[1;33m.\u001b[0m\u001b[0mndarray\u001b[0m\u001b[1;33m,\u001b[0m \u001b[0mlist\u001b[0m\u001b[1;33m,\u001b[0m \u001b[0mtuple\u001b[0m\u001b[1;33m)\u001b[0m\u001b[1;33m)\u001b[0m \u001b[1;33m:\u001b[0m\u001b[1;33m\u001b[0m\u001b[0m\n\u001b[1;32m    342\u001b[0m             \u001b[1;31m# This promotes 1-D vectors to row vectors\u001b[0m\u001b[1;33m\u001b[0m\u001b[1;33m\u001b[0m\u001b[0m\n\u001b[0;32m--> 343\u001b[0;31m             \u001b[1;32mreturn\u001b[0m \u001b[0mN\u001b[0m\u001b[1;33m.\u001b[0m\u001b[0mdot\u001b[0m\u001b[1;33m(\u001b[0m\u001b[0mself\u001b[0m\u001b[1;33m,\u001b[0m \u001b[0masmatrix\u001b[0m\u001b[1;33m(\u001b[0m\u001b[0mother\u001b[0m\u001b[1;33m)\u001b[0m\u001b[1;33m)\u001b[0m\u001b[1;33m\u001b[0m\u001b[0m\n\u001b[0m\u001b[1;32m    344\u001b[0m         \u001b[1;32mif\u001b[0m \u001b[0misscalar\u001b[0m\u001b[1;33m(\u001b[0m\u001b[0mother\u001b[0m\u001b[1;33m)\u001b[0m \u001b[1;32mor\u001b[0m \u001b[1;32mnot\u001b[0m \u001b[0mhasattr\u001b[0m\u001b[1;33m(\u001b[0m\u001b[0mother\u001b[0m\u001b[1;33m,\u001b[0m \u001b[1;34m'__rmul__'\u001b[0m\u001b[1;33m)\u001b[0m \u001b[1;33m:\u001b[0m\u001b[1;33m\u001b[0m\u001b[0m\n\u001b[1;32m    345\u001b[0m             \u001b[1;32mreturn\u001b[0m \u001b[0mN\u001b[0m\u001b[1;33m.\u001b[0m\u001b[0mdot\u001b[0m\u001b[1;33m(\u001b[0m\u001b[0mself\u001b[0m\u001b[1;33m,\u001b[0m \u001b[0mother\u001b[0m\u001b[1;33m)\u001b[0m\u001b[1;33m\u001b[0m\u001b[0m\n",
      "\u001b[0;31mKeyboardInterrupt\u001b[0m: "
     ]
    }
   ],
   "source": [
    "#def tree(h):\n",
    "h = 9\n",
    "n = np.array([2**i for i in range(h+1)]).sum()\n",
    "\n",
    "edges = n - 1        \n",
    "pi_stacionary = ([3.0] * n) / (2*edges)\n",
    "\n",
    "n_only_1_edge = 2**h - 1\n",
    "pi_stacionary[0] = 2.0 / (2*edges)\n",
    "\n",
    "for i in range(n_only_1_edge, len(pi_stacionary)):\n",
    "    pi_stacionary[i] = 1.0 / (2*edges)\n",
    "\n",
    "P = np.zeros((n, n))\n",
    "for i in range(n):\n",
    "    P[i][i] = 0.5\n",
    "    left = 2*i + 1\n",
    "    right = 2*i + 2\n",
    "    parent = math.floor((i-1)/2)\n",
    "    transitions = []\n",
    "    if left < n:\n",
    "        transitions.append(left)\n",
    "        transitions.append(right)\n",
    "    if parent >= 0:\n",
    "        transitions.append(parent)\n",
    "    for t in transitions:\n",
    "        P[i][t] = 0.5 / len(transitions)\n",
    "\n",
    "P = np.matrix(P)\n",
    "\n",
    "pi_estimate = [0] * n\n",
    "\n",
    "X_arvore = []\n",
    "y_arvore = []\n",
    "pi_0 = 0\n",
    "pi_estimate[0] = 1\n",
    "\n",
    "pi_estimate = np.matrix(pi_estimate)\n",
    "for i in range(50000):\n",
    "    pi_estimate = pi_estimate * P\n",
    "    if (i+2) in plots:\n",
    "        variancia = (abs(pi_estimate - pi_stacionary)).sum()/2\n",
    "        X_arvore.append(i+2)\n",
    "        y_arvore.append(variancia)\n",
    "\n",
    "plt.loglog(X_arvore, y_arvore, label='Árvore binária cheia')\n",
    "plt.legend()\n",
    "plt.show()"
   ]
  },
  {
   "cell_type": "code",
   "execution_count": 106,
   "metadata": {
    "collapsed": false
   },
   "outputs": [],
   "source": [
    "n = 1000\n",
    "\n",
    "edges = n       \n",
    "pi_stacionary = np.matrix(([2] * n)) / (2*edges)\n",
    "\n",
    "P = np.zeros((n, n))\n",
    "for i in range(n):\n",
    "    P[i][i] = 0.5\n",
    "    left = (i - 1) % n\n",
    "    right = (i + 1) % n\n",
    "    transitions = []\n",
    "    transitions.append(left)\n",
    "    transitions.append(right)\n",
    "    for t in transitions:\n",
    "        P[i][t] = 0.5 / len(transitions)\n",
    "\n",
    "P = np.matrix(P)\n",
    "\n",
    "pi_estimate = [0.0] * n\n",
    "\n",
    "X_anel = []\n",
    "y_anel = []\n",
    "pi_estimate[0] = 1.0\n",
    "\n",
    "pi_estimate = np.matrix(pi_estimate)\n",
    "for i in range(5000000):\n",
    "    pi_estimate = pi_estimate * P\n",
    "    if (i+2) in plots:\n",
    "        variancia = (abs(pi_estimate - pi_stacionary)).sum()/2\n",
    "        X_anel.append(i+2)\n",
    "        y_anel.append(variancia)"
   ]
  },
  {
   "cell_type": "code",
   "execution_count": 107,
   "metadata": {
    "collapsed": false
   },
   "outputs": [
    {
     "data": {
      "image/png": "[encoded data removed]",
      "text/plain": [
       "<matplotlib.figure.Figure at 0x14dfc53e4a8>"
      ]
     },
     "metadata": {},
     "output_type": "display_data"
    }
   ],
   "source": [
    "plt.loglog(X_anel, y_anel, label='Anel')\n",
    "plt.loglog(X_arvore, y_arvore, label='Árvore binária cheia')\n",
    "plt.legend()\n",
    "plt.show()"
   ]
  },
  {
   "cell_type": "code",
   "execution_count": 74,
   "metadata": {
    "collapsed": false
   },
   "outputs": [],
   "source": [
    "g = 32\n",
    "n = g**2\n",
    "   \n",
    "edges = 2 * g * (g-1)      \n",
    "pi_stacionary = [0.0] * n #np.matrix(([4] * n)) / (2*edges)\n",
    "P = np.zeros((n, n))\n",
    "\n",
    "for i in range(n):\n",
    "    transitions = []\n",
    "    left = i - 1\n",
    "    right = i + 1\n",
    "    up = i - g\n",
    "    down = i + g\n",
    "    if left >= 0 and left < n:\n",
    "        transitions.append(left)\n",
    "    if right >= 0 and right < n:\n",
    "        transitions.append(right)\n",
    "    if up >= 0 and up < n:\n",
    "        transitions.append(up)\n",
    "    if down >= 0 and down < n:\n",
    "        transitions.append(down)\n",
    "    pi_stacionary[i] = len(transitions)\n",
    "    P[i][i] = 0.5\n",
    "    for t in transitions:\n",
    "        P[i][t] = 0.5 / len(transitions)\n",
    "        \n",
    "pi_stacionary = np.matrix(pi_stacionary) / (2*edges)\n",
    "\n",
    "P = np.matrix(P)\n",
    "\n",
    "pi_estimate = [0.0] * n\n",
    "\n",
    "X_grid = []\n",
    "y_grid = []\n",
    "pi_estimate[0] = 1.0\n",
    "\n",
    "pi_estimate = np.matrix(pi_estimate)\n",
    "for i in range(100000):\n",
    "    pi_estimate = pi_estimate * P\n",
    "    if (i+2) in plots:\n",
    "        variancia = (abs(pi_estimate - pi_stacionary)).sum()/2\n",
    "        X_grid.append(i+2)\n",
    "        y_grid.append(variancia)"
   ]
  },
  {
   "cell_type": "code",
   "execution_count": 108,
   "metadata": {
    "collapsed": false
   },
   "outputs": [
    {
     "data": {
      "image/png": "[encoded data removed]",
      "text/plain": [
       "<matplotlib.figure.Figure at 0x14dfbdda080>"
      ]
     },
     "metadata": {},
     "output_type": "display_data"
    }
   ],
   "source": [
    "plt.loglog(X_anel, y_anel, label='Anel')\n",
    "plt.loglog(X_arvore, y_arvore, label='Árvore binária cheia')\n",
    "plt.loglog(X_grid, y_grid, label='Grid 2D')\n",
    "plt.legend()\n",
    "plt.show()"
   ]
  },
  {
   "cell_type": "code",
   "execution_count": 63,
   "metadata": {
    "collapsed": false
   },
   "outputs": [
    {
     "data": {
      "text/plain": [
       "[1.0055443548387095,\n",
       " 0.98943107358870963,\n",
       " 0.97987037070256766,\n",
       " 0.96758915830781556,\n",
       " 0.91516904278826039,\n",
       " 0.84444250602166759,\n",
       " 0.78439909181988821,\n",
       " 0.73117516032260343,\n",
       " 0.51492896141561639,\n",
       " 0.35127291412863637,\n",
       " 0.25370146266869475,\n",
       " 0.18539484447656449,\n",
       " 0.029036850893468458,\n",
       " 0.0078125000000036759,\n",
       " 0.007812500000005872,\n",
       " 0.0078125000000081584,\n",
       " 0.0078125000000202529,\n",
       " 0.0078125000000218124,\n",
       " 0.0078125000000218124,\n",
       " 0.0078125000000218124,\n",
       " 0.0078125000000218124,\n",
       " 0.0078125000000218124]"
      ]
     },
     "execution_count": 63,
     "metadata": {},
     "output_type": "execute_result"
    }
   ],
   "source": [
    "y_grid"
   ]
  },
  {
   "cell_type": "code",
   "execution_count": 64,
   "metadata": {
    "collapsed": false
   },
   "outputs": [
    {
     "data": {
      "text/plain": [
       "matrix([[ 0.00049628,  0.00074442,  0.00074442, ...,  0.00074442,\n",
       "          0.00074442,  0.00049628]])"
      ]
     },
     "execution_count": 64,
     "metadata": {},
     "output_type": "execute_result"
    }
   ],
   "source": [
    "pi_estimate"
   ]
  },
  {
   "cell_type": "code",
   "execution_count": 66,
   "metadata": {
    "collapsed": false
   },
   "outputs": [
    {
     "data": {
      "text/plain": [
       "(1, 1024)"
      ]
     },
     "execution_count": 66,
     "metadata": {},
     "output_type": "execute_result"
    }
   ],
   "source": [
    "pi_estimate.shape"
   ]
  },
  {
   "cell_type": "code",
   "execution_count": 95,
   "metadata": {
    "collapsed": false
   },
   "outputs": [
    {
     "data": {
      "text/plain": [
       "matrix([[ 0.001,  0.001,  0.001,  0.001,  0.001,  0.001,  0.001,  0.001,\n",
       "          0.001,  0.001,  0.001,  0.001,  0.001,  0.001,  0.001,  0.001,\n",
       "          0.001,  0.001,  0.001,  0.001,  0.001,  0.001,  0.001,  0.001,\n",
       "          0.001,  0.001,  0.001,  0.001,  0.001,  0.001,  0.001,  0.001,\n",
       "          0.001,  0.001,  0.001,  0.001,  0.001,  0.001,  0.001,  0.001,\n",
       "          0.001,  0.001,  0.001,  0.001,  0.001,  0.001,  0.001,  0.001,\n",
       "          0.001,  0.001,  0.001,  0.001,  0.001,  0.001,  0.001,  0.001,\n",
       "          0.001,  0.001,  0.001,  0.001,  0.001,  0.001,  0.001,  0.001,\n",
       "          0.001,  0.001,  0.001,  0.001,  0.001,  0.001,  0.001,  0.001,\n",
       "          0.001,  0.001,  0.001,  0.001,  0.001,  0.001,  0.001,  0.001,\n",
       "          0.001,  0.001,  0.001,  0.001,  0.001,  0.001,  0.001,  0.001,\n",
       "          0.001,  0.001,  0.001,  0.001,  0.001,  0.001,  0.001,  0.001,\n",
       "          0.001,  0.001,  0.001,  0.001,  0.001,  0.001,  0.001,  0.001,\n",
       "          0.001,  0.001,  0.001,  0.001,  0.001,  0.001,  0.001,  0.001,\n",
       "          0.001,  0.001,  0.001,  0.001,  0.001,  0.001,  0.001,  0.001,\n",
       "          0.001,  0.001,  0.001,  0.001,  0.001,  0.001,  0.001,  0.001,\n",
       "          0.001,  0.001,  0.001,  0.001,  0.001,  0.001,  0.001,  0.001,\n",
       "          0.001,  0.001,  0.001,  0.001,  0.001,  0.001,  0.001,  0.001,\n",
       "          0.001,  0.001,  0.001,  0.001,  0.001,  0.001,  0.001,  0.001,\n",
       "          0.001,  0.001,  0.001,  0.001,  0.001,  0.001,  0.001,  0.001,\n",
       "          0.001,  0.001,  0.001,  0.001,  0.001,  0.001,  0.001,  0.001,\n",
       "          0.001,  0.001,  0.001,  0.001,  0.001,  0.001,  0.001,  0.001,\n",
       "          0.001,  0.001,  0.001,  0.001,  0.001,  0.001,  0.001,  0.001,\n",
       "          0.001,  0.001,  0.001,  0.001,  0.001,  0.001,  0.001,  0.001,\n",
       "          0.001,  0.001,  0.001,  0.001,  0.001,  0.001,  0.001,  0.001,\n",
       "          0.001,  0.001,  0.001,  0.001,  0.001,  0.001,  0.001,  0.001,\n",
       "          0.001,  0.001,  0.001,  0.001,  0.001,  0.001,  0.001,  0.001,\n",
       "          0.001,  0.001,  0.001,  0.001,  0.001,  0.001,  0.001,  0.001,\n",
       "          0.001,  0.001,  0.001,  0.001,  0.001,  0.001,  0.001,  0.001,\n",
       "          0.001,  0.001,  0.001,  0.001,  0.001,  0.001,  0.001,  0.001,\n",
       "          0.001,  0.001,  0.001,  0.001,  0.001,  0.001,  0.001,  0.001,\n",
       "          0.001,  0.001,  0.001,  0.001,  0.001,  0.001,  0.001,  0.001,\n",
       "          0.001,  0.001,  0.001,  0.001,  0.001,  0.001,  0.001,  0.001,\n",
       "          0.001,  0.001,  0.001,  0.001,  0.001,  0.001,  0.001,  0.001,\n",
       "          0.001,  0.001,  0.001,  0.001,  0.001,  0.001,  0.001,  0.001,\n",
       "          0.001,  0.001,  0.001,  0.001,  0.001,  0.001,  0.001,  0.001,\n",
       "          0.001,  0.001,  0.001,  0.001,  0.001,  0.001,  0.001,  0.001,\n",
       "          0.001,  0.001,  0.001,  0.001,  0.001,  0.001,  0.001,  0.001,\n",
       "          0.001,  0.001,  0.001,  0.001,  0.001,  0.001,  0.001,  0.001,\n",
       "          0.001,  0.001,  0.001,  0.001,  0.001,  0.001,  0.001,  0.001,\n",
       "          0.001,  0.001,  0.001,  0.001,  0.001,  0.001,  0.001,  0.001,\n",
       "          0.001,  0.001,  0.001,  0.001,  0.001,  0.001,  0.001,  0.001,\n",
       "          0.001,  0.001,  0.001,  0.001,  0.001,  0.001,  0.001,  0.001,\n",
       "          0.001,  0.001,  0.001,  0.001,  0.001,  0.001,  0.001,  0.001,\n",
       "          0.001,  0.001,  0.001,  0.001,  0.001,  0.001,  0.001,  0.001,\n",
       "          0.001,  0.001,  0.001,  0.001,  0.001,  0.001,  0.001,  0.001,\n",
       "          0.001,  0.001,  0.001,  0.001,  0.001,  0.001,  0.001,  0.001,\n",
       "          0.001,  0.001,  0.001,  0.001,  0.001,  0.001,  0.001,  0.001,\n",
       "          0.001,  0.001,  0.001,  0.001,  0.001,  0.001,  0.001,  0.001,\n",
       "          0.001,  0.001,  0.001,  0.001,  0.001,  0.001,  0.001,  0.001,\n",
       "          0.001,  0.001,  0.001,  0.001,  0.001,  0.001,  0.001,  0.001,\n",
       "          0.001,  0.001,  0.001,  0.001,  0.001,  0.001,  0.001,  0.001,\n",
       "          0.001,  0.001,  0.001,  0.001,  0.001,  0.001,  0.001,  0.001,\n",
       "          0.001,  0.001,  0.001,  0.001,  0.001,  0.001,  0.001,  0.001,\n",
       "          0.001,  0.001,  0.001,  0.001,  0.001,  0.001,  0.001,  0.001,\n",
       "          0.001,  0.001,  0.001,  0.001,  0.001,  0.001,  0.001,  0.001,\n",
       "          0.001,  0.001,  0.001,  0.001,  0.001,  0.001,  0.001,  0.001,\n",
       "          0.001,  0.001,  0.001,  0.001,  0.001,  0.001,  0.001,  0.001,\n",
       "          0.001,  0.001,  0.001,  0.001,  0.001,  0.001,  0.001,  0.001,\n",
       "          0.001,  0.001,  0.001,  0.001,  0.001,  0.001,  0.001,  0.001,\n",
       "          0.001,  0.001,  0.001,  0.001,  0.001,  0.001,  0.001,  0.001,\n",
       "          0.001,  0.001,  0.001,  0.001,  0.001,  0.001,  0.001,  0.001,\n",
       "          0.001,  0.001,  0.001,  0.001,  0.001,  0.001,  0.001,  0.001,\n",
       "          0.001,  0.001,  0.001,  0.001,  0.001,  0.001,  0.001,  0.001,\n",
       "          0.001,  0.001,  0.001,  0.001,  0.001,  0.001,  0.001,  0.001,\n",
       "          0.001,  0.001,  0.001,  0.001,  0.001,  0.001,  0.001,  0.001,\n",
       "          0.001,  0.001,  0.001,  0.001,  0.001,  0.001,  0.001,  0.001,\n",
       "          0.001,  0.001,  0.001,  0.001,  0.001,  0.001,  0.001,  0.001,\n",
       "          0.001,  0.001,  0.001,  0.001,  0.001,  0.001,  0.001,  0.001,\n",
       "          0.001,  0.001,  0.001,  0.001,  0.001,  0.001,  0.001,  0.001,\n",
       "          0.001,  0.001,  0.001,  0.001,  0.001,  0.001,  0.001,  0.001,\n",
       "          0.001,  0.001,  0.001,  0.001,  0.001,  0.001,  0.001,  0.001,\n",
       "          0.001,  0.001,  0.001,  0.001,  0.001,  0.001,  0.001,  0.001,\n",
       "          0.001,  0.001,  0.001,  0.001,  0.001,  0.001,  0.001,  0.001,\n",
       "          0.001,  0.001,  0.001,  0.001,  0.001,  0.001,  0.001,  0.001,\n",
       "          0.001,  0.001,  0.001,  0.001,  0.001,  0.001,  0.001,  0.001,\n",
       "          0.001,  0.001,  0.001,  0.001,  0.001,  0.001,  0.001,  0.001,\n",
       "          0.001,  0.001,  0.001,  0.001,  0.001,  0.001,  0.001,  0.001,\n",
       "          0.001,  0.001,  0.001,  0.001,  0.001,  0.001,  0.001,  0.001,\n",
       "          0.001,  0.001,  0.001,  0.001,  0.001,  0.001,  0.001,  0.001,\n",
       "          0.001,  0.001,  0.001,  0.001,  0.001,  0.001,  0.001,  0.001,\n",
       "          0.001,  0.001,  0.001,  0.001,  0.001,  0.001,  0.001,  0.001,\n",
       "          0.001,  0.001,  0.001,  0.001,  0.001,  0.001,  0.001,  0.001,\n",
       "          0.001,  0.001,  0.001,  0.001,  0.001,  0.001,  0.001,  0.001,\n",
       "          0.001,  0.001,  0.001,  0.001,  0.001,  0.001,  0.001,  0.001,\n",
       "          0.001,  0.001,  0.001,  0.001,  0.001,  0.001,  0.001,  0.001,\n",
       "          0.001,  0.001,  0.001,  0.001,  0.001,  0.001,  0.001,  0.001,\n",
       "          0.001,  0.001,  0.001,  0.001,  0.001,  0.001,  0.001,  0.001,\n",
       "          0.001,  0.001,  0.001,  0.001,  0.001,  0.001,  0.001,  0.001,\n",
       "          0.001,  0.001,  0.001,  0.001,  0.001,  0.001,  0.001,  0.001,\n",
       "          0.001,  0.001,  0.001,  0.001,  0.001,  0.001,  0.001,  0.001,\n",
       "          0.001,  0.001,  0.001,  0.001,  0.001,  0.001,  0.001,  0.001,\n",
       "          0.001,  0.001,  0.001,  0.001,  0.001,  0.001,  0.001,  0.001,\n",
       "          0.001,  0.001,  0.001,  0.001,  0.001,  0.001,  0.001,  0.001,\n",
       "          0.001,  0.001,  0.001,  0.001,  0.001,  0.001,  0.001,  0.001,\n",
       "          0.001,  0.001,  0.001,  0.001,  0.001,  0.001,  0.001,  0.001,\n",
       "          0.001,  0.001,  0.001,  0.001,  0.001,  0.001,  0.001,  0.001,\n",
       "          0.001,  0.001,  0.001,  0.001,  0.001,  0.001,  0.001,  0.001,\n",
       "          0.001,  0.001,  0.001,  0.001,  0.001,  0.001,  0.001,  0.001,\n",
       "          0.001,  0.001,  0.001,  0.001,  0.001,  0.001,  0.001,  0.001,\n",
       "          0.001,  0.001,  0.001,  0.001,  0.001,  0.001,  0.001,  0.001,\n",
       "          0.001,  0.001,  0.001,  0.001,  0.001,  0.001,  0.001,  0.001,\n",
       "          0.001,  0.001,  0.001,  0.001,  0.001,  0.001,  0.001,  0.001,\n",
       "          0.001,  0.001,  0.001,  0.001,  0.001,  0.001,  0.001,  0.001,\n",
       "          0.001,  0.001,  0.001,  0.001,  0.001,  0.001,  0.001,  0.001,\n",
       "          0.001,  0.001,  0.001,  0.001,  0.001,  0.001,  0.001,  0.001,\n",
       "          0.001,  0.001,  0.001,  0.001,  0.001,  0.001,  0.001,  0.001,\n",
       "          0.001,  0.001,  0.001,  0.001,  0.001,  0.001,  0.001,  0.001,\n",
       "          0.001,  0.001,  0.001,  0.001,  0.001,  0.001,  0.001,  0.001,\n",
       "          0.001,  0.001,  0.001,  0.001,  0.001,  0.001,  0.001,  0.001,\n",
       "          0.001,  0.001,  0.001,  0.001,  0.001,  0.001,  0.001,  0.001,\n",
       "          0.001,  0.001,  0.001,  0.001,  0.001,  0.001,  0.001,  0.001,\n",
       "          0.001,  0.001,  0.001,  0.001,  0.001,  0.001,  0.001,  0.001,\n",
       "          0.001,  0.001,  0.001,  0.001,  0.001,  0.001,  0.001,  0.001,\n",
       "          0.001,  0.001,  0.001,  0.001,  0.001,  0.001,  0.001,  0.001,\n",
       "          0.001,  0.001,  0.001,  0.001,  0.001,  0.001,  0.001,  0.001,\n",
       "          0.001,  0.001,  0.001,  0.001,  0.001,  0.001,  0.001,  0.001,\n",
       "          0.001,  0.001,  0.001,  0.001,  0.001,  0.001,  0.001,  0.001,\n",
       "          0.001,  0.001,  0.001,  0.001,  0.001,  0.001,  0.001,  0.001,\n",
       "          0.001,  0.001,  0.001,  0.001,  0.001,  0.001,  0.001,  0.001,\n",
       "          0.001,  0.001,  0.001,  0.001,  0.001,  0.001,  0.001,  0.001,\n",
       "          0.001,  0.001,  0.001,  0.001,  0.001,  0.001,  0.001,  0.001,\n",
       "          0.001,  0.001,  0.001,  0.001,  0.001,  0.001,  0.001,  0.001,\n",
       "          0.001,  0.001,  0.001,  0.001,  0.001,  0.001,  0.001,  0.001,\n",
       "          0.001,  0.001,  0.001,  0.001,  0.001,  0.001,  0.001,  0.001]])"
      ]
     },
     "execution_count": 95,
     "metadata": {},
     "output_type": "execute_result"
    }
   ],
   "source": [
    "pi_stacionary"
   ]
  },
  {
   "cell_type": "code",
   "execution_count": 104,
   "metadata": {
    "collapsed": false
   },
   "outputs": [
    {
     "data": {
      "text/plain": [
       "matrix([[ 0.00100074,  0.00100074,  0.00100074,  0.00100074,  0.00100074,\n",
       "          0.00100074,  0.00100074,  0.00100074,  0.00100074,  0.00100074,\n",
       "          0.00100074,  0.00100074,  0.00100074,  0.00100074,  0.00100074,\n",
       "          0.00100074,  0.00100074,  0.00100074,  0.00100074,  0.00100074,\n",
       "          0.00100074,  0.00100074,  0.00100074,  0.00100074,  0.00100074,\n",
       "          0.00100074,  0.00100073,  0.00100073,  0.00100073,  0.00100073,\n",
       "          0.00100073,  0.00100073,  0.00100073,  0.00100073,  0.00100073,\n",
       "          0.00100073,  0.00100073,  0.00100072,  0.00100072,  0.00100072,\n",
       "          0.00100072,  0.00100072,  0.00100072,  0.00100072,  0.00100072,\n",
       "          0.00100072,  0.00100071,  0.00100071,  0.00100071,  0.00100071,\n",
       "          0.00100071,  0.00100071,  0.00100071,  0.0010007 ,  0.0010007 ,\n",
       "          0.0010007 ,  0.0010007 ,  0.0010007 ,  0.0010007 ,  0.00100069,\n",
       "          0.00100069,  0.00100069,  0.00100069,  0.00100069,  0.00100069,\n",
       "          0.00100068,  0.00100068,  0.00100068,  0.00100068,  0.00100068,\n",
       "          0.00100067,  0.00100067,  0.00100067,  0.00100067,  0.00100067,\n",
       "          0.00100066,  0.00100066,  0.00100066,  0.00100066,  0.00100065,\n",
       "          0.00100065,  0.00100065,  0.00100065,  0.00100065,  0.00100064,\n",
       "          0.00100064,  0.00100064,  0.00100064,  0.00100063,  0.00100063,\n",
       "          0.00100063,  0.00100063,  0.00100062,  0.00100062,  0.00100062,\n",
       "          0.00100062,  0.00100061,  0.00100061,  0.00100061,  0.00100061,\n",
       "          0.0010006 ,  0.0010006 ,  0.0010006 ,  0.00100059,  0.00100059,\n",
       "          0.00100059,  0.00100059,  0.00100058,  0.00100058,  0.00100058,\n",
       "          0.00100057,  0.00100057,  0.00100057,  0.00100056,  0.00100056,\n",
       "          0.00100056,  0.00100056,  0.00100055,  0.00100055,  0.00100055,\n",
       "          0.00100054,  0.00100054,  0.00100054,  0.00100053,  0.00100053,\n",
       "          0.00100053,  0.00100052,  0.00100052,  0.00100052,  0.00100051,\n",
       "          0.00100051,  0.00100051,  0.0010005 ,  0.0010005 ,  0.0010005 ,\n",
       "          0.00100049,  0.00100049,  0.00100049,  0.00100048,  0.00100048,\n",
       "          0.00100047,  0.00100047,  0.00100047,  0.00100046,  0.00100046,\n",
       "          0.00100046,  0.00100045,  0.00100045,  0.00100045,  0.00100044,\n",
       "          0.00100044,  0.00100043,  0.00100043,  0.00100043,  0.00100042,\n",
       "          0.00100042,  0.00100041,  0.00100041,  0.00100041,  0.0010004 ,\n",
       "          0.0010004 ,  0.0010004 ,  0.00100039,  0.00100039,  0.00100038,\n",
       "          0.00100038,  0.00100038,  0.00100037,  0.00100037,  0.00100036,\n",
       "          0.00100036,  0.00100035,  0.00100035,  0.00100035,  0.00100034,\n",
       "          0.00100034,  0.00100033,  0.00100033,  0.00100033,  0.00100032,\n",
       "          0.00100032,  0.00100031,  0.00100031,  0.0010003 ,  0.0010003 ,\n",
       "          0.0010003 ,  0.00100029,  0.00100029,  0.00100028,  0.00100028,\n",
       "          0.00100027,  0.00100027,  0.00100027,  0.00100026,  0.00100026,\n",
       "          0.00100025,  0.00100025,  0.00100024,  0.00100024,  0.00100023,\n",
       "          0.00100023,  0.00100023,  0.00100022,  0.00100022,  0.00100021,\n",
       "          0.00100021,  0.0010002 ,  0.0010002 ,  0.00100019,  0.00100019,\n",
       "          0.00100019,  0.00100018,  0.00100018,  0.00100017,  0.00100017,\n",
       "          0.00100016,  0.00100016,  0.00100015,  0.00100015,  0.00100014,\n",
       "          0.00100014,  0.00100013,  0.00100013,  0.00100013,  0.00100012,\n",
       "          0.00100012,  0.00100011,  0.00100011,  0.0010001 ,  0.0010001 ,\n",
       "          0.00100009,  0.00100009,  0.00100008,  0.00100008,  0.00100007,\n",
       "          0.00100007,  0.00100007,  0.00100006,  0.00100006,  0.00100005,\n",
       "          0.00100005,  0.00100004,  0.00100004,  0.00100003,  0.00100003,\n",
       "          0.00100002,  0.00100002,  0.00100001,  0.00100001,  0.001     ,\n",
       "          0.001     ,  0.001     ,  0.00099999,  0.00099999,  0.00099998,\n",
       "          0.00099998,  0.00099997,  0.00099997,  0.00099996,  0.00099996,\n",
       "          0.00099995,  0.00099995,  0.00099994,  0.00099994,  0.00099993,\n",
       "          0.00099993,  0.00099993,  0.00099992,  0.00099992,  0.00099991,\n",
       "          0.00099991,  0.0009999 ,  0.0009999 ,  0.00099989,  0.00099989,\n",
       "          0.00099988,  0.00099988,  0.00099987,  0.00099987,  0.00099987,\n",
       "          0.00099986,  0.00099986,  0.00099985,  0.00099985,  0.00099984,\n",
       "          0.00099984,  0.00099983,  0.00099983,  0.00099982,  0.00099982,\n",
       "          0.00099981,  0.00099981,  0.00099981,  0.0009998 ,  0.0009998 ,\n",
       "          0.00099979,  0.00099979,  0.00099978,  0.00099978,  0.00099977,\n",
       "          0.00099977,  0.00099977,  0.00099976,  0.00099976,  0.00099975,\n",
       "          0.00099975,  0.00099974,  0.00099974,  0.00099973,  0.00099973,\n",
       "          0.00099973,  0.00099972,  0.00099972,  0.00099971,  0.00099971,\n",
       "          0.0009997 ,  0.0009997 ,  0.0009997 ,  0.00099969,  0.00099969,\n",
       "          0.00099968,  0.00099968,  0.00099967,  0.00099967,  0.00099967,\n",
       "          0.00099966,  0.00099966,  0.00099965,  0.00099965,  0.00099965,\n",
       "          0.00099964,  0.00099964,  0.00099963,  0.00099963,  0.00099962,\n",
       "          0.00099962,  0.00099962,  0.00099961,  0.00099961,  0.0009996 ,\n",
       "          0.0009996 ,  0.0009996 ,  0.00099959,  0.00099959,  0.00099959,\n",
       "          0.00099958,  0.00099958,  0.00099957,  0.00099957,  0.00099957,\n",
       "          0.00099956,  0.00099956,  0.00099955,  0.00099955,  0.00099955,\n",
       "          0.00099954,  0.00099954,  0.00099954,  0.00099953,  0.00099953,\n",
       "          0.00099953,  0.00099952,  0.00099952,  0.00099951,  0.00099951,\n",
       "          0.00099951,  0.0009995 ,  0.0009995 ,  0.0009995 ,  0.00099949,\n",
       "          0.00099949,  0.00099949,  0.00099948,  0.00099948,  0.00099948,\n",
       "          0.00099947,  0.00099947,  0.00099947,  0.00099946,  0.00099946,\n",
       "          0.00099946,  0.00099945,  0.00099945,  0.00099945,  0.00099944,\n",
       "          0.00099944,  0.00099944,  0.00099944,  0.00099943,  0.00099943,\n",
       "          0.00099943,  0.00099942,  0.00099942,  0.00099942,  0.00099941,\n",
       "          0.00099941,  0.00099941,  0.00099941,  0.0009994 ,  0.0009994 ,\n",
       "          0.0009994 ,  0.00099939,  0.00099939,  0.00099939,  0.00099939,\n",
       "          0.00099938,  0.00099938,  0.00099938,  0.00099938,  0.00099937,\n",
       "          0.00099937,  0.00099937,  0.00099937,  0.00099936,  0.00099936,\n",
       "          0.00099936,  0.00099936,  0.00099935,  0.00099935,  0.00099935,\n",
       "          0.00099935,  0.00099935,  0.00099934,  0.00099934,  0.00099934,\n",
       "          0.00099934,  0.00099933,  0.00099933,  0.00099933,  0.00099933,\n",
       "          0.00099933,  0.00099932,  0.00099932,  0.00099932,  0.00099932,\n",
       "          0.00099932,  0.00099931,  0.00099931,  0.00099931,  0.00099931,\n",
       "          0.00099931,  0.00099931,  0.0009993 ,  0.0009993 ,  0.0009993 ,\n",
       "          0.0009993 ,  0.0009993 ,  0.0009993 ,  0.00099929,  0.00099929,\n",
       "          0.00099929,  0.00099929,  0.00099929,  0.00099929,  0.00099929,\n",
       "          0.00099928,  0.00099928,  0.00099928,  0.00099928,  0.00099928,\n",
       "          0.00099928,  0.00099928,  0.00099928,  0.00099928,  0.00099927,\n",
       "          0.00099927,  0.00099927,  0.00099927,  0.00099927,  0.00099927,\n",
       "          0.00099927,  0.00099927,  0.00099927,  0.00099927,  0.00099927,\n",
       "          0.00099926,  0.00099926,  0.00099926,  0.00099926,  0.00099926,\n",
       "          0.00099926,  0.00099926,  0.00099926,  0.00099926,  0.00099926,\n",
       "          0.00099926,  0.00099926,  0.00099926,  0.00099926,  0.00099926,\n",
       "          0.00099926,  0.00099926,  0.00099926,  0.00099926,  0.00099926,\n",
       "          0.00099926,  0.00099926,  0.00099926,  0.00099926,  0.00099926,\n",
       "          0.00099926,  0.00099926,  0.00099926,  0.00099926,  0.00099926,\n",
       "          0.00099926,  0.00099926,  0.00099926,  0.00099926,  0.00099926,\n",
       "          0.00099926,  0.00099926,  0.00099926,  0.00099926,  0.00099926,\n",
       "          0.00099926,  0.00099926,  0.00099926,  0.00099926,  0.00099926,\n",
       "          0.00099926,  0.00099926,  0.00099926,  0.00099926,  0.00099926,\n",
       "          0.00099926,  0.00099927,  0.00099927,  0.00099927,  0.00099927,\n",
       "          0.00099927,  0.00099927,  0.00099927,  0.00099927,  0.00099927,\n",
       "          0.00099927,  0.00099927,  0.00099928,  0.00099928,  0.00099928,\n",
       "          0.00099928,  0.00099928,  0.00099928,  0.00099928,  0.00099928,\n",
       "          0.00099928,  0.00099929,  0.00099929,  0.00099929,  0.00099929,\n",
       "          0.00099929,  0.00099929,  0.00099929,  0.0009993 ,  0.0009993 ,\n",
       "          0.0009993 ,  0.0009993 ,  0.0009993 ,  0.0009993 ,  0.00099931,\n",
       "          0.00099931,  0.00099931,  0.00099931,  0.00099931,  0.00099931,\n",
       "          0.00099932,  0.00099932,  0.00099932,  0.00099932,  0.00099932,\n",
       "          0.00099933,  0.00099933,  0.00099933,  0.00099933,  0.00099933,\n",
       "          0.00099934,  0.00099934,  0.00099934,  0.00099934,  0.00099935,\n",
       "          0.00099935,  0.00099935,  0.00099935,  0.00099935,  0.00099936,\n",
       "          0.00099936,  0.00099936,  0.00099936,  0.00099937,  0.00099937,\n",
       "          0.00099937,  0.00099937,  0.00099938,  0.00099938,  0.00099938,\n",
       "          0.00099938,  0.00099939,  0.00099939,  0.00099939,  0.00099939,\n",
       "          0.0009994 ,  0.0009994 ,  0.0009994 ,  0.00099941,  0.00099941,\n",
       "          0.00099941,  0.00099941,  0.00099942,  0.00099942,  0.00099942,\n",
       "          0.00099943,  0.00099943,  0.00099943,  0.00099944,  0.00099944,\n",
       "          0.00099944,  0.00099944,  0.00099945,  0.00099945,  0.00099945,\n",
       "          0.00099946,  0.00099946,  0.00099946,  0.00099947,  0.00099947,\n",
       "          0.00099947,  0.00099948,  0.00099948,  0.00099948,  0.00099949,\n",
       "          0.00099949,  0.00099949,  0.0009995 ,  0.0009995 ,  0.0009995 ,\n",
       "          0.00099951,  0.00099951,  0.00099951,  0.00099952,  0.00099952,\n",
       "          0.00099953,  0.00099953,  0.00099953,  0.00099954,  0.00099954,\n",
       "          0.00099954,  0.00099955,  0.00099955,  0.00099955,  0.00099956,\n",
       "          0.00099956,  0.00099957,  0.00099957,  0.00099957,  0.00099958,\n",
       "          0.00099958,  0.00099959,  0.00099959,  0.00099959,  0.0009996 ,\n",
       "          0.0009996 ,  0.0009996 ,  0.00099961,  0.00099961,  0.00099962,\n",
       "          0.00099962,  0.00099962,  0.00099963,  0.00099963,  0.00099964,\n",
       "          0.00099964,  0.00099965,  0.00099965,  0.00099965,  0.00099966,\n",
       "          0.00099966,  0.00099967,  0.00099967,  0.00099967,  0.00099968,\n",
       "          0.00099968,  0.00099969,  0.00099969,  0.0009997 ,  0.0009997 ,\n",
       "          0.0009997 ,  0.00099971,  0.00099971,  0.00099972,  0.00099972,\n",
       "          0.00099973,  0.00099973,  0.00099973,  0.00099974,  0.00099974,\n",
       "          0.00099975,  0.00099975,  0.00099976,  0.00099976,  0.00099977,\n",
       "          0.00099977,  0.00099977,  0.00099978,  0.00099978,  0.00099979,\n",
       "          0.00099979,  0.0009998 ,  0.0009998 ,  0.00099981,  0.00099981,\n",
       "          0.00099981,  0.00099982,  0.00099982,  0.00099983,  0.00099983,\n",
       "          0.00099984,  0.00099984,  0.00099985,  0.00099985,  0.00099986,\n",
       "          0.00099986,  0.00099987,  0.00099987,  0.00099987,  0.00099988,\n",
       "          0.00099988,  0.00099989,  0.00099989,  0.0009999 ,  0.0009999 ,\n",
       "          0.00099991,  0.00099991,  0.00099992,  0.00099992,  0.00099993,\n",
       "          0.00099993,  0.00099993,  0.00099994,  0.00099994,  0.00099995,\n",
       "          0.00099995,  0.00099996,  0.00099996,  0.00099997,  0.00099997,\n",
       "          0.00099998,  0.00099998,  0.00099999,  0.00099999,  0.001     ,\n",
       "          0.001     ,  0.001     ,  0.00100001,  0.00100001,  0.00100002,\n",
       "          0.00100002,  0.00100003,  0.00100003,  0.00100004,  0.00100004,\n",
       "          0.00100005,  0.00100005,  0.00100006,  0.00100006,  0.00100007,\n",
       "          0.00100007,  0.00100007,  0.00100008,  0.00100008,  0.00100009,\n",
       "          0.00100009,  0.0010001 ,  0.0010001 ,  0.00100011,  0.00100011,\n",
       "          0.00100012,  0.00100012,  0.00100013,  0.00100013,  0.00100013,\n",
       "          0.00100014,  0.00100014,  0.00100015,  0.00100015,  0.00100016,\n",
       "          0.00100016,  0.00100017,  0.00100017,  0.00100018,  0.00100018,\n",
       "          0.00100019,  0.00100019,  0.00100019,  0.0010002 ,  0.0010002 ,\n",
       "          0.00100021,  0.00100021,  0.00100022,  0.00100022,  0.00100023,\n",
       "          0.00100023,  0.00100023,  0.00100024,  0.00100024,  0.00100025,\n",
       "          0.00100025,  0.00100026,  0.00100026,  0.00100027,  0.00100027,\n",
       "          0.00100027,  0.00100028,  0.00100028,  0.00100029,  0.00100029,\n",
       "          0.0010003 ,  0.0010003 ,  0.0010003 ,  0.00100031,  0.00100031,\n",
       "          0.00100032,  0.00100032,  0.00100033,  0.00100033,  0.00100033,\n",
       "          0.00100034,  0.00100034,  0.00100035,  0.00100035,  0.00100035,\n",
       "          0.00100036,  0.00100036,  0.00100037,  0.00100037,  0.00100038,\n",
       "          0.00100038,  0.00100038,  0.00100039,  0.00100039,  0.0010004 ,\n",
       "          0.0010004 ,  0.0010004 ,  0.00100041,  0.00100041,  0.00100041,\n",
       "          0.00100042,  0.00100042,  0.00100043,  0.00100043,  0.00100043,\n",
       "          0.00100044,  0.00100044,  0.00100045,  0.00100045,  0.00100045,\n",
       "          0.00100046,  0.00100046,  0.00100046,  0.00100047,  0.00100047,\n",
       "          0.00100047,  0.00100048,  0.00100048,  0.00100049,  0.00100049,\n",
       "          0.00100049,  0.0010005 ,  0.0010005 ,  0.0010005 ,  0.00100051,\n",
       "          0.00100051,  0.00100051,  0.00100052,  0.00100052,  0.00100052,\n",
       "          0.00100053,  0.00100053,  0.00100053,  0.00100054,  0.00100054,\n",
       "          0.00100054,  0.00100055,  0.00100055,  0.00100055,  0.00100056,\n",
       "          0.00100056,  0.00100056,  0.00100056,  0.00100057,  0.00100057,\n",
       "          0.00100057,  0.00100058,  0.00100058,  0.00100058,  0.00100059,\n",
       "          0.00100059,  0.00100059,  0.00100059,  0.0010006 ,  0.0010006 ,\n",
       "          0.0010006 ,  0.00100061,  0.00100061,  0.00100061,  0.00100061,\n",
       "          0.00100062,  0.00100062,  0.00100062,  0.00100062,  0.00100063,\n",
       "          0.00100063,  0.00100063,  0.00100063,  0.00100064,  0.00100064,\n",
       "          0.00100064,  0.00100064,  0.00100065,  0.00100065,  0.00100065,\n",
       "          0.00100065,  0.00100065,  0.00100066,  0.00100066,  0.00100066,\n",
       "          0.00100066,  0.00100067,  0.00100067,  0.00100067,  0.00100067,\n",
       "          0.00100067,  0.00100068,  0.00100068,  0.00100068,  0.00100068,\n",
       "          0.00100068,  0.00100069,  0.00100069,  0.00100069,  0.00100069,\n",
       "          0.00100069,  0.00100069,  0.0010007 ,  0.0010007 ,  0.0010007 ,\n",
       "          0.0010007 ,  0.0010007 ,  0.0010007 ,  0.00100071,  0.00100071,\n",
       "          0.00100071,  0.00100071,  0.00100071,  0.00100071,  0.00100071,\n",
       "          0.00100072,  0.00100072,  0.00100072,  0.00100072,  0.00100072,\n",
       "          0.00100072,  0.00100072,  0.00100072,  0.00100072,  0.00100073,\n",
       "          0.00100073,  0.00100073,  0.00100073,  0.00100073,  0.00100073,\n",
       "          0.00100073,  0.00100073,  0.00100073,  0.00100073,  0.00100073,\n",
       "          0.00100074,  0.00100074,  0.00100074,  0.00100074,  0.00100074,\n",
       "          0.00100074,  0.00100074,  0.00100074,  0.00100074,  0.00100074,\n",
       "          0.00100074,  0.00100074,  0.00100074,  0.00100074,  0.00100074,\n",
       "          0.00100074,  0.00100074,  0.00100074,  0.00100074,  0.00100074,\n",
       "          0.00100074,  0.00100074,  0.00100074,  0.00100074,  0.00100074]])"
      ]
     },
     "execution_count": 104,
     "metadata": {},
     "output_type": "execute_result"
    }
   ],
   "source": [
    "pi_estimate"
   ]
  },
  {
   "cell_type": "code",
   "execution_count": 83,
   "metadata": {
    "collapsed": false
   },
   "outputs": [
    {
     "data": {
      "text/plain": [
       "(1000, 1000)"
      ]
     },
     "execution_count": 83,
     "metadata": {},
     "output_type": "execute_result"
    }
   ],
   "source": [
    "P.shape"
   ]
  },
  {
   "cell_type": "code",
   "execution_count": 103,
   "metadata": {
    "collapsed": false
   },
   "outputs": [
    {
     "data": {
      "text/plain": [
       "[0.99700000000000033,\n",
       " 0.99100000000000033,\n",
       " 0.98851171875000032,\n",
       " 0.98568774414062532,\n",
       " 0.97691189266600387,\n",
       " 0.96781132149519622,\n",
       " 0.96113541878285402,\n",
       " 0.95555592374312315,\n",
       " 0.93286743832415553,\n",
       " 0.90868855222576883,\n",
       " 0.89091990135990873,\n",
       " 0.87634618180953794,\n",
       " 0.81666442102428638,\n",
       " 0.75466946174471783,\n",
       " 0.71004104190344119,\n",
       " 0.67408658054297288,\n",
       " 0.53264255608092259,\n",
       " 0.3961044072777436,\n",
       " 0.30518034452869491,\n",
       " 0.23756297908784257,\n",
       " 0.23755825563641964,\n",
       " 0.23755117063831357,\n",
       " 0.23754644742559219,\n",
       " 0.23753936278552923,\n",
       " 0.23750394280733494,\n",
       " 0.2374449214423493,\n",
       " 0.23738591498901673,\n",
       " 0.23732692344346915,\n",
       " 0.23697328701715129,\n",
       " 0.23638508302013517,\n",
       " 0.23579836323862538,\n",
       " 0.23521339496512533,\n",
       " 0.23173599579363763,\n",
       " 0.22605571997243568,\n",
       " 0.2205201502701058,\n",
       " 0.21512228221285595,\n",
       " 0.1854463084053089,\n",
       " 0.1448654244986981,\n",
       " 0.11318377927114075,\n",
       " 0.088434609288922356,\n",
       " 0.088432863630609926,\n",
       " 0.088430245207755442,\n",
       " 0.088428499635594238,\n",
       " 0.0884258813419634,\n",
       " 0.088412791036730068,\n",
       " 0.088390978167846024,\n",
       " 0.088369170680941661,\n",
       " 0.088347368574688695,\n",
       " 0.08821666885650721,\n",
       " 0.087999265560619377,\n",
       " 0.087782398077069196,\n",
       " 0.087566065084934558,\n",
       " 0.086279217889905335,\n",
       " 0.084176362711637476,\n",
       " 0.082124762904681486,\n",
       " 0.080123168874028344,\n",
       " 0.069097497928842955,\n",
       " 0.053988761772236764,\n",
       " 0.042183721170876466,\n",
       " 0.03295995693935469,\n",
       " 0.03295930634038273,\n",
       " 0.032958330466003979,\n",
       " 0.032957679899137234,\n",
       " 0.032956704072915094,\n",
       " 0.032951825375179704,\n",
       " 0.032943695817154041,\n",
       " 0.032935568264782743,\n",
       " 0.032927442717570983,\n",
       " 0.032878731514955961,\n",
       " 0.032797706260575862,\n",
       " 0.032716880682912466,\n",
       " 0.032636254289879693,\n",
       " 0.032156651404536385,\n",
       " 0.031372924234999891,\n",
       " 0.030608298255343877,\n",
       " 0.02986230792078011,\n",
       " 0.02575303938977181,\n",
       " 0.020121965514366257,\n",
       " 0.01572216440410364,\n",
       " 0.012284409297885195,\n",
       " 0.0027951556783200968,\n",
       " 0.00023704213820231398]"
      ]
     },
     "execution_count": 103,
     "metadata": {},
     "output_type": "execute_result"
    }
   ],
   "source": [
    "y_anel"
   ]
  },
  {
   "cell_type": "code",
   "execution_count": 105,
   "metadata": {
    "collapsed": false
   },
   "outputs": [
    {
     "ename": "KeyboardInterrupt",
     "evalue": "",
     "output_type": "error",
     "traceback": [
      "\u001b[0;31m---------------------------------------------------------------------------\u001b[0m",
      "\u001b[0;31mKeyboardInterrupt\u001b[0m                         Traceback (most recent call last)",
      "\u001b[0;32m<ipython-input-105-b979ab4dd232>\u001b[0m in \u001b[0;36m<module>\u001b[0;34m()\u001b[0m\n\u001b[1;32m      1\u001b[0m \u001b[1;32mfor\u001b[0m \u001b[0mi\u001b[0m \u001b[1;32min\u001b[0m \u001b[0mrange\u001b[0m\u001b[1;33m(\u001b[0m\u001b[1;36m500000\u001b[0m\u001b[1;33m)\u001b[0m\u001b[1;33m:\u001b[0m\u001b[1;33m\u001b[0m\u001b[0m\n\u001b[0;32m----> 2\u001b[0;31m     \u001b[0mpi_estimate\u001b[0m \u001b[1;33m=\u001b[0m \u001b[0mpi_estimate\u001b[0m \u001b[1;33m*\u001b[0m \u001b[0mP\u001b[0m\u001b[1;33m\u001b[0m\u001b[0m\n\u001b[0m\u001b[1;32m      3\u001b[0m     \u001b[1;32mif\u001b[0m \u001b[1;33m(\u001b[0m\u001b[0mi\u001b[0m\u001b[1;33m+\u001b[0m\u001b[1;36m2\u001b[0m\u001b[1;33m)\u001b[0m \u001b[1;32min\u001b[0m \u001b[0mplots\u001b[0m\u001b[1;33m:\u001b[0m\u001b[1;33m\u001b[0m\u001b[0m\n\u001b[1;32m      4\u001b[0m         \u001b[0mvariancia\u001b[0m \u001b[1;33m=\u001b[0m \u001b[1;33m(\u001b[0m\u001b[0mabs\u001b[0m\u001b[1;33m(\u001b[0m\u001b[0mpi_estimate\u001b[0m \u001b[1;33m-\u001b[0m \u001b[0mpi_stacionary\u001b[0m\u001b[1;33m)\u001b[0m\u001b[1;33m)\u001b[0m\u001b[1;33m.\u001b[0m\u001b[0msum\u001b[0m\u001b[1;33m(\u001b[0m\u001b[1;33m)\u001b[0m\u001b[1;33m/\u001b[0m\u001b[1;36m2\u001b[0m\u001b[1;33m\u001b[0m\u001b[0m\n\u001b[1;32m      5\u001b[0m         \u001b[0mX_anel\u001b[0m\u001b[1;33m.\u001b[0m\u001b[0mappend\u001b[0m\u001b[1;33m(\u001b[0m\u001b[0mi\u001b[0m\u001b[1;33m+\u001b[0m\u001b[1;36m2\u001b[0m\u001b[1;33m)\u001b[0m\u001b[1;33m\u001b[0m\u001b[0m\n",
      "\u001b[0;32mC:\\ProgramData\\Anaconda3\\lib\\site-packages\\numpy\\matrixlib\\defmatrix.py\u001b[0m in \u001b[0;36m__mul__\u001b[0;34m(self, other)\u001b[0m\n\u001b[1;32m    341\u001b[0m         \u001b[1;32mif\u001b[0m \u001b[0misinstance\u001b[0m\u001b[1;33m(\u001b[0m\u001b[0mother\u001b[0m\u001b[1;33m,\u001b[0m \u001b[1;33m(\u001b[0m\u001b[0mN\u001b[0m\u001b[1;33m.\u001b[0m\u001b[0mndarray\u001b[0m\u001b[1;33m,\u001b[0m \u001b[0mlist\u001b[0m\u001b[1;33m,\u001b[0m \u001b[0mtuple\u001b[0m\u001b[1;33m)\u001b[0m\u001b[1;33m)\u001b[0m \u001b[1;33m:\u001b[0m\u001b[1;33m\u001b[0m\u001b[0m\n\u001b[1;32m    342\u001b[0m             \u001b[1;31m# This promotes 1-D vectors to row vectors\u001b[0m\u001b[1;33m\u001b[0m\u001b[1;33m\u001b[0m\u001b[0m\n\u001b[0;32m--> 343\u001b[0;31m             \u001b[1;32mreturn\u001b[0m \u001b[0mN\u001b[0m\u001b[1;33m.\u001b[0m\u001b[0mdot\u001b[0m\u001b[1;33m(\u001b[0m\u001b[0mself\u001b[0m\u001b[1;33m,\u001b[0m \u001b[0masmatrix\u001b[0m\u001b[1;33m(\u001b[0m\u001b[0mother\u001b[0m\u001b[1;33m)\u001b[0m\u001b[1;33m)\u001b[0m\u001b[1;33m\u001b[0m\u001b[0m\n\u001b[0m\u001b[1;32m    344\u001b[0m         \u001b[1;32mif\u001b[0m \u001b[0misscalar\u001b[0m\u001b[1;33m(\u001b[0m\u001b[0mother\u001b[0m\u001b[1;33m)\u001b[0m \u001b[1;32mor\u001b[0m \u001b[1;32mnot\u001b[0m \u001b[0mhasattr\u001b[0m\u001b[1;33m(\u001b[0m\u001b[0mother\u001b[0m\u001b[1;33m,\u001b[0m \u001b[1;34m'__rmul__'\u001b[0m\u001b[1;33m)\u001b[0m \u001b[1;33m:\u001b[0m\u001b[1;33m\u001b[0m\u001b[0m\n\u001b[1;32m    345\u001b[0m             \u001b[1;32mreturn\u001b[0m \u001b[0mN\u001b[0m\u001b[1;33m.\u001b[0m\u001b[0mdot\u001b[0m\u001b[1;33m(\u001b[0m\u001b[0mself\u001b[0m\u001b[1;33m,\u001b[0m \u001b[0mother\u001b[0m\u001b[1;33m)\u001b[0m\u001b[1;33m\u001b[0m\u001b[0m\n",
      "\u001b[0;31mKeyboardInterrupt\u001b[0m: "
     ]
    }
   ],
   "source": [
    "for i in range(500000):\n",
    "    pi_estimate = pi_estimate * P\n",
    "    if (i+2) in plots:\n",
    "        variancia = (abs(pi_estimate - pi_stacionary)).sum()/2\n",
    "        X_anel.append(i+2)\n",
    "        y_anel.append(variancia)"
   ]
  },
  {
   "cell_type": "code",
   "execution_count": null,
   "metadata": {
    "collapsed": true
   },
   "outputs": [],
   "source": []
  }
 ],
 "metadata": {
  "anaconda-cloud": {},
  "kernelspec": {
   "display_name": "Python 3",
   "language": "python",
   "name": "python3"
  },
  "language_info": {
   "codemirror_mode": {
    "name": "ipython",
    "version": 3
   },
   "file_extension": ".py",
   "mimetype": "text/x-python",
   "name": "python",
   "nbconvert_exporter": "python",
   "pygments_lexer": "ipython3",
   "version": "3.6.0"
  }
 },
 "nbformat": 4,
 "nbformat_minor": 1
}
