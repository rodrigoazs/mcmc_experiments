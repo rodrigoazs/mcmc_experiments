{
 "cells": [
  {
   "cell_type": "code",
   "execution_count": 2,
   "metadata": {
    "collapsed": false
   },
   "outputs": [],
   "source": [
    "import requests\n",
    "from random import randint\n",
    "\n",
    "k=4\n",
    "probs = [26**i for i in range(k+1)]\n",
    "total = 0\n",
    "cumulative = []\n",
    "for i in probs:\n",
    "    total += i\n",
    "    cumulative.append(total)\n",
    "    \n",
    "def experiment(n=1000):\n",
    "    exists = 0  \n",
    "    for i in range(n):\n",
    "        draw = randint(1, total)\n",
    "        if draw == 1:\n",
    "            print('Found domain www.ufrj.br')\n",
    "            exists += 1\n",
    "            continue\n",
    "        else:\n",
    "            for j in range(1, len(cumulative)):\n",
    "                if draw <= cumulative[j]:\n",
    "                    r = get_random_domain(j)\n",
    "                    if get_status(r):\n",
    "                        print('Found domain www.' + r + '.ufrj.br')\n",
    "                        exists += 1\n",
    "    return exists\n",
    "\n",
    "def experiment_for_k(n=1000, k=4):\n",
    "    if k == 0:\n",
    "        return 1\n",
    "    exists = 0  \n",
    "    for i in range(n):\n",
    "        r = get_random_domain(k)\n",
    "        if get_status(r):\n",
    "            print('Found domain www.' + r + '.ufrj.br')\n",
    "            exists += 1\n",
    "    return exists\n",
    "    \n",
    "def get_random_domain(k):\n",
    "    ret = ''\n",
    "    for i in range(k):\n",
    "        ret += chr(randint(0,25) + 97)\n",
    "    return ret\n",
    "\n",
    "def get_status_fake(string):\n",
    "    r = random.random()\n",
    "    return 1 if r < 0.05 else 0\n",
    "    \n",
    "def get_status(string):\n",
    "    try:\n",
    "        url = 'http://www.' + string + '.ufrj.br'\n",
    "        r = requests.head(url)\n",
    "        return 1 if r.status_code == 200 else 0\n",
    "    except:\n",
    "        return 0\n"
   ]
  },
  {
   "cell_type": "code",
   "execution_count": 2,
   "metadata": {
    "collapsed": false
   },
   "outputs": [
    {
     "name": "stderr",
     "output_type": "stream",
     "text": [
      "C:\\ProgramData\\Anaconda3\\lib\\site-packages\\ipykernel\\__main__.py:22: VisibleDeprecationWarning: converting an array with ndim > 0 to an index will result in an error in the future\n"
     ]
    },
    {
     "name": "stdout",
     "output_type": "stream",
     "text": [
      "Found domain www.coep.ufrj.br\n",
      "Found domain www.if.ufrj.br\n"
     ]
    }
   ],
   "source": [
    "n = experiment(n = 10000)"
   ]
  },
  {
   "cell_type": "code",
   "execution_count": 3,
   "metadata": {
    "collapsed": false
   },
   "outputs": [
    {
     "name": "stderr",
     "output_type": "stream",
     "text": [
      "C:\\ProgramData\\Anaconda3\\lib\\site-packages\\ipykernel\\__main__.py:22: VisibleDeprecationWarning: converting an array with ndim > 0 to an index will result in an error in the future\n"
     ]
    }
   ],
   "source": [
    "n_1000 = experiment(n = 1000)"
   ]
  },
  {
   "cell_type": "code",
   "execution_count": 6,
   "metadata": {
    "collapsed": false
   },
   "outputs": [
    {
     "name": "stderr",
     "output_type": "stream",
     "text": [
      "C:\\ProgramData\\Anaconda3\\lib\\site-packages\\ipykernel\\__main__.py:22: VisibleDeprecationWarning: converting an array with ndim > 0 to an index will result in an error in the future\n"
     ]
    }
   ],
   "source": [
    "n_100 = experiment(n = 100)"
   ]
  },
  {
   "cell_type": "code",
   "execution_count": 9,
   "metadata": {
    "collapsed": false
   },
   "outputs": [
    {
     "name": "stderr",
     "output_type": "stream",
     "text": [
      "C:\\ProgramData\\Anaconda3\\lib\\site-packages\\ipykernel\\__main__.py:22: VisibleDeprecationWarning: converting an array with ndim > 0 to an index will result in an error in the future\n"
     ]
    },
    {
     "name": "stdout",
     "output_type": "stream",
     "text": [
      "Found domain www.poli.ufrj.br\n"
     ]
    }
   ],
   "source": [
    "n_2500 = experiment(n = 2500)"
   ]
  },
  {
   "cell_type": "code",
   "execution_count": 8,
   "metadata": {
    "collapsed": false
   },
   "outputs": [
    {
     "name": "stderr",
     "output_type": "stream",
     "text": [
      "C:\\ProgramData\\Anaconda3\\lib\\site-packages\\ipykernel\\__main__.py:22: VisibleDeprecationWarning: converting an array with ndim > 0 to an index will result in an error in the future\n"
     ]
    }
   ],
   "source": [
    "n_10 = experiment(n = 10)"
   ]
  },
  {
   "cell_type": "code",
   "execution_count": 14,
   "metadata": {
    "collapsed": false
   },
   "outputs": [
    {
     "name": "stderr",
     "output_type": "stream",
     "text": [
      "C:\\ProgramData\\Anaconda3\\lib\\site-packages\\ipykernel\\__main__.py:22: VisibleDeprecationWarning: converting an array with ndim > 0 to an index will result in an error in the future\n"
     ]
    },
    {
     "name": "stdout",
     "output_type": "stream",
     "text": [
      "Found domain www.eba.ufrj.br\n"
     ]
    }
   ],
   "source": [
    "n_5000 = experiment(n = 5000)"
   ]
  },
  {
   "cell_type": "code",
   "execution_count": 18,
   "metadata": {
    "collapsed": false
   },
   "outputs": [
    {
     "name": "stderr",
     "output_type": "stream",
     "text": [
      "C:\\ProgramData\\Anaconda3\\lib\\site-packages\\ipykernel\\__main__.py:22: VisibleDeprecationWarning: converting an array with ndim > 0 to an index will result in an error in the future\n"
     ]
    }
   ],
   "source": [
    "n_1 = experiment(n = 1)"
   ]
  },
  {
   "cell_type": "code",
   "execution_count": null,
   "metadata": {
    "collapsed": false
   },
   "outputs": [
    {
     "name": "stderr",
     "output_type": "stream",
     "text": [
      "C:\\ProgramData\\Anaconda3\\lib\\site-packages\\ipykernel\\__main__.py:22: VisibleDeprecationWarning: converting an array with ndim > 0 to an index will result in an error in the future\n"
     ]
    }
   ],
   "source": [
    "n_7500 = experiment(n = 7500)"
   ]
  },
  {
   "cell_type": "code",
   "execution_count": 19,
   "metadata": {
    "collapsed": false
   },
   "outputs": [],
   "source": [
    "w = [n_1/1, n_10/10, n_100/100, n_1000/1000, n_2500/2500, n_5000/5000, n/10000]"
   ]
  },
  {
   "cell_type": "code",
   "execution_count": 21,
   "metadata": {
    "collapsed": false
   },
   "outputs": [],
   "source": [
    "x = [1, 10, 100, 1000, 2500, 5000, 10000]"
   ]
  },
  {
   "cell_type": "code",
   "execution_count": 23,
   "metadata": {
    "collapsed": false
   },
   "outputs": [],
   "source": [
    "probs = [26**i for i in range(4+1)]\n",
    "s = np.sum(probs)"
   ]
  },
  {
   "cell_type": "code",
   "execution_count": 24,
   "metadata": {
    "collapsed": false
   },
   "outputs": [
    {
     "data": {
      "text/plain": [
       "475255"
      ]
     },
     "execution_count": 24,
     "metadata": {},
     "output_type": "execute_result"
    }
   ],
   "source": [
    "s"
   ]
  },
  {
   "cell_type": "code",
   "execution_count": 27,
   "metadata": {
    "collapsed": true
   },
   "outputs": [],
   "source": [
    "y = np.dot(w, s)"
   ]
  },
  {
   "cell_type": "code",
   "execution_count": 28,
   "metadata": {
    "collapsed": false
   },
   "outputs": [
    {
     "data": {
      "text/plain": [
       "array([   0.   ,    0.   ,    0.   ,    0.   ,  190.102,   95.051,   95.051])"
      ]
     },
     "execution_count": 28,
     "metadata": {},
     "output_type": "execute_result"
    }
   ],
   "source": [
    "y"
   ]
  },
  {
   "cell_type": "code",
   "execution_count": 30,
   "metadata": {
    "collapsed": false
   },
   "outputs": [
    {
     "data": {
      "image/png": "[encoded data removed]",
      "text/plain": [
       "<matplotlib.figure.Figure at 0x24102d2b0b8>"
      ]
     },
     "metadata": {},
     "output_type": "display_data"
    }
   ],
   "source": [
    "import matplotlib.pyplot as plt\n",
    "plt.plot(x, y)\n",
    "plt.show()"
   ]
  },
  {
   "cell_type": "code",
   "execution_count": 7,
   "metadata": {
    "collapsed": false
   },
   "outputs": [],
   "source": [
    "import numpy as np\n",
    "rg = np.arange(1000, 100000, 5000)"
   ]
  },
  {
   "cell_type": "code",
   "execution_count": null,
   "metadata": {
    "collapsed": false
   },
   "outputs": [
    {
     "name": "stdout",
     "output_type": "stream",
     "text": [
      "In 1000 observations.\n"
     ]
    }
   ],
   "source": [
    "for t in rg:\n",
    "    print('In ' + str(t) + ' observations.')\n",
    "    experiment(n=t)"
   ]
  },
  {
   "cell_type": "code",
   "execution_count": null,
   "metadata": {
    "collapsed": false
   },
   "outputs": [],
   "source": [
    "experiment_for_k(n=1000, k=2)"
   ]
  },
  {
   "cell_type": "code",
   "execution_count": 4,
   "metadata": {
    "collapsed": false
   },
   "outputs": [
    {
     "name": "stdout",
     "output_type": "stream",
     "text": [
      "Found domain www.dcc.ufrj.br\n",
      "Found domain www.etu.ufrj.br\n",
      "Found domain www.fnm.ufrj.br\n",
      "Found domain www.nce.ufrj.br\n",
      "Found domain www.nce.ufrj.br\n",
      "Found domain www.etu.ufrj.br\n",
      "Found domain www.eei.ufrj.br\n",
      "Found domain www.cav.ufrj.br\n",
      "Found domain www.ged.ufrj.br\n",
      "Found domain www.pgi.ufrj.br\n",
      "Found domain www.cva.ufrj.br\n",
      "Found domain www.oec.ufrj.br\n",
      "Found domain www.lee.ufrj.br\n",
      "Found domain www.cav.ufrj.br\n",
      "Found domain www.coe.ufrj.br\n",
      "Found domain www.tic.ufrj.br\n"
     ]
    },
    {
     "data": {
      "text/plain": [
       "16"
      ]
     },
     "execution_count": 4,
     "metadata": {},
     "output_type": "execute_result"
    }
   ],
   "source": [
    "experiment_for_k(n=5000, k=3)"
   ]
  },
  {
   "cell_type": "code",
   "execution_count": null,
   "metadata": {
    "collapsed": true
   },
   "outputs": [],
   "source": []
  }
 ],
 "metadata": {
  "kernelspec": {
   "display_name": "Python 3",
   "language": "python",
   "name": "python3"
  },
  "language_info": {
   "codemirror_mode": {
    "name": "ipython",
    "version": 3
   },
   "file_extension": ".py",
   "mimetype": "text/x-python",
   "name": "python",
   "nbconvert_exporter": "python",
   "pygments_lexer": "ipython3",
   "version": "3.6.0"
  }
 },
 "nbformat": 4,
 "nbformat_minor": 2
}
